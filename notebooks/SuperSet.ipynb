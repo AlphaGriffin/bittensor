{
 "cells": [
  {
   "cell_type": "code",
   "execution_count": 1,
   "metadata": {},
   "outputs": [],
   "source": [
    "import pandas as pd\n",
    "import ccxt\n",
    "import time\n",
    "from timeit import default_timer as timer\n",
    "from matplotlib import pyplot\n",
    "from decimal import Decimal as D\n",
    "import numpy as np"
   ]
  },
  {
   "cell_type": "code",
   "execution_count": 2,
   "metadata": {},
   "outputs": [],
   "source": [
    "this_exchange = ccxt.poloniex()"
   ]
  },
  {
   "cell_type": "code",
   "execution_count": 3,
   "metadata": {},
   "outputs": [],
   "source": [
    "if False:\n",
    "    for i in POLO.__dict__:\n",
    "        if '__' not in i:\n",
    "            if 'fetch' in i:\n",
    "                print(i)"
   ]
  },
  {
   "cell_type": "code",
   "execution_count": 4,
   "metadata": {},
   "outputs": [],
   "source": [
    "ticker = this_exchange.fetchTickers()"
   ]
  },
  {
   "cell_type": "code",
   "execution_count": 5,
   "metadata": {
    "scrolled": false
   },
   "outputs": [
    {
     "name": "stdout",
     "output_type": "stream",
     "text": [
      "BTS/BTC\n",
      "Elements in Dataset: 364136\n",
      "Downloading this coin took: 14.56 secs\n",
      "CLAM/BTC\n",
      "Elements in Dataset: 376217\n",
      "Downloading this coin took: 11.62 secs\n",
      "DASH/BTC\n",
      "Elements in Dataset: 418631\n",
      "Downloading this coin took: 14.23 secs\n",
      "DOGE/BTC\n",
      "Elements in Dataset: 423500\n",
      "Downloading this coin took: 15.41 secs\n",
      "MAID/BTC\n",
      "Elements in Dataset: 374907\n",
      "Downloading this coin took: 10.10 secs\n",
      "XMR/BTC\n",
      "Elements in Dataset: 389725\n",
      "Downloading this coin took: 18.46 secs\n",
      "XRP/BTC\n",
      "Elements in Dataset: 364688\n",
      "Downloading this coin took: 16.68 secs\n",
      "ETH/BTC\n",
      "Elements in Dataset: 261281\n",
      "Downloading this coin took: 11.10 secs\n",
      "FCT/BTC\n",
      "Elements in Dataset: 244639\n",
      "Downloading this coin took: 12.03 secs\n",
      "Min length of all sets is 244639 samples\n",
      "Collected All Datasets. Took 2843523.89 mins\n"
     ]
    }
   ],
   "source": [
    "coins_not_working = ['LTC/BTC', 'STR/BTC']\n",
    "coins_to_use = ['ETH/BTC', 'XRP/BTC', 'DASH/BTC' , 'XMR/BTC',\n",
    "                'BTS/BTC', 'DOGE/BTC', 'FCT/BTC', 'MAID/BTC', 'CLAM/BTC']\n",
    "coins_collected = []\n",
    "datasets = []\n",
    "min_len = 10000000\n",
    "start_data_gen = timer()\n",
    "for index, pair in enumerate(ticker):\n",
    "    if pair in coins_to_use:\n",
    "        if pair not in coins_collected:\n",
    "            print(pair)\n",
    "            # SLEEP!! DO NOT GET BANNED!\n",
    "            time.sleep (this_exchange.rateLimit / 400)\n",
    "            start_call = timer()\n",
    "            chart = this_exchange.fetchOhlcv(pair, \n",
    "                                             timeframe = '5m', # polo only offers the 5m\n",
    "                                             since = int(1515974400)\n",
    "                                             )\n",
    "            df = pd.DataFrame(\n",
    "                chart, \n",
    "                columns=['time','open','high','low','close','vol']\n",
    "            )\n",
    "            df.pair = pair\n",
    "            this_len = len(df)\n",
    "            if this_len < min_len:\n",
    "                min_len = this_len\n",
    "            print('Elements in Dataset:', this_len)\n",
    "            print('Downloading this coin took: {:.2f} secs'.format(timer()-start_call))\n",
    "            datasets.append(df)\n",
    "            coins_collected.append(pair)\n",
    "print('Min length of all sets is {} samples'.format(min_len))\n",
    "print('Collected All Datasets. Took {:.2f} mins'.format(timer()-start_data_gen/60))        "
   ]
  },
  {
   "cell_type": "code",
   "execution_count": 7,
   "metadata": {},
   "outputs": [
    {
     "name": "stdout",
     "output_type": "stream",
     "text": [
      "BTS/BTC 364136\n",
      "Start of set 1444003200000\n",
      "end of set 1517394600000\n",
      "New set len 244639\n",
      "CLAM/BTC 376217\n",
      "Start of set 1444002900000\n",
      "end of set 1517394300000\n",
      "New set len 244639\n",
      "DASH/BTC 418631\n",
      "Start of set 1444003200000\n",
      "end of set 1517394600000\n",
      "New set len 244639\n",
      "DOGE/BTC 423500\n",
      "Start of set 1444003200000\n",
      "end of set 1517394600000\n",
      "New set len 244639\n",
      "MAID/BTC 374907\n",
      "Start of set 1444003200000\n",
      "end of set 1517394600000\n",
      "New set len 244639\n",
      "XMR/BTC 389725\n",
      "Start of set 1444003200000\n",
      "end of set 1517394600000\n",
      "New set len 244639\n",
      "XRP/BTC 364688\n",
      "Start of set 1444003200000\n",
      "end of set 1517394600000\n",
      "New set len 244639\n",
      "ETH/BTC 261281\n",
      "Start of set 1444003200000\n",
      "end of set 1517394600000\n",
      "New set len 244639\n",
      "FCT/BTC 244639\n",
      "this is the lowest len df and not changing\n",
      "Start of set 1444003200000\n",
      "end of set 1517394600000\n",
      "New set len 244639\n"
     ]
    }
   ],
   "source": [
    "# the end time in all datasets is the same... so take the min_len to the end\n",
    "new_datasets = []\n",
    "for d in datasets:\n",
    "    pair = d.pair\n",
    "    this_len = len(d)\n",
    "    print(pair, this_len)\n",
    "    if this_len == min_len:\n",
    "        print('this is the lowest len df and not changing')\n",
    "        time_of_start = d['time'][0]\n",
    "        time_of_end = d['time'][len(d['time'])-1]\n",
    "        new_datasets.append(d) \n",
    "    elif this_len > min_len:\n",
    "        trim_section_start = len(d['time']) - min_len\n",
    "        time_of_start = d['time'][trim_section_start]\n",
    "        time_of_end = d['time'][len(d['time'])-1]\n",
    "        df = d[trim_section_start:]\n",
    "        df.pair = pair\n",
    "        new_datasets.append(df)    \n",
    "    print('Start of set {}'.format(time_of_start))\n",
    "    print('end of set {}'.format(time_of_end))\n",
    "    print('New set len {}'.format(len(df)))\n",
    "    "
   ]
  },
  {
   "cell_type": "code",
   "execution_count": 8,
   "metadata": {},
   "outputs": [
    {
     "name": "stdout",
     "output_type": "stream",
     "text": [
      "BTS/BTC 244639\n",
      "CLAM/BTC 244639\n",
      "DASH/BTC 244639\n",
      "DOGE/BTC 244639\n",
      "MAID/BTC 244639\n",
      "XMR/BTC 244639\n",
      "XRP/BTC 244639\n",
      "ETH/BTC 244639\n",
      "FCT/BTC 244639\n"
     ]
    }
   ],
   "source": [
    "min_size = None\n",
    "\n",
    "for set_ in new_datasets:\n",
    "    size = len(set_)\n",
    "    if min_size is None or size < min_size:\n",
    "        min_size = size\n",
    "    print(set_.pair, size)"
   ]
  },
  {
   "cell_type": "code",
   "execution_count": 9,
   "metadata": {},
   "outputs": [
    {
     "data": {
      "image/png": "[encoded data removed]",
      "text/plain": [
       "<matplotlib.figure.Figure at 0x115eea048>"
      ]
     },
     "metadata": {},
     "output_type": "display_data"
    }
   ],
   "source": [
    "pyplot.figure()\n",
    "i = 1\n",
    "for set_ in new_datasets:\n",
    "    pyplot.subplot(len(new_datasets), 3, i)\n",
    "    pyplot.plot(set_['close'])\n",
    "    pyplot.axis('off')\n",
    "    pyplot.title(set_.pair, y=.75, loc='left')\n",
    "    i += 1\n",
    "pyplot.show()"
   ]
  },
  {
   "cell_type": "code",
   "execution_count": 10,
   "metadata": {},
   "outputs": [],
   "source": [
    "# WHAT DO I WANT FOR COLUMNS!?!?!?!?!\n",
    "# Each input will have 20 values\n",
    "# input1 = [[last][vol][last -60 elements]]\n",
    "# input2 = [[low][high][mean*]]\n",
    "# input3 = [[bollinger high][bollinger low][mean**]]\n",
    "# ###\n",
    "# input4 = [[twitter sent][twittervol]]\n",
    "# ###\n",
    "# output1 = [time, time+1, time+2] # doesnt matter what the input all the outputs will be the same and averaged over"
   ]
  },
  {
   "cell_type": "code",
   "execution_count": 11,
   "metadata": {
    "scrolled": true
   },
   "outputs": [
    {
     "name": "stdout",
     "output_type": "stream",
     "text": [
      "BTS/BTC\n",
      "CLAM/BTC\n",
      "DASH/BTC\n",
      "DOGE/BTC\n",
      "MAID/BTC\n",
      "XMR/BTC\n",
      "XRP/BTC\n",
      "ETH/BTC\n",
      "FCT/BTC\n"
     ]
    }
   ],
   "source": [
    "for set_ in new_datasets:\n",
    "    print(set_.pair)"
   ]
  },
  {
   "cell_type": "code",
   "execution_count": 12,
   "metadata": {
    "scrolled": true
   },
   "outputs": [
    {
     "name": "stdout",
     "output_type": "stream",
     "text": [
      "['close_0', 'vol_0', 'close_1', 'vol_1', 'close_2', 'vol_2', 'close_3', 'vol_3', 'close_4', 'vol_4', 'close_5', 'vol_5', 'close_6', 'vol_6', 'close_7', 'vol_7', 'close_8', 'vol_8', 'close_9', 'vol_9', 'close_10', 'vol_10', 'close_11', 'vol_11', 'close_12', 'vol_12', 'close_13', 'vol_13', 'close_14', 'vol_14', 'close_15', 'vol_15', 'close_16', 'vol_16', 'close_17', 'vol_17', 'close_18', 'vol_18', 'close_19', 'vol_19', 'close_20', 'vol_20', 'close_21', 'vol_21', 'close_22', 'vol_22', 'close_23', 'vol_23', 'close_24', 'vol_24', 'close_25', 'vol_25', 'close_26', 'vol_26', 'close_27', 'vol_27', 'close_28', 'vol_28', 'close_29', 'vol_29', 'close_30', 'vol_30', 'close_31', 'vol_31', 'close_32', 'vol_32', 'close_33', 'vol_33', 'close_34', 'vol_34', 'close_35', 'vol_35', 'close_36', 'vol_36', 'close_37', 'vol_37', 'close_38', 'vol_38', 'close_39', 'vol_39', 'close_40', 'vol_40', 'close_41', 'vol_41', 'close_42', 'vol_42', 'close_43', 'vol_43', 'close_44', 'vol_44', 'close_45', 'vol_45', 'close_46', 'vol_46', 'close_47', 'vol_47', 'close_48', 'vol_48', 'close_49', 'vol_49', 'close_50', 'vol_50', 'close_51', 'vol_51', 'close_52', 'vol_52', 'close_53', 'vol_53', 'close_54', 'vol_54', 'close_55', 'vol_55', 'close_56', 'vol_56', 'close_57', 'vol_57', 'close_58', 'vol_58', 'close_59', 'vol_59']\n"
     ]
    }
   ],
   "source": [
    "cols = []\n",
    "for i in range(60):\n",
    "    cols.append('close_{}'.format(i))\n",
    "    cols.append('vol_{}'.format(i))\n",
    "print(cols)"
   ]
  },
  {
   "cell_type": "code",
   "execution_count": 13,
   "metadata": {},
   "outputs": [],
   "source": [
    "working_df = pd.DataFrame(columns=cols)"
   ]
  },
  {
   "cell_type": "code",
   "execution_count": 14,
   "metadata": {},
   "outputs": [],
   "source": [
    "\n",
    "def pack_rows(pairs, samples, count):\n",
    "    \"\"\"This takes a VERY long time to run... try pack_rows2 instead\"\"\"\n",
    "    \n",
    "    result = [] # rows of 1080 columns each (9 pairs * 2 variables * 60 historical samples)\n",
    "    \n",
    "    names = []\n",
    "    for p in range(len(pairs)):\n",
    "        for s in range(samples):\n",
    "            names.append(\"{}_close_{}\".format(p, s))\n",
    "            names.append(\"{}_vol_{}\".format(p, s))\n",
    "    print(names)\n",
    "    result.append(names)\n",
    "        \n",
    "    for r in range(samples - 1, min_size): # we start at index samples - 1\n",
    "        columns = []\n",
    "        for p, rows in enumerate(pairs):\n",
    "            for s in range(samples):\n",
    "                columns.append(rows.iloc[r - s]['close'])\n",
    "                columns.append(rows.iloc[r - s]['vol'])\n",
    "        result.append(columns)\n",
    "        \n",
    "    return result\n"
   ]
  },
  {
   "cell_type": "code",
   "execution_count": 15,
   "metadata": {},
   "outputs": [],
   "source": [
    "\n",
    "def pack_rows2(pairs, samples, count, stop=None):\n",
    "    size = count - (samples - 1)\n",
    "    if stop is not None and stop < size:\n",
    "        size = stop\n",
    "        \n",
    "    result = np.empty(size, dtype=object) # rows of 1080 columns each (9 pairs * 2 variables * 60 historical samples)\n",
    "    \n",
    "    for p, rows in enumerate(pairs):\n",
    "        print(rows.pair)\n",
    "        history = [] # keep 'samples' historical entries\n",
    "        r = -1\n",
    "        \n",
    "        for rr, row in rows.iterrows():\n",
    "            r += 1\n",
    "            \n",
    "            if r % 1000 == 0:\n",
    "                print(\"on pair {} row {}\".format(p, r))\n",
    "            if stop is not None and r >= stop + samples - 1:\n",
    "                break\n",
    "                \n",
    "            history.append(row)\n",
    "            \n",
    "            if r < samples - 1:\n",
    "                continue\n",
    "                \n",
    "            columns = result[r - (samples - 1)]\n",
    "            if columns is None:\n",
    "                #print(\"making new columns array\")\n",
    "                columns = np.empty(samples * 2 * len(pairs))\n",
    "                result[r - (samples - 1)] = columns\n",
    "                \n",
    "            #print(len(history))\n",
    "                \n",
    "            for s in range(samples):\n",
    "                entry = history[samples - 1 - s]\n",
    "                #if r == 1000:\n",
    "                #    print(\"row    close: {:.8f}    vol: {:.8f}\".format(entry['close'], entry['vol']))\n",
    "                columns[p*samples+s*2] = entry['close']\n",
    "                columns[p*samples+s*2+1] = entry['vol']\n",
    "                \n",
    "            history.pop(0) # keep history trimmed to 'samples' size\n",
    "            \n",
    "    return result\n"
   ]
  },
  {
   "cell_type": "code",
   "execution_count": 16,
   "metadata": {},
   "outputs": [],
   "source": [
    "\n",
    "def pack_rows3(pairs, samples, count, stop=None):\n",
    "    size = count - (samples - 1)\n",
    "    if stop is not None and stop < size:\n",
    "        size = stop\n",
    "        \n",
    "    result = np.empty(shape=(size, len(pairs)*2*samples)) # rows of 1080 columns each (9 pairs * 2 variables * 60 historical samples)\n",
    "    \n",
    "    for p, rows in enumerate(pairs):\n",
    "        print(rows.pair)\n",
    "        history = [] # keep 'samples' historical entries\n",
    "        r = -1\n",
    "        \n",
    "        for rr, row in rows.iterrows():\n",
    "            r += 1\n",
    "            \n",
    "            if r % 1000 == 0:\n",
    "                print(\"on pair {} row {}\".format(p, r))\n",
    "            if stop is not None and r >= stop + samples - 1:\n",
    "                break\n",
    "                \n",
    "            history.append(row)\n",
    "            \n",
    "            if r < samples - 1:\n",
    "                continue\n",
    "                \n",
    "            columns = result[r - (samples - 1)]\n",
    "            #if columns is None:\n",
    "            #    #print(\"making new columns array\")\n",
    "            #    columns = np.empty(samples * 2 * len(pairs))\n",
    "            #    result[r - (samples - 1)] = columns\n",
    "                \n",
    "            #print(len(history))\n",
    "                \n",
    "            for s in range(samples):\n",
    "                entry = history[samples - 1 - s]\n",
    "                #if r == 1000:\n",
    "                #    print(\"row    close: {:.8f}    vol: {:.8f}\".format(entry['close'], entry['vol']))\n",
    "                columns[p*samples+s*2] = entry['close']\n",
    "                columns[p*samples+s*2+1] = entry['vol']\n",
    "                \n",
    "            history.pop(0) # keep history trimmed to 'samples' size\n",
    "            \n",
    "    return result\n"
   ]
  },
  {
   "cell_type": "code",
   "execution_count": null,
   "metadata": {},
   "outputs": [
    {
     "name": "stdout",
     "output_type": "stream",
     "text": [
      "BTS/BTC\n",
      "on pair 0 row 0\n",
      "on pair 0 row 1000\n",
      "CLAM/BTC\n",
      "on pair 1 row 0\n",
      "on pair 1 row 1000\n",
      "DASH/BTC\n",
      "on pair 2 row 0\n",
      "on pair 2 row 1000\n",
      "DOGE/BTC\n",
      "on pair 3 row 0\n",
      "on pair 3 row 1000\n",
      "MAID/BTC\n",
      "on pair 4 row 0\n",
      "on pair 4 row 1000\n",
      "XMR/BTC\n",
      "on pair 5 row 0\n",
      "on pair 5 row 1000\n",
      "XRP/BTC\n",
      "on pair 6 row 0\n"
     ]
    }
   ],
   "source": [
    "\n",
    "#superset = pack_rows(new_datasets, 60, min_size)\n",
    "#superset = pack_rows2(new_datasets, 60, min_size, 1000)\n",
    "superset = pack_rows3(new_datasets, 60, min_size, 1000)\n",
    "print('done')\n"
   ]
  },
  {
   "cell_type": "code",
   "execution_count": 6,
   "metadata": {},
   "outputs": [
    {
     "ename": "NameError",
     "evalue": "name 'superset' is not defined",
     "output_type": "error",
     "traceback": [
      "\u001b[0;31m---------------------------------------------------------------------------\u001b[0m",
      "\u001b[0;31mNameError\u001b[0m                                 Traceback (most recent call last)",
      "\u001b[0;32m<ipython-input-6-2c35aea533c1>\u001b[0m in \u001b[0;36m<module>\u001b[0;34m()\u001b[0m\n\u001b[0;32m----> 1\u001b[0;31m \u001b[0mprint\u001b[0m\u001b[0;34m(\u001b[0m\u001b[0msuperset\u001b[0m\u001b[0;34m.\u001b[0m\u001b[0mshape\u001b[0m\u001b[0;34m)\u001b[0m\u001b[0;34m\u001b[0m\u001b[0m\n\u001b[0m\u001b[1;32m      2\u001b[0m \u001b[0mprint\u001b[0m\u001b[0;34m(\u001b[0m\u001b[0mlen\u001b[0m\u001b[0;34m(\u001b[0m\u001b[0msuperset\u001b[0m\u001b[0;34m)\u001b[0m\u001b[0;34m)\u001b[0m\u001b[0;34m\u001b[0m\u001b[0m\n\u001b[1;32m      3\u001b[0m \u001b[0mprint\u001b[0m\u001b[0;34m(\u001b[0m\u001b[0mlen\u001b[0m\u001b[0;34m(\u001b[0m\u001b[0msuperset\u001b[0m\u001b[0;34m[\u001b[0m\u001b[0;36m0\u001b[0m\u001b[0;34m]\u001b[0m\u001b[0;34m)\u001b[0m\u001b[0;34m)\u001b[0m\u001b[0;34m\u001b[0m\u001b[0m\n\u001b[1;32m      4\u001b[0m \u001b[0mprint\u001b[0m\u001b[0;34m(\u001b[0m\u001b[0msuperset\u001b[0m\u001b[0;34m[\u001b[0m\u001b[0;36m0\u001b[0m\u001b[0;34m]\u001b[0m\u001b[0;34m)\u001b[0m\u001b[0;34m\u001b[0m\u001b[0m\n\u001b[1;32m      5\u001b[0m \u001b[0mprint\u001b[0m\u001b[0;34m(\u001b[0m\u001b[0msuperset\u001b[0m\u001b[0;34m[\u001b[0m\u001b[0mlen\u001b[0m\u001b[0;34m(\u001b[0m\u001b[0msuperset\u001b[0m\u001b[0;34m)\u001b[0m\u001b[0;34m-\u001b[0m\u001b[0;36m1\u001b[0m\u001b[0;34m]\u001b[0m\u001b[0;34m)\u001b[0m\u001b[0;34m\u001b[0m\u001b[0m\n",
      "\u001b[0;31mNameError\u001b[0m: name 'superset' is not defined"
     ]
    }
   ],
   "source": [
    "print(superset.shape)\n",
    "print(len(superset))\n",
    "print(len(superset[0]))\n",
    "print(superset[0])\n",
    "print(superset[len(superset)-1])\n"
   ]
  },
  {
   "cell_type": "code",
   "execution_count": null,
   "metadata": {},
   "outputs": [],
   "source": [
    "# input1 = [[last][vol][1]]\n",
    "dataset = np.zeros((60, 60, len(new_datasets)))\n",
    "for index1, set_ in enumerate(new_datasets):\n",
    "    for index2 in range(len(set_)):\n",
    "        if index2 <= len(set_) - 60:\n",
    "            dataline = []\n",
    "            for i in range(60):\n",
    "                close = set_.loc[i + index2]['close']\n",
    "                vol = set_.loc[i + index2]['vol']\n",
    "            dataset[:,index2] = [close, vol, index1]              \n"
   ]
  },
  {
   "cell_type": "code",
   "execution_count": null,
   "metadata": {},
   "outputs": [],
   "source": [
    "df = new_datasets[2]"
   ]
  },
  {
   "cell_type": "code",
   "execution_count": null,
   "metadata": {},
   "outputs": [],
   "source": [
    "print(df.columns)"
   ]
  },
  {
   "cell_type": "code",
   "execution_count": null,
   "metadata": {},
   "outputs": [],
   "source": [
    "close = pd.Series(df['close'])"
   ]
  },
  {
   "cell_type": "code",
   "execution_count": null,
   "metadata": {},
   "outputs": [],
   "source": [
    "raw_values = close.values\n",
    "print(raw_values)"
   ]
  },
  {
   "cell_type": "code",
   "execution_count": null,
   "metadata": {},
   "outputs": [],
   "source": [
    "# create a differenced series\n",
    "def difference(dataset, interval=1):\n",
    "    diff = list()\n",
    "    for i in range(interval, len(dataset)):\n",
    "        # print(i - interval)\n",
    "        value = D(dataset[i]) - D(dataset[i - interval])\n",
    "        diff.append(value)\n",
    "    return pd.Series(diff)\n",
    "\n",
    "def inverse_difference(history, yhat, interval=1):\n",
    "    return yhat + history[interval-1]\n",
    "\n",
    "def undiff(dataset, diff, interval=1):\n",
    "    the_return = list()\n",
    "    for i, e in enumerate(diff):\n",
    "        if i >= interval:\n",
    "            last_val = dataset[i-interval]\n",
    "            next_val = D(last_val) + D(diff[i])\n",
    "            # assert next_val == dataset[i]\n",
    "            the_return.append(next_val)\n",
    "    return pd.Series(the_return)"
   ]
  },
  {
   "cell_type": "code",
   "execution_count": null,
   "metadata": {},
   "outputs": [],
   "source": [
    "diff_series = difference(close, 1)"
   ]
  },
  {
   "cell_type": "code",
   "execution_count": null,
   "metadata": {
    "scrolled": false
   },
   "outputs": [],
   "source": [
    "fixed_series = undiff(close, diff_series, 1)"
   ]
  },
  {
   "cell_type": "code",
   "execution_count": null,
   "metadata": {},
   "outputs": [],
   "source": [
    "print(fixed_series.head())"
   ]
  },
  {
   "cell_type": "code",
   "execution_count": null,
   "metadata": {
    "scrolled": true
   },
   "outputs": [],
   "source": [
    "inverted = list()\n",
    "for i in range(len(diff_series)):\n",
    "    value = inverse_difference(close, diff_series[i], len(diff_series)-i)\n",
    "    inverted.append(value)\n",
    "inverted = pd.Series(inverted)"
   ]
  },
  {
   "cell_type": "code",
   "execution_count": null,
   "metadata": {
    "scrolled": true
   },
   "outputs": [],
   "source": [
    "print(close.head())\n",
    "print(diff_series.head())\n",
    "print(inverted.head())"
   ]
  },
  {
   "cell_type": "code",
   "execution_count": null,
   "metadata": {},
   "outputs": [],
   "source": []
  }
 ],
 "metadata": {
  "kernelspec": {
   "display_name": "Python 3",
   "language": "python",
   "name": "python3"
  },
  "language_info": {
   "codemirror_mode": {
    "name": "ipython",
    "version": 3
   },
   "file_extension": ".py",
   "mimetype": "text/x-python",
   "name": "python",
   "nbconvert_exporter": "python",
   "pygments_lexer": "ipython3",
   "version": "3.6.0"
  },
  "toc": {
   "nav_menu": {},
   "number_sections": true,
   "sideBar": true,
   "skip_h1_title": false,
   "title_cell": "Table of Contents",
   "title_sidebar": "Contents",
   "toc_cell": false,
   "toc_position": {},
   "toc_section_display": true,
   "toc_window_display": false
  },
  "varInspector": {
   "cols": {
    "lenName": 16,
    "lenType": 16,
    "lenVar": 40
   },
   "kernels_config": {
    "python": {
     "delete_cmd_postfix": "",
     "delete_cmd_prefix": "del ",
     "library": "var_list.py",
     "varRefreshCmd": "print(var_dic_list())"
    },
    "r": {
     "delete_cmd_postfix": ") ",
     "delete_cmd_prefix": "rm(",
     "library": "var_list.r",
     "varRefreshCmd": "cat(var_dic_list()) "
    }
   },
   "types_to_exclude": [
    "module",
    "function",
    "builtin_function_or_method",
    "instance",
    "_Feature"
   ],
   "window_display": false
  }
 },
 "nbformat": 4,
 "nbformat_minor": 2
}
