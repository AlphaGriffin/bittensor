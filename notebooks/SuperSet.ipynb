{
 "cells": [
  {
   "cell_type": "code",
   "execution_count": 1,
   "metadata": {},
   "outputs": [],
   "source": [
    "import pandas as pd\n",
    "import ccxt\n",
    "import time\n",
    "from timeit import default_timer as timer\n",
    "from matplotlib import pyplot\n",
    "from decimal import Decimal as D\n",
    "import numpy as np"
   ]
  },
  {
   "cell_type": "code",
   "execution_count": 2,
   "metadata": {},
   "outputs": [],
   "source": [
    "this_exchange = ccxt.poloniex()"
   ]
  },
  {
   "cell_type": "code",
   "execution_count": 3,
   "metadata": {},
   "outputs": [],
   "source": [
    "if False:\n",
    "    for i in POLO.__dict__:\n",
    "        if '__' not in i:\n",
    "            if 'fetch' in i:\n",
    "                print(i)"
   ]
  },
  {
   "cell_type": "code",
   "execution_count": 4,
   "metadata": {},
   "outputs": [],
   "source": [
    "ticker = this_exchange.fetchTickers()"
   ]
  },
  {
   "cell_type": "code",
   "execution_count": 5,
   "metadata": {
    "scrolled": false
   },
   "outputs": [
    {
     "name": "stdout",
     "output_type": "stream",
     "text": [
      "BTS/BTC\n",
      "Elements in Dataset: 364088\n",
      "Downloading this coin took: 17.45 secs\n",
      "CLAM/BTC\n",
      "Elements in Dataset: 376170\n",
      "Downloading this coin took: 11.08 secs\n",
      "DASH/BTC\n",
      "Elements in Dataset: 418582\n",
      "Downloading this coin took: 18.07 secs\n",
      "DOGE/BTC\n",
      "Elements in Dataset: 423452\n",
      "Downloading this coin took: 15.62 secs\n",
      "MAID/BTC\n",
      "Elements in Dataset: 374859\n",
      "Downloading this coin took: 16.92 secs\n",
      "XMR/BTC\n",
      "Elements in Dataset: 389677\n",
      "Downloading this coin took: 17.05 secs\n",
      "XRP/BTC\n",
      "Elements in Dataset: 364640\n",
      "Downloading this coin took: 15.59 secs\n",
      "ETH/BTC\n",
      "Elements in Dataset: 261233\n",
      "Downloading this coin took: 14.01 secs\n",
      "FCT/BTC\n",
      "Elements in Dataset: 244591\n",
      "Downloading this coin took: 12.52 secs\n",
      "Min length of all sets is 244591 samples\n",
      "Collected All Datasets. Took 2829320.97 mins\n"
     ]
    }
   ],
   "source": [
    "coins_not_working = ['LTC/BTC', 'STR/BTC']\n",
    "coins_to_use = ['ETH/BTC', 'XRP/BTC', 'DASH/BTC' , 'XMR/BTC',\n",
    "                'BTS/BTC', 'DOGE/BTC', 'FCT/BTC', 'MAID/BTC', 'CLAM/BTC']\n",
    "coins_collected = []\n",
    "datasets = []\n",
    "min_len = 10000000\n",
    "start_data_gen = timer()\n",
    "for index, pair in enumerate(ticker):\n",
    "    if pair in coins_to_use:\n",
    "        if pair not in coins_collected:\n",
    "            print(pair)\n",
    "            # SLEEP!! DO NOT GET BANNED!\n",
    "            time.sleep (this_exchange.rateLimit / 400)\n",
    "            start_call = timer()\n",
    "            chart = this_exchange.fetchOhlcv(pair, \n",
    "                                             timeframe = '5m', # polo only offers the 5m\n",
    "                                             since = int(1515974400)\n",
    "                                             )\n",
    "            df = pd.DataFrame(\n",
    "                chart, \n",
    "                columns=['time','open','high','low','close','vol']\n",
    "            )\n",
    "            df.pair = pair\n",
    "            this_len = len(df)\n",
    "            if this_len < min_len:\n",
    "                min_len = this_len\n",
    "            print('Elements in Dataset:', this_len)\n",
    "            print('Downloading this coin took: {:.2f} secs'.format(timer()-start_call))\n",
    "            datasets.append(df)\n",
    "            coins_collected.append(pair)\n",
    "print('Min length of all sets is {} samples'.format(min_len))\n",
    "print('Collected All Datasets. Took {:.2f} mins'.format(timer()-start_data_gen/60))        "
   ]
  },
  {
   "cell_type": "code",
   "execution_count": 6,
   "metadata": {},
   "outputs": [
    {
     "name": "stdout",
     "output_type": "stream",
     "text": [
      "BTS/BTC 364088\n",
      "Start of set 1444003200000\n",
      "end of set 1517380200000\n",
      "New set len 244591\n",
      "CLAM/BTC 376170\n",
      "Start of set 1444003200000\n",
      "end of set 1517380200000\n",
      "New set len 244591\n",
      "DASH/BTC 418582\n",
      "Start of set 1444002900000\n",
      "end of set 1517379900000\n",
      "New set len 244591\n",
      "DOGE/BTC 423452\n",
      "Start of set 1444003200000\n",
      "end of set 1517380200000\n",
      "New set len 244591\n",
      "MAID/BTC 374859\n",
      "Start of set 1444003200000\n",
      "end of set 1517380200000\n",
      "New set len 244591\n",
      "XMR/BTC 389677\n",
      "Start of set 1444003200000\n",
      "end of set 1517380200000\n",
      "New set len 244591\n",
      "XRP/BTC 364640\n",
      "Start of set 1444003200000\n",
      "end of set 1517380200000\n",
      "New set len 244591\n",
      "ETH/BTC 261233\n",
      "Start of set 1444003200000\n",
      "end of set 1517380200000\n",
      "New set len 244591\n",
      "FCT/BTC 244591\n",
      "this is the lowest len df and not changing\n",
      "Start of set 1444003200000\n",
      "end of set 1517380200000\n",
      "New set len 244591\n"
     ]
    }
   ],
   "source": [
    "# the end time in all datasets is the same... so take the min_len to the end\n",
    "new_datasets = []\n",
    "for d in datasets:\n",
    "    pair = d.pair\n",
    "    this_len = len(d)\n",
    "    print(pair, this_len)\n",
    "    if this_len == min_len:\n",
    "        print('this is the lowest len df and not changing')\n",
    "        time_of_start = d['time'][0]\n",
    "        time_of_end = d['time'][len(d['time'])-1]\n",
    "        new_datasets.append(d) \n",
    "    elif this_len > min_len:\n",
    "        trim_section_start = len(d['time']) - min_len\n",
    "        time_of_start = d['time'][trim_section_start]\n",
    "        time_of_end = d['time'][len(d['time'])-1]\n",
    "        df = d[trim_section_start:]\n",
    "        df.pair = pair\n",
    "        new_datasets.append(df)    \n",
    "    print('Start of set {}'.format(time_of_start))\n",
    "    print('end of set {}'.format(time_of_end))\n",
    "    print('New set len {}'.format(len(df)))\n",
    "    "
   ]
  },
  {
   "cell_type": "code",
   "execution_count": 16,
   "metadata": {},
   "outputs": [
    {
     "name": "stdout",
     "output_type": "stream",
     "text": [
      "BTS/BTC 244591\n",
      "CLAM/BTC 244591\n",
      "DASH/BTC 244591\n",
      "DOGE/BTC 244591\n",
      "MAID/BTC 244591\n",
      "XMR/BTC 244591\n",
      "XRP/BTC 244591\n",
      "ETH/BTC 244591\n",
      "FCT/BTC 244591\n"
     ]
    }
   ],
   "source": [
    "min_size = None\n",
    "\n",
    "for set_ in new_datasets:\n",
    "    size = len(set_)\n",
    "    if min_size is None or size < min_size:\n",
    "        min_size = size\n",
    "    print(set_.pair, size)"
   ]
  },
  {
   "cell_type": "code",
   "execution_count": 8,
   "metadata": {},
   "outputs": [
    {
     "data": {
      "image/png": "[encoded data removed]",
      "text/plain": [
       "<matplotlib.figure.Figure at 0x115f74be0>"
      ]
     },
     "metadata": {},
     "output_type": "display_data"
    }
   ],
   "source": [
    "pyplot.figure()\n",
    "i = 1\n",
    "for set_ in new_datasets:\n",
    "    pyplot.subplot(len(new_datasets), 3, i)\n",
    "    pyplot.plot(set_['close'])\n",
    "    pyplot.axis('off')\n",
    "    pyplot.title(set_.pair, y=.75, loc='left')\n",
    "    i += 1\n",
    "pyplot.show()"
   ]
  },
  {
   "cell_type": "code",
   "execution_count": null,
   "metadata": {},
   "outputs": [],
   "source": [
    "# WHAT DO I WANT FOR COLUMNS!?!?!?!?!\n",
    "# Each input will have 20 values\n",
    "# input1 = [[last][vol][last -60 elements]]\n",
    "# input2 = [[low][high][mean*]]\n",
    "# input3 = [[bollinger high][bollinger low][mean**]]\n",
    "# ###\n",
    "# input4 = [[twitter sent][twittervol]]\n",
    "# ###\n",
    "# output1 = [time, time+1, time+2] # doesnt matter what the input all the outputs will be the same and averaged over"
   ]
  },
  {
   "cell_type": "code",
   "execution_count": 9,
   "metadata": {
    "scrolled": true
   },
   "outputs": [
    {
     "name": "stdout",
     "output_type": "stream",
     "text": [
      "BTS/BTC\n",
      "CLAM/BTC\n",
      "DASH/BTC\n",
      "DOGE/BTC\n",
      "MAID/BTC\n",
      "XMR/BTC\n",
      "XRP/BTC\n",
      "ETH/BTC\n",
      "FCT/BTC\n"
     ]
    }
   ],
   "source": [
    "for set_ in new_datasets:\n",
    "    print(set_.pair)"
   ]
  },
  {
   "cell_type": "code",
   "execution_count": 10,
   "metadata": {
    "scrolled": true
   },
   "outputs": [
    {
     "name": "stdout",
     "output_type": "stream",
     "text": [
      "['close_0', 'vol_0', 'close_1', 'vol_1', 'close_2', 'vol_2', 'close_3', 'vol_3', 'close_4', 'vol_4', 'close_5', 'vol_5', 'close_6', 'vol_6', 'close_7', 'vol_7', 'close_8', 'vol_8', 'close_9', 'vol_9', 'close_10', 'vol_10', 'close_11', 'vol_11', 'close_12', 'vol_12', 'close_13', 'vol_13', 'close_14', 'vol_14', 'close_15', 'vol_15', 'close_16', 'vol_16', 'close_17', 'vol_17', 'close_18', 'vol_18', 'close_19', 'vol_19', 'close_20', 'vol_20', 'close_21', 'vol_21', 'close_22', 'vol_22', 'close_23', 'vol_23', 'close_24', 'vol_24', 'close_25', 'vol_25', 'close_26', 'vol_26', 'close_27', 'vol_27', 'close_28', 'vol_28', 'close_29', 'vol_29', 'close_30', 'vol_30', 'close_31', 'vol_31', 'close_32', 'vol_32', 'close_33', 'vol_33', 'close_34', 'vol_34', 'close_35', 'vol_35', 'close_36', 'vol_36', 'close_37', 'vol_37', 'close_38', 'vol_38', 'close_39', 'vol_39', 'close_40', 'vol_40', 'close_41', 'vol_41', 'close_42', 'vol_42', 'close_43', 'vol_43', 'close_44', 'vol_44', 'close_45', 'vol_45', 'close_46', 'vol_46', 'close_47', 'vol_47', 'close_48', 'vol_48', 'close_49', 'vol_49', 'close_50', 'vol_50', 'close_51', 'vol_51', 'close_52', 'vol_52', 'close_53', 'vol_53', 'close_54', 'vol_54', 'close_55', 'vol_55', 'close_56', 'vol_56', 'close_57', 'vol_57', 'close_58', 'vol_58', 'close_59', 'vol_59']\n"
     ]
    }
   ],
   "source": [
    "cols = []\n",
    "for i in range(60):\n",
    "    cols.append('close_{}'.format(i))\n",
    "    cols.append('vol_{}'.format(i))\n",
    "print(cols)"
   ]
  },
  {
   "cell_type": "code",
   "execution_count": 11,
   "metadata": {},
   "outputs": [],
   "source": [
    "working_df = pd.DataFrame(columns=cols)"
   ]
  },
  {
   "cell_type": "code",
   "execution_count": 26,
   "metadata": {},
   "outputs": [],
   "source": [
    "def pack_rows(pairs, samples, count):\n",
    "    result = [] # rows of 1080 columns each (9 pairs * 2 variables * 60 historical samples)\n",
    "    \n",
    "    names = []\n",
    "    for p in range(len(pairs)):\n",
    "        for s in range(samples):\n",
    "            names.append(\"{}_close_{}\".format(p, s))\n",
    "            names.append(\"{}_vol_{}\".format(p, s))\n",
    "    print(names)\n",
    "    result.append(names)\n",
    "        \n",
    "    for r in range(samples, min_size): # we start at index samples - 1\n",
    "        columns = []\n",
    "        for p, rows in enumerate(pairs):\n",
    "            for s in range(samples):\n",
    "                columns.append(rows.iloc[r - s]['close'])\n",
    "                columns.append(rows.iloc[r - s]['vol'])\n",
    "        result.append(columns)\n",
    "        \n",
    "    return result\n"
   ]
  },
  {
   "cell_type": "code",
   "execution_count": null,
   "metadata": {},
   "outputs": [
    {
     "name": "stdout",
     "output_type": "stream",
     "text": [
      "['0_close_0', '0_vol_0', '0_close_1', '0_vol_1', '0_close_2', '0_vol_2', '0_close_3', '0_vol_3', '0_close_4', '0_vol_4', '0_close_5', '0_vol_5', '0_close_6', '0_vol_6', '0_close_7', '0_vol_7', '0_close_8', '0_vol_8', '0_close_9', '0_vol_9', '0_close_10', '0_vol_10', '0_close_11', '0_vol_11', '0_close_12', '0_vol_12', '0_close_13', '0_vol_13', '0_close_14', '0_vol_14', '0_close_15', '0_vol_15', '0_close_16', '0_vol_16', '0_close_17', '0_vol_17', '0_close_18', '0_vol_18', '0_close_19', '0_vol_19', '0_close_20', '0_vol_20', '0_close_21', '0_vol_21', '0_close_22', '0_vol_22', '0_close_23', '0_vol_23', '0_close_24', '0_vol_24', '0_close_25', '0_vol_25', '0_close_26', '0_vol_26', '0_close_27', '0_vol_27', '0_close_28', '0_vol_28', '0_close_29', '0_vol_29', '0_close_30', '0_vol_30', '0_close_31', '0_vol_31', '0_close_32', '0_vol_32', '0_close_33', '0_vol_33', '0_close_34', '0_vol_34', '0_close_35', '0_vol_35', '0_close_36', '0_vol_36', '0_close_37', '0_vol_37', '0_close_38', '0_vol_38', '0_close_39', '0_vol_39', '0_close_40', '0_vol_40', '0_close_41', '0_vol_41', '0_close_42', '0_vol_42', '0_close_43', '0_vol_43', '0_close_44', '0_vol_44', '0_close_45', '0_vol_45', '0_close_46', '0_vol_46', '0_close_47', '0_vol_47', '0_close_48', '0_vol_48', '0_close_49', '0_vol_49', '0_close_50', '0_vol_50', '0_close_51', '0_vol_51', '0_close_52', '0_vol_52', '0_close_53', '0_vol_53', '0_close_54', '0_vol_54', '0_close_55', '0_vol_55', '0_close_56', '0_vol_56', '0_close_57', '0_vol_57', '0_close_58', '0_vol_58', '0_close_59', '0_vol_59', '1_close_0', '1_vol_0', '1_close_1', '1_vol_1', '1_close_2', '1_vol_2', '1_close_3', '1_vol_3', '1_close_4', '1_vol_4', '1_close_5', '1_vol_5', '1_close_6', '1_vol_6', '1_close_7', '1_vol_7', '1_close_8', '1_vol_8', '1_close_9', '1_vol_9', '1_close_10', '1_vol_10', '1_close_11', '1_vol_11', '1_close_12', '1_vol_12', '1_close_13', '1_vol_13', '1_close_14', '1_vol_14', '1_close_15', '1_vol_15', '1_close_16', '1_vol_16', '1_close_17', '1_vol_17', '1_close_18', '1_vol_18', '1_close_19', '1_vol_19', '1_close_20', '1_vol_20', '1_close_21', '1_vol_21', '1_close_22', '1_vol_22', '1_close_23', '1_vol_23', '1_close_24', '1_vol_24', '1_close_25', '1_vol_25', '1_close_26', '1_vol_26', '1_close_27', '1_vol_27', '1_close_28', '1_vol_28', '1_close_29', '1_vol_29', '1_close_30', '1_vol_30', '1_close_31', '1_vol_31', '1_close_32', '1_vol_32', '1_close_33', '1_vol_33', '1_close_34', '1_vol_34', '1_close_35', '1_vol_35', '1_close_36', '1_vol_36', '1_close_37', '1_vol_37', '1_close_38', '1_vol_38', '1_close_39', '1_vol_39', '1_close_40', '1_vol_40', '1_close_41', '1_vol_41', '1_close_42', '1_vol_42', '1_close_43', '1_vol_43', '1_close_44', '1_vol_44', '1_close_45', '1_vol_45', '1_close_46', '1_vol_46', '1_close_47', '1_vol_47', '1_close_48', '1_vol_48', '1_close_49', '1_vol_49', '1_close_50', '1_vol_50', '1_close_51', '1_vol_51', '1_close_52', '1_vol_52', '1_close_53', '1_vol_53', '1_close_54', '1_vol_54', '1_close_55', '1_vol_55', '1_close_56', '1_vol_56', '1_close_57', '1_vol_57', '1_close_58', '1_vol_58', '1_close_59', '1_vol_59', '2_close_0', '2_vol_0', '2_close_1', '2_vol_1', '2_close_2', '2_vol_2', '2_close_3', '2_vol_3', '2_close_4', '2_vol_4', '2_close_5', '2_vol_5', '2_close_6', '2_vol_6', '2_close_7', '2_vol_7', '2_close_8', '2_vol_8', '2_close_9', '2_vol_9', '2_close_10', '2_vol_10', '2_close_11', '2_vol_11', '2_close_12', '2_vol_12', '2_close_13', '2_vol_13', '2_close_14', '2_vol_14', '2_close_15', '2_vol_15', '2_close_16', '2_vol_16', '2_close_17', '2_vol_17', '2_close_18', '2_vol_18', '2_close_19', '2_vol_19', '2_close_20', '2_vol_20', '2_close_21', '2_vol_21', '2_close_22', '2_vol_22', '2_close_23', '2_vol_23', '2_close_24', '2_vol_24', '2_close_25', '2_vol_25', '2_close_26', '2_vol_26', '2_close_27', '2_vol_27', '2_close_28', '2_vol_28', '2_close_29', '2_vol_29', '2_close_30', '2_vol_30', '2_close_31', '2_vol_31', '2_close_32', '2_vol_32', '2_close_33', '2_vol_33', '2_close_34', '2_vol_34', '2_close_35', '2_vol_35', '2_close_36', '2_vol_36', '2_close_37', '2_vol_37', '2_close_38', '2_vol_38', '2_close_39', '2_vol_39', '2_close_40', '2_vol_40', '2_close_41', '2_vol_41', '2_close_42', '2_vol_42', '2_close_43', '2_vol_43', '2_close_44', '2_vol_44', '2_close_45', '2_vol_45', '2_close_46', '2_vol_46', '2_close_47', '2_vol_47', '2_close_48', '2_vol_48', '2_close_49', '2_vol_49', '2_close_50', '2_vol_50', '2_close_51', '2_vol_51', '2_close_52', '2_vol_52', '2_close_53', '2_vol_53', '2_close_54', '2_vol_54', '2_close_55', '2_vol_55', '2_close_56', '2_vol_56', '2_close_57', '2_vol_57', '2_close_58', '2_vol_58', '2_close_59', '2_vol_59', '3_close_0', '3_vol_0', '3_close_1', '3_vol_1', '3_close_2', '3_vol_2', '3_close_3', '3_vol_3', '3_close_4', '3_vol_4', '3_close_5', '3_vol_5', '3_close_6', '3_vol_6', '3_close_7', '3_vol_7', '3_close_8', '3_vol_8', '3_close_9', '3_vol_9', '3_close_10', '3_vol_10', '3_close_11', '3_vol_11', '3_close_12', '3_vol_12', '3_close_13', '3_vol_13', '3_close_14', '3_vol_14', '3_close_15', '3_vol_15', '3_close_16', '3_vol_16', '3_close_17', '3_vol_17', '3_close_18', '3_vol_18', '3_close_19', '3_vol_19', '3_close_20', '3_vol_20', '3_close_21', '3_vol_21', '3_close_22', '3_vol_22', '3_close_23', '3_vol_23', '3_close_24', '3_vol_24', '3_close_25', '3_vol_25', '3_close_26', '3_vol_26', '3_close_27', '3_vol_27', '3_close_28', '3_vol_28', '3_close_29', '3_vol_29', '3_close_30', '3_vol_30', '3_close_31', '3_vol_31', '3_close_32', '3_vol_32', '3_close_33', '3_vol_33', '3_close_34', '3_vol_34', '3_close_35', '3_vol_35', '3_close_36', '3_vol_36', '3_close_37', '3_vol_37', '3_close_38', '3_vol_38', '3_close_39', '3_vol_39', '3_close_40', '3_vol_40', '3_close_41', '3_vol_41', '3_close_42', '3_vol_42', '3_close_43', '3_vol_43', '3_close_44', '3_vol_44', '3_close_45', '3_vol_45', '3_close_46', '3_vol_46', '3_close_47', '3_vol_47', '3_close_48', '3_vol_48', '3_close_49', '3_vol_49', '3_close_50', '3_vol_50', '3_close_51', '3_vol_51', '3_close_52', '3_vol_52', '3_close_53', '3_vol_53', '3_close_54', '3_vol_54', '3_close_55', '3_vol_55', '3_close_56', '3_vol_56', '3_close_57', '3_vol_57', '3_close_58', '3_vol_58', '3_close_59', '3_vol_59', '4_close_0', '4_vol_0', '4_close_1', '4_vol_1', '4_close_2', '4_vol_2', '4_close_3', '4_vol_3', '4_close_4', '4_vol_4', '4_close_5', '4_vol_5', '4_close_6', '4_vol_6', '4_close_7', '4_vol_7', '4_close_8', '4_vol_8', '4_close_9', '4_vol_9', '4_close_10', '4_vol_10', '4_close_11', '4_vol_11', '4_close_12', '4_vol_12', '4_close_13', '4_vol_13', '4_close_14', '4_vol_14', '4_close_15', '4_vol_15', '4_close_16', '4_vol_16', '4_close_17', '4_vol_17', '4_close_18', '4_vol_18', '4_close_19', '4_vol_19', '4_close_20', '4_vol_20', '4_close_21', '4_vol_21', '4_close_22', '4_vol_22', '4_close_23', '4_vol_23', '4_close_24', '4_vol_24', '4_close_25', '4_vol_25', '4_close_26', '4_vol_26', '4_close_27', '4_vol_27', '4_close_28', '4_vol_28', '4_close_29', '4_vol_29', '4_close_30', '4_vol_30', '4_close_31', '4_vol_31', '4_close_32', '4_vol_32', '4_close_33', '4_vol_33', '4_close_34', '4_vol_34', '4_close_35', '4_vol_35', '4_close_36', '4_vol_36', '4_close_37', '4_vol_37', '4_close_38', '4_vol_38', '4_close_39', '4_vol_39', '4_close_40', '4_vol_40', '4_close_41', '4_vol_41', '4_close_42', '4_vol_42', '4_close_43', '4_vol_43', '4_close_44', '4_vol_44', '4_close_45', '4_vol_45', '4_close_46', '4_vol_46', '4_close_47', '4_vol_47', '4_close_48', '4_vol_48', '4_close_49', '4_vol_49', '4_close_50', '4_vol_50', '4_close_51', '4_vol_51', '4_close_52', '4_vol_52', '4_close_53', '4_vol_53', '4_close_54', '4_vol_54', '4_close_55', '4_vol_55', '4_close_56', '4_vol_56', '4_close_57', '4_vol_57', '4_close_58', '4_vol_58', '4_close_59', '4_vol_59', '5_close_0', '5_vol_0', '5_close_1', '5_vol_1', '5_close_2', '5_vol_2', '5_close_3', '5_vol_3', '5_close_4', '5_vol_4', '5_close_5', '5_vol_5', '5_close_6', '5_vol_6', '5_close_7', '5_vol_7', '5_close_8', '5_vol_8', '5_close_9', '5_vol_9', '5_close_10', '5_vol_10', '5_close_11', '5_vol_11', '5_close_12', '5_vol_12', '5_close_13', '5_vol_13', '5_close_14', '5_vol_14', '5_close_15', '5_vol_15', '5_close_16', '5_vol_16', '5_close_17', '5_vol_17', '5_close_18', '5_vol_18', '5_close_19', '5_vol_19', '5_close_20', '5_vol_20', '5_close_21', '5_vol_21', '5_close_22', '5_vol_22', '5_close_23', '5_vol_23', '5_close_24', '5_vol_24', '5_close_25', '5_vol_25', '5_close_26', '5_vol_26', '5_close_27', '5_vol_27', '5_close_28', '5_vol_28', '5_close_29', '5_vol_29', '5_close_30', '5_vol_30', '5_close_31', '5_vol_31', '5_close_32', '5_vol_32', '5_close_33', '5_vol_33', '5_close_34', '5_vol_34', '5_close_35', '5_vol_35', '5_close_36', '5_vol_36', '5_close_37', '5_vol_37', '5_close_38', '5_vol_38', '5_close_39', '5_vol_39', '5_close_40', '5_vol_40', '5_close_41', '5_vol_41', '5_close_42', '5_vol_42', '5_close_43', '5_vol_43', '5_close_44', '5_vol_44', '5_close_45', '5_vol_45', '5_close_46', '5_vol_46', '5_close_47', '5_vol_47', '5_close_48', '5_vol_48', '5_close_49', '5_vol_49', '5_close_50', '5_vol_50', '5_close_51', '5_vol_51', '5_close_52', '5_vol_52', '5_close_53', '5_vol_53', '5_close_54', '5_vol_54', '5_close_55', '5_vol_55', '5_close_56', '5_vol_56', '5_close_57', '5_vol_57', '5_close_58', '5_vol_58', '5_close_59', '5_vol_59', '6_close_0', '6_vol_0', '6_close_1', '6_vol_1', '6_close_2', '6_vol_2', '6_close_3', '6_vol_3', '6_close_4', '6_vol_4', '6_close_5', '6_vol_5', '6_close_6', '6_vol_6', '6_close_7', '6_vol_7', '6_close_8', '6_vol_8', '6_close_9', '6_vol_9', '6_close_10', '6_vol_10', '6_close_11', '6_vol_11', '6_close_12', '6_vol_12', '6_close_13', '6_vol_13', '6_close_14', '6_vol_14', '6_close_15', '6_vol_15', '6_close_16', '6_vol_16', '6_close_17', '6_vol_17', '6_close_18', '6_vol_18', '6_close_19', '6_vol_19', '6_close_20', '6_vol_20', '6_close_21', '6_vol_21', '6_close_22', '6_vol_22', '6_close_23', '6_vol_23', '6_close_24', '6_vol_24', '6_close_25', '6_vol_25', '6_close_26', '6_vol_26', '6_close_27', '6_vol_27', '6_close_28', '6_vol_28', '6_close_29', '6_vol_29', '6_close_30', '6_vol_30', '6_close_31', '6_vol_31', '6_close_32', '6_vol_32', '6_close_33', '6_vol_33', '6_close_34', '6_vol_34', '6_close_35', '6_vol_35', '6_close_36', '6_vol_36', '6_close_37', '6_vol_37', '6_close_38', '6_vol_38', '6_close_39', '6_vol_39', '6_close_40', '6_vol_40', '6_close_41', '6_vol_41', '6_close_42', '6_vol_42', '6_close_43', '6_vol_43', '6_close_44', '6_vol_44', '6_close_45', '6_vol_45', '6_close_46', '6_vol_46', '6_close_47', '6_vol_47', '6_close_48', '6_vol_48', '6_close_49', '6_vol_49', '6_close_50', '6_vol_50', '6_close_51', '6_vol_51', '6_close_52', '6_vol_52', '6_close_53', '6_vol_53', '6_close_54', '6_vol_54', '6_close_55', '6_vol_55', '6_close_56', '6_vol_56', '6_close_57', '6_vol_57', '6_close_58', '6_vol_58', '6_close_59', '6_vol_59', '7_close_0', '7_vol_0', '7_close_1', '7_vol_1', '7_close_2', '7_vol_2', '7_close_3', '7_vol_3', '7_close_4', '7_vol_4', '7_close_5', '7_vol_5', '7_close_6', '7_vol_6', '7_close_7', '7_vol_7', '7_close_8', '7_vol_8', '7_close_9', '7_vol_9', '7_close_10', '7_vol_10', '7_close_11', '7_vol_11', '7_close_12', '7_vol_12', '7_close_13', '7_vol_13', '7_close_14', '7_vol_14', '7_close_15', '7_vol_15', '7_close_16', '7_vol_16', '7_close_17', '7_vol_17', '7_close_18', '7_vol_18', '7_close_19', '7_vol_19', '7_close_20', '7_vol_20', '7_close_21', '7_vol_21', '7_close_22', '7_vol_22', '7_close_23', '7_vol_23', '7_close_24', '7_vol_24', '7_close_25', '7_vol_25', '7_close_26', '7_vol_26', '7_close_27', '7_vol_27', '7_close_28', '7_vol_28', '7_close_29', '7_vol_29', '7_close_30', '7_vol_30', '7_close_31', '7_vol_31', '7_close_32', '7_vol_32', '7_close_33', '7_vol_33', '7_close_34', '7_vol_34', '7_close_35', '7_vol_35', '7_close_36', '7_vol_36', '7_close_37', '7_vol_37', '7_close_38', '7_vol_38', '7_close_39', '7_vol_39', '7_close_40', '7_vol_40', '7_close_41', '7_vol_41', '7_close_42', '7_vol_42', '7_close_43', '7_vol_43', '7_close_44', '7_vol_44', '7_close_45', '7_vol_45', '7_close_46', '7_vol_46', '7_close_47', '7_vol_47', '7_close_48', '7_vol_48', '7_close_49', '7_vol_49', '7_close_50', '7_vol_50', '7_close_51', '7_vol_51', '7_close_52', '7_vol_52', '7_close_53', '7_vol_53', '7_close_54', '7_vol_54', '7_close_55', '7_vol_55', '7_close_56', '7_vol_56', '7_close_57', '7_vol_57', '7_close_58', '7_vol_58', '7_close_59', '7_vol_59', '8_close_0', '8_vol_0', '8_close_1', '8_vol_1', '8_close_2', '8_vol_2', '8_close_3', '8_vol_3', '8_close_4', '8_vol_4', '8_close_5', '8_vol_5', '8_close_6', '8_vol_6', '8_close_7', '8_vol_7', '8_close_8', '8_vol_8', '8_close_9', '8_vol_9', '8_close_10', '8_vol_10', '8_close_11', '8_vol_11', '8_close_12', '8_vol_12', '8_close_13', '8_vol_13', '8_close_14', '8_vol_14', '8_close_15', '8_vol_15', '8_close_16', '8_vol_16', '8_close_17', '8_vol_17', '8_close_18', '8_vol_18', '8_close_19', '8_vol_19', '8_close_20', '8_vol_20', '8_close_21', '8_vol_21', '8_close_22', '8_vol_22', '8_close_23', '8_vol_23', '8_close_24', '8_vol_24', '8_close_25', '8_vol_25', '8_close_26', '8_vol_26', '8_close_27', '8_vol_27', '8_close_28', '8_vol_28', '8_close_29', '8_vol_29', '8_close_30', '8_vol_30', '8_close_31', '8_vol_31', '8_close_32', '8_vol_32', '8_close_33', '8_vol_33', '8_close_34', '8_vol_34', '8_close_35', '8_vol_35', '8_close_36', '8_vol_36', '8_close_37', '8_vol_37', '8_close_38', '8_vol_38', '8_close_39', '8_vol_39', '8_close_40', '8_vol_40', '8_close_41', '8_vol_41', '8_close_42', '8_vol_42', '8_close_43', '8_vol_43', '8_close_44', '8_vol_44', '8_close_45', '8_vol_45', '8_close_46', '8_vol_46', '8_close_47', '8_vol_47', '8_close_48', '8_vol_48', '8_close_49', '8_vol_49', '8_close_50', '8_vol_50', '8_close_51', '8_vol_51', '8_close_52', '8_vol_52', '8_close_53', '8_vol_53', '8_close_54', '8_vol_54', '8_close_55', '8_vol_55', '8_close_56', '8_vol_56', '8_close_57', '8_vol_57', '8_close_58', '8_vol_58', '8_close_59', '8_vol_59']\n"
     ]
    }
   ],
   "source": [
    "\n",
    "superset = pack_rows(new_datasets, 60, min_size)\n",
    "\n",
    "print(len(superset))"
   ]
  },
  {
   "cell_type": "code",
   "execution_count": 12,
   "metadata": {},
   "outputs": [
    {
     "ename": "KeyError",
     "evalue": "'the label [0] is not in the [index]'",
     "output_type": "error",
     "traceback": [
      "\u001b[0;31m---------------------------------------------------------------------------\u001b[0m",
      "\u001b[0;31mKeyError\u001b[0m                                  Traceback (most recent call last)",
      "\u001b[0;32m/Library/Frameworks/Python.framework/Versions/3.6/lib/python3.6/site-packages/pandas/core/indexing.py\u001b[0m in \u001b[0;36m_has_valid_type\u001b[0;34m(self, key, axis)\u001b[0m\n\u001b[1;32m   1410\u001b[0m                 \u001b[0;32mif\u001b[0m \u001b[0mkey\u001b[0m \u001b[0;32mnot\u001b[0m \u001b[0;32min\u001b[0m \u001b[0max\u001b[0m\u001b[0;34m:\u001b[0m\u001b[0;34m\u001b[0m\u001b[0m\n\u001b[0;32m-> 1411\u001b[0;31m                     \u001b[0merror\u001b[0m\u001b[0;34m(\u001b[0m\u001b[0;34m)\u001b[0m\u001b[0;34m\u001b[0m\u001b[0m\n\u001b[0m\u001b[1;32m   1412\u001b[0m             \u001b[0;32mexcept\u001b[0m \u001b[0mTypeError\u001b[0m \u001b[0;32mas\u001b[0m \u001b[0me\u001b[0m\u001b[0;34m:\u001b[0m\u001b[0;34m\u001b[0m\u001b[0m\n",
      "\u001b[0;32m/Library/Frameworks/Python.framework/Versions/3.6/lib/python3.6/site-packages/pandas/core/indexing.py\u001b[0m in \u001b[0;36merror\u001b[0;34m()\u001b[0m\n\u001b[1;32m   1405\u001b[0m                 raise KeyError(\"the label [%s] is not in the [%s]\" %\n\u001b[0;32m-> 1406\u001b[0;31m                                (key, self.obj._get_axis_name(axis)))\n\u001b[0m\u001b[1;32m   1407\u001b[0m \u001b[0;34m\u001b[0m\u001b[0m\n",
      "\u001b[0;31mKeyError\u001b[0m: 'the label [0] is not in the [index]'",
      "\nDuring handling of the above exception, another exception occurred:\n",
      "\u001b[0;31mKeyError\u001b[0m                                  Traceback (most recent call last)",
      "\u001b[0;32m<ipython-input-12-3ae68af89759>\u001b[0m in \u001b[0;36m<module>\u001b[0;34m()\u001b[0m\n\u001b[1;32m      6\u001b[0m             \u001b[0mdataline\u001b[0m \u001b[0;34m=\u001b[0m \u001b[0;34m[\u001b[0m\u001b[0;34m]\u001b[0m\u001b[0;34m\u001b[0m\u001b[0m\n\u001b[1;32m      7\u001b[0m             \u001b[0;32mfor\u001b[0m \u001b[0mi\u001b[0m \u001b[0;32min\u001b[0m \u001b[0mrange\u001b[0m\u001b[0;34m(\u001b[0m\u001b[0;36m60\u001b[0m\u001b[0;34m)\u001b[0m\u001b[0;34m:\u001b[0m\u001b[0;34m\u001b[0m\u001b[0m\n\u001b[0;32m----> 8\u001b[0;31m                 \u001b[0mclose\u001b[0m \u001b[0;34m=\u001b[0m \u001b[0mset_\u001b[0m\u001b[0;34m.\u001b[0m\u001b[0mloc\u001b[0m\u001b[0;34m[\u001b[0m\u001b[0mi\u001b[0m \u001b[0;34m+\u001b[0m \u001b[0mindex2\u001b[0m\u001b[0;34m]\u001b[0m\u001b[0;34m[\u001b[0m\u001b[0;34m'close'\u001b[0m\u001b[0;34m]\u001b[0m\u001b[0;34m\u001b[0m\u001b[0m\n\u001b[0m\u001b[1;32m      9\u001b[0m                 \u001b[0mvol\u001b[0m \u001b[0;34m=\u001b[0m \u001b[0mset_\u001b[0m\u001b[0;34m.\u001b[0m\u001b[0mloc\u001b[0m\u001b[0;34m[\u001b[0m\u001b[0mi\u001b[0m \u001b[0;34m+\u001b[0m \u001b[0mindex2\u001b[0m\u001b[0;34m]\u001b[0m\u001b[0;34m[\u001b[0m\u001b[0;34m'vol'\u001b[0m\u001b[0;34m]\u001b[0m\u001b[0;34m\u001b[0m\u001b[0m\n\u001b[1;32m     10\u001b[0m             \u001b[0mdataset\u001b[0m\u001b[0;34m[\u001b[0m\u001b[0;34m:\u001b[0m\u001b[0;34m,\u001b[0m\u001b[0mindex2\u001b[0m\u001b[0;34m]\u001b[0m \u001b[0;34m=\u001b[0m \u001b[0;34m[\u001b[0m\u001b[0mclose\u001b[0m\u001b[0;34m,\u001b[0m \u001b[0mvol\u001b[0m\u001b[0;34m,\u001b[0m \u001b[0mindex1\u001b[0m\u001b[0;34m]\u001b[0m\u001b[0;34m\u001b[0m\u001b[0m\n",
      "\u001b[0;32m/Library/Frameworks/Python.framework/Versions/3.6/lib/python3.6/site-packages/pandas/core/indexing.py\u001b[0m in \u001b[0;36m__getitem__\u001b[0;34m(self, key)\u001b[0m\n\u001b[1;32m   1310\u001b[0m             \u001b[0;32mreturn\u001b[0m \u001b[0mself\u001b[0m\u001b[0;34m.\u001b[0m\u001b[0m_getitem_tuple\u001b[0m\u001b[0;34m(\u001b[0m\u001b[0mkey\u001b[0m\u001b[0;34m)\u001b[0m\u001b[0;34m\u001b[0m\u001b[0m\n\u001b[1;32m   1311\u001b[0m         \u001b[0;32melse\u001b[0m\u001b[0;34m:\u001b[0m\u001b[0;34m\u001b[0m\u001b[0m\n\u001b[0;32m-> 1312\u001b[0;31m             \u001b[0;32mreturn\u001b[0m \u001b[0mself\u001b[0m\u001b[0;34m.\u001b[0m\u001b[0m_getitem_axis\u001b[0m\u001b[0;34m(\u001b[0m\u001b[0mkey\u001b[0m\u001b[0;34m,\u001b[0m \u001b[0maxis\u001b[0m\u001b[0;34m=\u001b[0m\u001b[0;36m0\u001b[0m\u001b[0;34m)\u001b[0m\u001b[0;34m\u001b[0m\u001b[0m\n\u001b[0m\u001b[1;32m   1313\u001b[0m \u001b[0;34m\u001b[0m\u001b[0m\n\u001b[1;32m   1314\u001b[0m     \u001b[0;32mdef\u001b[0m \u001b[0m_getitem_axis\u001b[0m\u001b[0;34m(\u001b[0m\u001b[0mself\u001b[0m\u001b[0;34m,\u001b[0m \u001b[0mkey\u001b[0m\u001b[0;34m,\u001b[0m \u001b[0maxis\u001b[0m\u001b[0;34m=\u001b[0m\u001b[0;36m0\u001b[0m\u001b[0;34m)\u001b[0m\u001b[0;34m:\u001b[0m\u001b[0;34m\u001b[0m\u001b[0m\n",
      "\u001b[0;32m/Library/Frameworks/Python.framework/Versions/3.6/lib/python3.6/site-packages/pandas/core/indexing.py\u001b[0m in \u001b[0;36m_getitem_axis\u001b[0;34m(self, key, axis)\u001b[0m\n\u001b[1;32m   1480\u001b[0m \u001b[0;34m\u001b[0m\u001b[0m\n\u001b[1;32m   1481\u001b[0m         \u001b[0;31m# fall thru to straight lookup\u001b[0m\u001b[0;34m\u001b[0m\u001b[0;34m\u001b[0m\u001b[0m\n\u001b[0;32m-> 1482\u001b[0;31m         \u001b[0mself\u001b[0m\u001b[0;34m.\u001b[0m\u001b[0m_has_valid_type\u001b[0m\u001b[0;34m(\u001b[0m\u001b[0mkey\u001b[0m\u001b[0;34m,\u001b[0m \u001b[0maxis\u001b[0m\u001b[0;34m)\u001b[0m\u001b[0;34m\u001b[0m\u001b[0m\n\u001b[0m\u001b[1;32m   1483\u001b[0m         \u001b[0;32mreturn\u001b[0m \u001b[0mself\u001b[0m\u001b[0;34m.\u001b[0m\u001b[0m_get_label\u001b[0m\u001b[0;34m(\u001b[0m\u001b[0mkey\u001b[0m\u001b[0;34m,\u001b[0m \u001b[0maxis\u001b[0m\u001b[0;34m=\u001b[0m\u001b[0maxis\u001b[0m\u001b[0;34m)\u001b[0m\u001b[0;34m\u001b[0m\u001b[0m\n\u001b[1;32m   1484\u001b[0m \u001b[0;34m\u001b[0m\u001b[0m\n",
      "\u001b[0;32m/Library/Frameworks/Python.framework/Versions/3.6/lib/python3.6/site-packages/pandas/core/indexing.py\u001b[0m in \u001b[0;36m_has_valid_type\u001b[0;34m(self, key, axis)\u001b[0m\n\u001b[1;32m   1417\u001b[0m                 \u001b[0;32mraise\u001b[0m\u001b[0;34m\u001b[0m\u001b[0m\n\u001b[1;32m   1418\u001b[0m             \u001b[0;32mexcept\u001b[0m\u001b[0;34m:\u001b[0m\u001b[0;34m\u001b[0m\u001b[0m\n\u001b[0;32m-> 1419\u001b[0;31m                 \u001b[0merror\u001b[0m\u001b[0;34m(\u001b[0m\u001b[0;34m)\u001b[0m\u001b[0;34m\u001b[0m\u001b[0m\n\u001b[0m\u001b[1;32m   1420\u001b[0m \u001b[0;34m\u001b[0m\u001b[0m\n\u001b[1;32m   1421\u001b[0m         \u001b[0;32mreturn\u001b[0m \u001b[0;32mTrue\u001b[0m\u001b[0;34m\u001b[0m\u001b[0m\n",
      "\u001b[0;32m/Library/Frameworks/Python.framework/Versions/3.6/lib/python3.6/site-packages/pandas/core/indexing.py\u001b[0m in \u001b[0;36merror\u001b[0;34m()\u001b[0m\n\u001b[1;32m   1404\u001b[0m                                     \"key\")\n\u001b[1;32m   1405\u001b[0m                 raise KeyError(\"the label [%s] is not in the [%s]\" %\n\u001b[0;32m-> 1406\u001b[0;31m                                (key, self.obj._get_axis_name(axis)))\n\u001b[0m\u001b[1;32m   1407\u001b[0m \u001b[0;34m\u001b[0m\u001b[0m\n\u001b[1;32m   1408\u001b[0m             \u001b[0;32mtry\u001b[0m\u001b[0;34m:\u001b[0m\u001b[0;34m\u001b[0m\u001b[0m\n",
      "\u001b[0;31mKeyError\u001b[0m: 'the label [0] is not in the [index]'"
     ]
    }
   ],
   "source": [
    "# input1 = [[last][vol][1]]\n",
    "dataset = np.zeros((60, 60, len(new_datasets)))\n",
    "for index1, set_ in enumerate(new_datasets):\n",
    "    for index2 in range(len(set_)):\n",
    "        if index2 <= len(set_) - 60:\n",
    "            dataline = []\n",
    "            for i in range(60):\n",
    "                close = set_.loc[i + index2]['close']\n",
    "                vol = set_.loc[i + index2]['vol']\n",
    "            dataset[:,index2] = [close, vol, index1]              \n"
   ]
  },
  {
   "cell_type": "code",
   "execution_count": null,
   "metadata": {},
   "outputs": [],
   "source": [
    "df = new_datasets[2]"
   ]
  },
  {
   "cell_type": "code",
   "execution_count": null,
   "metadata": {},
   "outputs": [],
   "source": [
    "print(df.columns)"
   ]
  },
  {
   "cell_type": "code",
   "execution_count": null,
   "metadata": {},
   "outputs": [],
   "source": [
    "close = pd.Series(df['close'])"
   ]
  },
  {
   "cell_type": "code",
   "execution_count": null,
   "metadata": {},
   "outputs": [],
   "source": [
    "raw_values = close.values\n",
    "print(raw_values)"
   ]
  },
  {
   "cell_type": "code",
   "execution_count": null,
   "metadata": {},
   "outputs": [],
   "source": [
    "# create a differenced series\n",
    "def difference(dataset, interval=1):\n",
    "    diff = list()\n",
    "    for i in range(interval, len(dataset)):\n",
    "        # print(i - interval)\n",
    "        value = D(dataset[i]) - D(dataset[i - interval])\n",
    "        diff.append(value)\n",
    "    return pd.Series(diff)\n",
    "\n",
    "def inverse_difference(history, yhat, interval=1):\n",
    "    return yhat + history[interval-1]\n",
    "\n",
    "def undiff(dataset, diff, interval=1):\n",
    "    the_return = list()\n",
    "    for i, e in enumerate(diff):\n",
    "        if i >= interval:\n",
    "            last_val = dataset[i-interval]\n",
    "            next_val = D(last_val) + D(diff[i])\n",
    "            # assert next_val == dataset[i]\n",
    "            the_return.append(next_val)\n",
    "    return pd.Series(the_return)"
   ]
  },
  {
   "cell_type": "code",
   "execution_count": null,
   "metadata": {},
   "outputs": [],
   "source": [
    "diff_series = difference(close, 1)"
   ]
  },
  {
   "cell_type": "code",
   "execution_count": null,
   "metadata": {
    "scrolled": false
   },
   "outputs": [],
   "source": [
    "fixed_series = undiff(close, diff_series, 1)"
   ]
  },
  {
   "cell_type": "code",
   "execution_count": null,
   "metadata": {},
   "outputs": [],
   "source": [
    "print(fixed_series.head())"
   ]
  },
  {
   "cell_type": "code",
   "execution_count": null,
   "metadata": {
    "scrolled": true
   },
   "outputs": [],
   "source": [
    "inverted = list()\n",
    "for i in range(len(diff_series)):\n",
    "    value = inverse_difference(close, diff_series[i], len(diff_series)-i)\n",
    "    inverted.append(value)\n",
    "inverted = pd.Series(inverted)"
   ]
  },
  {
   "cell_type": "code",
   "execution_count": null,
   "metadata": {
    "scrolled": true
   },
   "outputs": [],
   "source": [
    "print(close.head())\n",
    "print(diff_series.head())\n",
    "print(inverted.head())"
   ]
  },
  {
   "cell_type": "code",
   "execution_count": null,
   "metadata": {},
   "outputs": [],
   "source": []
  }
 ],
 "metadata": {
  "kernelspec": {
   "display_name": "Python 3",
   "language": "python",
   "name": "python3"
  },
  "language_info": {
   "codemirror_mode": {
    "name": "ipython",
    "version": 3
   },
   "file_extension": ".py",
   "mimetype": "text/x-python",
   "name": "python",
   "nbconvert_exporter": "python",
   "pygments_lexer": "ipython3",
   "version": "3.6.0"
  },
  "toc": {
   "nav_menu": {},
   "number_sections": true,
   "sideBar": true,
   "skip_h1_title": false,
   "title_cell": "Table of Contents",
   "title_sidebar": "Contents",
   "toc_cell": false,
   "toc_position": {},
   "toc_section_display": true,
   "toc_window_display": false
  },
  "varInspector": {
   "cols": {
    "lenName": 16,
    "lenType": 16,
    "lenVar": 40
   },
   "kernels_config": {
    "python": {
     "delete_cmd_postfix": "",
     "delete_cmd_prefix": "del ",
     "library": "var_list.py",
     "varRefreshCmd": "print(var_dic_list())"
    },
    "r": {
     "delete_cmd_postfix": ") ",
     "delete_cmd_prefix": "rm(",
     "library": "var_list.r",
     "varRefreshCmd": "cat(var_dic_list()) "
    }
   },
   "types_to_exclude": [
    "module",
    "function",
    "builtin_function_or_method",
    "instance",
    "_Feature"
   ],
   "window_display": false
  }
 },
 "nbformat": 4,
 "nbformat_minor": 2
}
