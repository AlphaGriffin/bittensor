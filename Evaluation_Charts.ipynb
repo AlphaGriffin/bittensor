{
 "cells": [
  {
   "cell_type": "code",
   "execution_count": 1,
   "metadata": {},
   "outputs": [
    {
     "name": "stderr",
     "output_type": "stream",
     "text": [
      "c:\\users\\kinet\\appdata\\local\\programs\\python\\python36\\lib\\site-packages\\matplotlib\\cbook\\deprecation.py:106: MatplotlibDeprecationWarning: The finance module has been deprecated in mpl 2.0 and will be removed in mpl 2.2. Please use the module mpl_finance instead.\n",
      "  warnings.warn(message, mplDeprecation, stacklevel=1)\n"
     ]
    }
   ],
   "source": [
    "%matplotlib inline\n",
    "# generic\n",
    "import os, sys, time, datetime, collections, re, random, asyncio\n",
    "from IPython.display import display\n",
    "from timeit import default_timer as timer\n",
    "from tqdm import tqdm, trange\n",
    "import numpy as np\n",
    "import pandas as pd\n",
    "\n",
    "import ag.bittensor.utils.options as options\n",
    "import ag.bittensor.ai.make_data as make_data\n",
    "import ag.bittensor.utils.talib as talib\n",
    "\n",
    "import matplotlib.pyplot as plt\n",
    "import matplotlib as mpl\n",
    "from matplotlib import cm\n",
    "import matplotlib.dates as mdates\n",
    "from matplotlib.finance import candlestick_ohlc\n",
    "from matplotlib.finance import volume_overlay3\n",
    "from matplotlib.dates import (MONDAY, DateFormatter, MonthLocator,\n",
    "                              WeekdayLocator, date2num)\n",
    "\n",
    "from sklearn import datasets\n",
    "\n",
    "from sklearn.preprocessing import MinMaxScaler\n",
    "from sklearn.preprocessing import minmax_scale\n",
    "from sklearn.preprocessing import MaxAbsScaler\n",
    "from sklearn.preprocessing import StandardScaler\n",
    "from sklearn.preprocessing import RobustScaler\n",
    "from sklearn.preprocessing import Normalizer\n",
    "from sklearn.preprocessing.data import QuantileTransformer"
   ]
  },
  {
   "cell_type": "code",
   "execution_count": 6,
   "metadata": {},
   "outputs": [],
   "source": [
    "# Funcs\n",
    "def get_all_data():\n",
    "    all_data = {}\n",
    "    while True:\n",
    "        filename = datasmith.next_filename\n",
    "        if filename is None: break\n",
    "        datasmith.dataframe = filename\n",
    "        all_data[filename[:-4]] = datasmith.dataframe\n",
    "    return all_data\n",
    "\n",
    "def get_one_data():\n",
    "    filename = datasmith.random_filename\n",
    "    datasmith.dataframe = filename\n",
    "    return datasmith.dataframe\n",
    "\n",
    "def unzero(df):\n",
    "    df = df.replace(0,'NaN')\n",
    "    df = df.dropna(how='all',axis=0)\n",
    "    df = df.replace('NaN', 0)\n",
    "    df.len = len(df)\n",
    "    return df"
   ]
  },
  {
   "cell_type": "code",
   "execution_count": 7,
   "metadata": {},
   "outputs": [],
   "source": [
    "# Globals\n",
    "datasmith = make_data.MakeData()\n",
    "get_all = False  # This is the flag for big data or single data\n",
    "EVALUATION_COIN = 'ZCL_BTC'"
   ]
  },
  {
   "cell_type": "code",
   "execution_count": 8,
   "metadata": {
    "scrolled": true
   },
   "outputs": [
    {
     "name": "stdout",
     "output_type": "stream",
     "text": [
      "Picking the right data took 0.13 secs\n",
      "Working with 4972 One Minute Elements.\n"
     ]
    }
   ],
   "source": [
    "start = timer()\n",
    "if get_all:\n",
    "    dataset = get_all_data()\n",
    "    btc_pairs = [x for x in mega_set if 'BTC' in x]\n",
    "    btc_set = {}\n",
    "    for i in dataset:\n",
    "        if i in btc_pairs:\n",
    "            btc_set[i] = dataset[i]\n",
    "    highvol_set = {}\n",
    "    volumes = []\n",
    "    pairs = []\n",
    "    for i in btc_set:\n",
    "        btc_vol = btc_set[i]['baseVolume'][0] * btc_set[i]['last'][0]\n",
    "        if btc_vol > 100:\n",
    "            highvol_set[i] = btc_set[i]\n",
    "            volumes.append(btc_vol)\n",
    "            pairs.append(i)\n",
    "    print('Working with {} pairs.'.format(len(dataset)))\n",
    "else:\n",
    "    baseline_filename = 'BTC_USDT.csv'\n",
    "    datasmith.dataframe = baseline_filename\n",
    "    baseline = datasmith.dataframe\n",
    "    filename = '{}.csv'.format(EVALUATION_COIN)\n",
    "    datasmith.dataframe = filename\n",
    "    dataset = datasmith.dataframe\n",
    "print('Picking the right data took {:.2f} secs'.format(timer()-start))\n",
    "print('Working with {} One Minute Elements.'.format(len(dataset)))"
   ]
  },
  {
   "cell_type": "code",
   "execution_count": 9,
   "metadata": {},
   "outputs": [],
   "source": [
    "# WORKING GRAPHING DEFS\n",
    "def hex_bins(data, title, fig=None, plot_num=1):\n",
    "    \"\"\"This works\"\"\"\n",
    "    plottings = data\n",
    "    # make plot\n",
    "    if fig is None:\n",
    "        fig = plt.figure(figsize=(12,12))\n",
    "        fig.suptitle(title)\n",
    "    # define the axis for the first plot\n",
    "    left, width = 0.62, 0.32\n",
    "    bottom, height = 0.59, 0.27\n",
    "    bottom_h = height + 0.595\n",
    "    left_h = left + width + 0.001\n",
    "\n",
    "    rect_scatter = [left, bottom, width, height]\n",
    "    rect_histx = [left, bottom_h, width, 0.05]\n",
    "    rect_histy = [left_h, bottom, 0.05, height]\n",
    "\n",
    "    ax_scatter = plt.axes(rect_scatter)  # , facecolor='yellow')  # change bg if want.\n",
    "    ax_histx = plt.axes(rect_histx)\n",
    "    ax_histy = plt.axes(rect_histy)\n",
    "\n",
    "    # define the axis for the colorbar\n",
    "    left, width = width + left + 0.07, 0.01\n",
    "    rect_colorbar = [left, bottom, width, height]\n",
    "    # ax_colorbar = plt.axes(rect_colorbar)\n",
    "    \n",
    "    # get range\n",
    "    y = minmax_scale(plottings[:, 1])\n",
    "    colors = cm.plasma_r(y)\n",
    "    \n",
    "    # zoom-in\n",
    "    zoom_in_percentile_range = (0, 99)\n",
    "    cutoffs_X0 = np.percentile(plottings[:, 0], zoom_in_percentile_range)\n",
    "    cutoffs_X1 = np.percentile(plottings[:, 1], zoom_in_percentile_range)\n",
    "    non_outliers_mask = (\n",
    "        np.all(plottings > [cutoffs_X0[0], cutoffs_X1[0]], axis=1) &\n",
    "        np.all(plottings < [cutoffs_X0[1], cutoffs_X1[1]], axis=1)\n",
    "    )\n",
    "    # Scatter Plot\n",
    "    \"\"\"\n",
    "    ax_scatter.scatter(plottings[:, 0][non_outliers_mask], \n",
    "                plottings[:, 1][non_outliers_mask],\n",
    "                alpha=.85,\n",
    "                marker='o',\n",
    "                s=5,\n",
    "                lw=0,\n",
    "                c=colors               \n",
    "               );\n",
    "    \"\"\"\n",
    "    hexbins = ax_scatter.hexbin(\n",
    "        plottings[:, 0][non_outliers_mask], \n",
    "        plottings[:, 1][non_outliers_mask],\n",
    "        gridsize=25\n",
    "    )\n",
    "    ax_scatter.spines['top'].set_visible(False)\n",
    "    ax_scatter.spines['right'].set_visible(False)\n",
    "    # ax_scatter.axis('off')\n",
    "    msg = 'Performance in 60 min change Vs. BTC_USDT'\n",
    "    txt1 = ax_scatter.text(.15, .05, msg, transform=ax_scatter.transAxes, alpha=.95);\n",
    "    txt1.set_size(10)\n",
    "    txt1.set_color('y')\n",
    "    # Histogram for the X axis or Coin Change\n",
    "    ax_histy.set_ylim(ax_scatter.get_ylim())\n",
    "    ax_histy.hist(plottings[:, 1], bins=50, orientation='horizontal', color='grey', ec='grey')\n",
    "    ax_histy.axis('off')\n",
    "    \n",
    "    # Histogram for the Y axis or BTC_USDT Change\n",
    "    ax_histx.set_xlim(ax_scatter.get_xlim())\n",
    "    ax_histx.hist(plottings[:, 0], bins=50, orientation='vertical', color='grey', ec='grey')\n",
    "    ax_histx.axis('off')\n",
    "    \"\"\"\n",
    "    # color bar\n",
    "    norm = mpl.colors.Normalize(y.min(), y.max())\n",
    "    mpl.colorbar.ColorbarBase(ax_colorbar, cmap=cm.plasma_r,\n",
    "                              norm=norm, orientation='vertical',\n",
    "                              label='Color mapping for values of BTC/USDT')\n",
    "    \"\"\""
   ]
  },
  {
   "cell_type": "code",
   "execution_count": 12,
   "metadata": {},
   "outputs": [],
   "source": [
    "def candleChart(dataframe, title, ax=None):\n",
    "    \"\"\"This works\"\"\"\n",
    "    if ax is None:\n",
    "        fig = plt.figure(figsize=(12,12), facecolor='white',\n",
    "            edgecolor='black')\n",
    "        fig.suptitle(title)\n",
    "    ax = plt.axes()\n",
    "    candlestick_ohlc(ax, zip(\n",
    "        range(len(dataframe)),\n",
    "        # zip(list(date2num(datetime.datetime(x.index.tolist())))),\n",
    "        # date2num(dataframe.index),\n",
    "        dataframe['Open'],\n",
    "        dataframe['High'],\n",
    "        dataframe['Low'],\n",
    "        dataframe['Close']\n",
    "        ), colorup = \"black\", \n",
    "        colordown = \"orange\",\n",
    "        width = 2 * .4)\n",
    "    ax.axis('off')"
   ]
  },
  {
   "cell_type": "code",
   "execution_count": 13,
   "metadata": {
    "scrolled": false
   },
   "outputs": [
    {
     "data": {
      "image/png": "[encoded data removed]",
      "text/plain": [
       "<matplotlib.figure.Figure at 0x267b6d4d6d8>"
      ]
     },
     "metadata": {},
     "output_type": "display_data"
    }
   ],
   "source": [
    "# filename = datasmith.random_filename\n",
    "if True:\n",
    "    filename = 'BTC_USDT.csv'\n",
    "    datasmith.dataframe = filename\n",
    "    df = datasmith.dataframe\n",
    "    if True:\n",
    "        chart = datasmith.candles\n",
    "        candleChart(chart, 'baseline Candles')\n",
    "    if False:\n",
    "        chart2 = datasmith.make_candles(df, 'baseVolume')\n",
    "        candleChart(chart2, 'Volume Candles???')"
   ]
  },
  {
   "cell_type": "code",
   "execution_count": null,
   "metadata": {},
   "outputs": [],
   "source": [
    "# Set this to TRUE and then pick 1 of the test Scalers to test it.\n",
    "if True:  # this is for the single run tests\n",
    "    set__ = 'ETH_BTC'\n",
    "    # cut_off = len(highvol_set[set__])-180  # 3 hours ago\n",
    "    cut_off = 0  # all data\n",
    "    if get_all:\n",
    "        baseline = mega_set['BTC_USDT'][cut_off:]\n",
    "        dataset = highvol_set[set__][cut_off:]\n",
    "    else:\n",
    "        filename = 'BTC_USDT.csv'\n",
    "        datasmith.dataframe = filename\n",
    "        baseline = datasmith.dataframe[cut_off:]\n",
    "        filename = '{}.csv'.format(set__)\n",
    "        datasmith.dataframe = filename\n",
    "        dataset = datasmith.dataframe[cut_off:]\n",
    "    \n",
    "\n",
    "    ## TODO:: MAKE DATA FOR THIS 2 COLUMN COMPARERATOR\n",
    "    x_ = unzero(baseline['last'].pct_change(60))\n",
    "    y_ = unzero(dataset['last'].pct_change(60))\n",
    "    real_scatter = np.array([[x,y] for x, y in zip(x_, y_)])\n",
    "    print(real_scatter.shape)\n",
    "\n",
    "    if False:\n",
    "        hex_bins(data=real_scatter, title='Real Values')\n",
    "    if True:\n",
    "        minMax_scatter = MinMaxScaler().fit_transform(real_scatter)\n",
    "        hex_bins(minMax_scatter, \"Min Max Scaler\")\n",
    "    if False:\n",
    "        plottings = QuantileTransformer(output_distribution='normal').fit_transform(real_scatter)\n",
    "        hex_bins(plottings, 'Quantile Transformation (gaussian pdf)')\n",
    "    if False:\n",
    "        plottings = QuantileTransformer(output_distribution='uniform').fit_transform(real_scatter)\n",
    "        hex_bins(plottings, 'Quantile Transformation (gaussian pdf)')\n",
    "    if False:\n",
    "        robust = RobustScaler(quantile_range=(1, 10)).fit_transform(real_scatter)\n",
    "        hex_bins(robust, \"Robust\")\n",
    "    if False:\n",
    "        normalz = Normalizer().fit_transform(real_scatter)\n",
    "        hex_bins(normalz, \"Normalizer\")"
   ]
  },
  {
   "cell_type": "code",
   "execution_count": null,
   "metadata": {
    "scrolled": true
   },
   "outputs": [],
   "source": [
    "if get_all:\n",
    "    bg_text = 'ALPHAGRIFFIN.COM'\n",
    "    txt_size = 20\n",
    "    # plt.title(set__, y=.75, loc='left')\n",
    "    for set__ in highvol_set:\n",
    "        cut_off = len(highvol_set[set__])- (60*12)  # 12 hours ago\n",
    "        baseline = mega_set['BTC_USDT'][cut_off:]\n",
    "        dataset = highvol_set[set__][cut_off:]\n",
    "        pair = set__\n",
    "\n",
    "        fig = plt.figure(\n",
    "            figsize=(12,12),\n",
    "            facecolor='white',\n",
    "            edgecolor='black'                    \n",
    "        )\n",
    "        fig.suptitle('AlphaGriffin | Bittrex {} | 12 Hour Chart'.format(pair))\n",
    "        gs = plt.GridSpec(5, 2)\n",
    "\n",
    "        ax1 = fig.add_subplot(gs[0,:-1])\n",
    "        ax1.plot(dataset['timestamp'], dataset['last'], alpha=0.35)\n",
    "        ax1.plot(dataset['timestamp'], dataset['last'].rolling(window=7).mean(), color='green', alpha=0.85)\n",
    "        ax1.plot(dataset['timestamp'], dataset['last'].rolling(window=12).mean(), color='red', alpha=0.65)\n",
    "        ax1.set_title('Closing minute price', y=.01, x=.01)\n",
    "        txt1 = ax1.text(.15, .05, bg_text, transform=ax1.transAxes, alpha=.05);\n",
    "        txt1.set_size(txt_size)\n",
    "        ax1.axis('off')\n",
    "        ax1.spines['top'].set_visible(True)\n",
    "        ax1.spines['right'].set_visible(False)\n",
    "        ax1.spines['left'].set_visible(False)\n",
    "        ax1.spines['bottom'].set_visible(False)\n",
    "\n",
    "        ax2 = fig.add_subplot(gs[3,:-1])\n",
    "        ax2.plot(dataset['timestamp'], dataset['change'], alpha=0.35)\n",
    "        ax2.plot(dataset['timestamp'], dataset['change'].rolling(window=7).mean(), color='green', alpha=0.85)\n",
    "        ax2.plot(dataset['timestamp'], dataset['change'].rolling(window=12).mean(), color='red', alpha=0.65)\n",
    "        ax2.set_title('24 Hour Change', y=.01, x=.01)\n",
    "        txt2 = ax2.text(.15, .05, bg_text, transform=ax2.transAxes, alpha=.05);\n",
    "        txt2.set_size(txt_size)\n",
    "        ax2.axis('off')\n",
    "\n",
    "        ax3 = fig.add_subplot(gs[1,:-1])\n",
    "        ax3.plot(dataset['timestamp'], pd.Series(dataset['baseVolume']*dataset['last']), alpha=0.35)\n",
    "        ax3.plot(dataset['timestamp'], pd.Series(dataset['baseVolume']*dataset['last']).rolling(window=7).mean(), color='green', alpha=0.85)\n",
    "        ax3.plot(dataset['timestamp'], pd.Series(dataset['baseVolume']*dataset['last']).rolling(window=12).mean(), color='red', alpha=0.65)\n",
    "        ax3.set_title('Volume in BTC', y=.01, x=.01)\n",
    "        txt3 = ax3.text(.15, .05, bg_text, transform=ax3.transAxes, alpha=.05);\n",
    "        txt3.set_size(txt_size)\n",
    "        ax3.axis('off')\n",
    "\n",
    "\n",
    "        ax4 = fig.add_subplot(gs[2,:-1])\n",
    "        hour_change = unzero(dataset['last'].pct_change(60))\n",
    "        ax4.plot(range(len(hour_change)), hour_change, alpha=.35)\n",
    "        ax4.plot(range(len(hour_change)), hour_change.rolling(window=7).mean(), color='green', alpha=.85)\n",
    "        ax4.plot(range(len(hour_change)), hour_change.rolling(window=12).mean(), color='red', alpha=.65)\n",
    "        ax4.set_title('8 Hour Change', y=.01, x=.01)\n",
    "        txt4 = ax4.text(.15, .05, bg_text, transform=ax4.transAxes, alpha=.05);\n",
    "        txt4.set_size(txt_size)\n",
    "        ax4.axis('off')\n",
    "\n",
    "        baseline_ax = fig.add_subplot(gs[4,:-1])\n",
    "        baseline_change = unzero(baseline['last'].pct_change(60))\n",
    "        baseline_ax.plot(range(len(baseline_change)), baseline_change, alpha=.35)\n",
    "        baseline_ax.plot(range(len(baseline_change)), baseline_change.rolling(window=7).mean(), color='green', alpha=.85)\n",
    "        baseline_ax.plot(range(len(baseline_change)), baseline_change.rolling(window=12).mean(), color='red', alpha=.65)\n",
    "        baseline_ax.set_title('24 Hour Baseline Change', y=.01, x=.01)\n",
    "        txt5 = baseline_ax.text(.15, .05, bg_text, transform=baseline_ax.transAxes, alpha=.05);\n",
    "        txt5.set_size(txt_size)\n",
    "        baseline_ax.axis('off')\n",
    "\n",
    "        # SCATTER AND HISTO COMBO\n",
    "        x_ = baseline_change\n",
    "        y_ = hour_change\n",
    "        real_scatter = np.array([[x,y] for x, y in zip(baseline_change, hour_change)])\n",
    "        # plottings = QuantileTransformer(output_distribution='uniform').fit_transform(real_scatter)\n",
    "        plottings = robust = RobustScaler(quantile_range=(1, 10)).fit_transform(real_scatter)\n",
    "        hex_bins(data=plottings, fig=fig, title='Quantile Transformation (gaussian pdf)')\n",
    "\n",
    "        # TEXT BREAKDOWNS\n",
    "        other_ax = fig.add_subplot(gs[2,1:])\n",
    "        other_ax.axis('off')\n",
    "        othertxt = other_ax.text(.15, .95, \"Test Text Here\", transform=other_ax.transAxes, alpha=.95);\n",
    "        othertxt.set_size(txt_size)\n",
    "\n",
    "        # TEXT BREAKDOWNS\n",
    "        other1_ax = fig.add_subplot(gs[3,1:])\n",
    "        other1_ax.axis('off')\n",
    "        other1txt = other1_ax.text(.15, .05, \"Test Text Here\", transform=other1_ax.transAxes, alpha=.95);\n",
    "        other1txt.set_size(txt_size)\n",
    "\n",
    "        # TEXT BREAKDOWNS\n",
    "        text_ax = fig.add_subplot(gs[4,1:])\n",
    "        text_ax.axis('off')\n",
    "        txtline1 = text_ax.text(.15, .05, \"Test Text Here\", transform=text_ax.transAxes, alpha=.95);\n",
    "        txtline1.set_size(txt_size)\n",
    "        plt.show();\n",
    "        plt.clf();\n",
    "        # break"
   ]
  },
  {
   "cell_type": "code",
   "execution_count": 4,
   "metadata": {},
   "outputs": [],
   "source": [
    "def graph_dataframe(dataset, baseline, period='15m'):\n",
    "    bg_text = 'ALPHAGRIFFIN.COM'\n",
    "    txt_size = 20\n",
    "    cut_off = len(dataset) - (60*12)  # 12 hours ago\n",
    "    pair = df.pair\n",
    "\n",
    "    fig = plt.figure(\n",
    "        figsize=(12,12),\n",
    "        facecolor='white',\n",
    "        edgecolor='black'                    \n",
    "    )\n",
    "    fig.suptitle('AlphaGriffin | Bittrex {} | 12 Hour Chart'.format(pair))\n",
    "    gs = plt.GridSpec(5, 2)\n",
    "    frames = []\n",
    "    for i in gs:\n",
    "        frames.append(i)\n",
    "    for i, e in enumerate(frames):\n",
    "        ax = fig.add_subplot(e)\n",
    "        ax.set_title('Plot #{}'.format(i))\n",
    "        bgtxt = ax.text(.15, .05, bg_text, transform=ax.transAxes, alpha=.05);\n",
    "        bgtxt.set_size(txt_size)\n",
    "        # ax.axis('off')\n",
    "    fig.subplots_adjust(left=0, right=1,\n",
    "                    top=1, bottom=0,\n",
    "                    hspace=0, wspace=0)   \n",
    "    plt.show()"
   ]
  },
  {
   "cell_type": "code",
   "execution_count": 5,
   "metadata": {
    "scrolled": false
   },
   "outputs": [
    {
     "ename": "NameError",
     "evalue": "name 'dataset' is not defined",
     "output_type": "error",
     "traceback": [
      "\u001b[1;31m---------------------------------------------------------------------------\u001b[0m",
      "\u001b[1;31mNameError\u001b[0m                                 Traceback (most recent call last)",
      "\u001b[1;32m<ipython-input-5-6184b9944851>\u001b[0m in \u001b[0;36m<module>\u001b[1;34m()\u001b[0m\n\u001b[1;32m----> 1\u001b[1;33m \u001b[0mgraph_dataframe\u001b[0m\u001b[1;33m(\u001b[0m\u001b[0mdataset\u001b[0m\u001b[1;33m,\u001b[0m \u001b[0mbaseline\u001b[0m\u001b[1;33m,\u001b[0m \u001b[1;34m'30m'\u001b[0m\u001b[1;33m)\u001b[0m\u001b[1;33m\u001b[0m\u001b[0m\n\u001b[0m",
      "\u001b[1;31mNameError\u001b[0m: name 'dataset' is not defined"
     ]
    }
   ],
   "source": [
    "graph_dataframe(dataset, baseline, '30m')"
   ]
  },
  {
   "cell_type": "code",
   "execution_count": 3,
   "metadata": {},
   "outputs": [
    {
     "data": {
      "image/png": "[encoded data removed]",
      "text/plain": [
       "<matplotlib.figure.Figure at 0x182751102b0>"
      ]
     },
     "metadata": {},
     "output_type": "display_data"
    }
   ],
   "source": [
    "import matplotlib.pyplot as plt\n",
    "import numpy as np\n",
    "plt.clf();\n",
    "x = np.linspace(0.1, 2 * np.pi, 20)\n",
    "markerline, stemlines, baseline = plt.stem(x, np.cos(x), '-.')\n",
    "plt.setp(baseline, color='r', linewidth=2)\n",
    "\n",
    "plt.show()"
   ]
  },
  {
   "cell_type": "code",
   "execution_count": null,
   "metadata": {},
   "outputs": [],
   "source": []
  }
 ],
 "metadata": {
  "kernelspec": {
   "display_name": "Python 3",
   "language": "python",
   "name": "python3"
  },
  "language_info": {
   "codemirror_mode": {
    "name": "ipython",
    "version": 3
   },
   "file_extension": ".py",
   "mimetype": "text/x-python",
   "name": "python",
   "nbconvert_exporter": "python",
   "pygments_lexer": "ipython3",
   "version": "3.6.3"
  },
  "toc": {
   "nav_menu": {},
   "number_sections": true,
   "sideBar": true,
   "skip_h1_title": false,
   "title_cell": "Table of Contents",
   "title_sidebar": "Contents",
   "toc_cell": false,
   "toc_position": {},
   "toc_section_display": true,
   "toc_window_display": false
  },
  "varInspector": {
   "cols": {
    "lenName": 16,
    "lenType": 16,
    "lenVar": 40
   },
   "kernels_config": {
    "python": {
     "delete_cmd_postfix": "",
     "delete_cmd_prefix": "del ",
     "library": "var_list.py",
     "varRefreshCmd": "print(var_dic_list())"
    },
    "r": {
     "delete_cmd_postfix": ") ",
     "delete_cmd_prefix": "rm(",
     "library": "var_list.r",
     "varRefreshCmd": "cat(var_dic_list()) "
    }
   },
   "types_to_exclude": [
    "module",
    "function",
    "builtin_function_or_method",
    "instance",
    "_Feature"
   ],
   "window_display": false
  }
 },
 "nbformat": 4,
 "nbformat_minor": 2
}
