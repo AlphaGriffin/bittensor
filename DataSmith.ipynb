{
 "cells": [
  {
   "cell_type": "code",
   "execution_count": 1,
   "metadata": {},
   "outputs": [],
   "source": [
    "%matplotlib inline\n",
    "### DATA SMITH \n",
    "import ag.bittensor.ai.make_data as make_data\n",
    "datasmith = make_data.MakeData()"
   ]
  },
  {
   "cell_type": "code",
   "execution_count": 2,
   "metadata": {},
   "outputs": [
    {
     "name": "stdout",
     "output_type": "stream",
     "text": [
      "['bittrex', 'poloniex']\n"
     ]
    }
   ],
   "source": [
    "exchanges = datasmith.all_exchanges\n",
    "print(exchanges)"
   ]
  },
  {
   "cell_type": "code",
   "execution_count": 3,
   "metadata": {},
   "outputs": [
    {
     "name": "stdout",
     "output_type": "stream",
     "text": [
      "bittrex\n"
     ]
    }
   ],
   "source": [
    "cur_exchange = datasmith.cur_exchange\n",
    "print(cur_exchange)"
   ]
  },
  {
   "cell_type": "code",
   "execution_count": 4,
   "metadata": {},
   "outputs": [
    {
     "name": "stdout",
     "output_type": "stream",
     "text": [
      "bittrex_NXS_BTC.csv\n"
     ]
    }
   ],
   "source": [
    "sample = datasmith.random_filename\n",
    "print(sample)"
   ]
  },
  {
   "cell_type": "code",
   "execution_count": 5,
   "metadata": {},
   "outputs": [
    {
     "name": "stdout",
     "output_type": "stream",
     "text": [
      "                         Open      High       Low     Close       Volume  \\\n",
      "timestamp                                                                  \n",
      "2018-03-10 23:59:00  0.000295  0.000297  0.000295  0.000297  1157.321536   \n",
      "2018-03-11 00:00:00  0.000297  0.000297  0.000297  0.000297    47.674812   \n",
      "\n",
      "                               timestamp  \n",
      "timestamp                                 \n",
      "2018-03-10 23:59:00  2018-03-10 23:59:00  \n",
      "2018-03-11 00:00:00  2018-03-11 00:00:00  \n"
     ]
    }
   ],
   "source": [
    "datasmith.dataframe = sample\n",
    "print(datasmith.dataframe.tail(2))"
   ]
  },
  {
   "cell_type": "code",
   "execution_count": 6,
   "metadata": {},
   "outputs": [
    {
     "name": "stdout",
     "output_type": "stream",
     "text": [
      "                         Open      High       Low     Close       Volume\n",
      "timestamp                                                               \n",
      "2018-03-01 06:09:00  0.000296  0.000297  0.000295  0.000297  1157.321536\n",
      "2018-03-01 06:10:00  0.000297  0.000297  0.000297  0.000297    47.674812\n",
      "321\n"
     ]
    }
   ],
   "source": [
    "timeframe = '45T'\n",
    "datasmith.candles = timeframe\n",
    "df = datasmith.candles\n",
    "print(df.tail(2))\n",
    "print(len(df))"
   ]
  },
  {
   "cell_type": "code",
   "execution_count": 7,
   "metadata": {},
   "outputs": [
    {
     "data": {
      "text/plain": [
       "<matplotlib.axes._subplots.AxesSubplot at 0x23e02176630>"
      ]
     },
     "execution_count": 7,
     "metadata": {},
     "output_type": "execute_result"
    },
    {
     "data": {
      "image/png": "[encoded data removed]",
      "text/plain": [
       "<matplotlib.figure.Figure at 0x23e02176438>"
      ]
     },
     "metadata": {},
     "output_type": "display_data"
    }
   ],
   "source": [
    "df.plot()"
   ]
  },
  {
   "cell_type": "code",
   "execution_count": null,
   "metadata": {},
   "outputs": [],
   "source": []
  }
 ],
 "metadata": {
  "kernelspec": {
   "display_name": "Python 3",
   "language": "python",
   "name": "python3"
  },
  "language_info": {
   "codemirror_mode": {
    "name": "ipython",
    "version": 3
   },
   "file_extension": ".py",
   "mimetype": "text/x-python",
   "name": "python",
   "nbconvert_exporter": "python",
   "pygments_lexer": "ipython3",
   "version": "3.6.3"
  },
  "toc": {
   "nav_menu": {},
   "number_sections": true,
   "sideBar": true,
   "skip_h1_title": false,
   "title_cell": "Table of Contents",
   "title_sidebar": "Contents",
   "toc_cell": false,
   "toc_position": {},
   "toc_section_display": true,
   "toc_window_display": false
  },
  "varInspector": {
   "cols": {
    "lenName": 16,
    "lenType": 16,
    "lenVar": 40
   },
   "kernels_config": {
    "python": {
     "delete_cmd_postfix": "",
     "delete_cmd_prefix": "del ",
     "library": "var_list.py",
     "varRefreshCmd": "print(var_dic_list())"
    },
    "r": {
     "delete_cmd_postfix": ") ",
     "delete_cmd_prefix": "rm(",
     "library": "var_list.r",
     "varRefreshCmd": "cat(var_dic_list()) "
    }
   },
   "types_to_exclude": [
    "module",
    "function",
    "builtin_function_or_method",
    "instance",
    "_Feature"
   ],
   "window_display": false
  }
 },
 "nbformat": 4,
 "nbformat_minor": 2
}
