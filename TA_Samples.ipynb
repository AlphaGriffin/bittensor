{
 "cells": [
  {
   "cell_type": "code",
   "execution_count": null,
   "metadata": {},
   "outputs": [],
   "source": [
    "# this notebook is testing the TA lib as its being built from notes\n",
    "# this TA lib will be a complete rewrite in python. By alphagriffin."
   ]
  },
  {
   "cell_type": "code",
   "execution_count": 1,
   "metadata": {},
   "outputs": [],
   "source": [
    "%matplotlib inline\n",
    "# generic\n",
    "import os, sys, time, datetime, collections, re, random, asyncio\n",
    "from IPython.display import display\n",
    "from timeit import default_timer as timer\n",
    "from tqdm import tqdm, trange\n",
    "import numpy as np\n",
    "import pandas as pd\n",
    "\n",
    "import ag.bittensor.utils.options as options\n",
    "import ag.bittensor.ai.make_data as make_data\n",
    "\n",
    "\n",
    "import matplotlib.pyplot as plt\n",
    "import matplotlib as mpl\n",
    "from matplotlib import pyplot as plt\n",
    "from matplotlib import cm\n",
    "import matplotlib.dates as mdates\n",
    "\n",
    "from sklearn.neural_network import MLPClassifier\n",
    "from sklearn import datasets\n",
    "\n",
    "from sklearn.preprocessing import MinMaxScaler\n",
    "from sklearn.preprocessing import minmax_scale\n",
    "from sklearn.preprocessing import MaxAbsScaler\n",
    "from sklearn.preprocessing import StandardScaler\n",
    "from sklearn.preprocessing import RobustScaler\n",
    "from sklearn.preprocessing import Normalizer\n",
    "from sklearn.preprocessing.data import QuantileTransformer\n",
    "\n",
    "import ag.bittensor.utils.talib as talib"
   ]
  },
  {
   "cell_type": "code",
   "execution_count": 2,
   "metadata": {},
   "outputs": [],
   "source": [
    "# Funcs\n",
    "def get_all_data():\n",
    "    all_data = {}\n",
    "    while True:\n",
    "        filename = datasmith.next_filename\n",
    "        if filename is None: break\n",
    "        datasmith.dataframe = filename\n",
    "        all_data[filename[:-4]] = datasmith.dataframe\n",
    "    return all_data\n",
    "\n",
    "def get_one_data():\n",
    "    filename = datasmith.random_filename\n",
    "    datasmith.dataframe = filename\n",
    "    return datasmith.dataframe\n",
    "\n",
    "def unzero(df):\n",
    "    df = df.replace(0,'NaN')\n",
    "    df = df.dropna(how='all',axis=0)\n",
    "    df = df.replace('NaN', 0)\n",
    "    df.len = len(df)\n",
    "    return df\n",
    "\n",
    "def get_change(df, period=60):  \n",
    "    # not really using this... just keeping around for notes\n",
    "    return unzero(df.pct_change(periods = period))"
   ]
  },
  {
   "cell_type": "code",
   "execution_count": 3,
   "metadata": {
    "scrolled": true
   },
   "outputs": [
    {
     "name": "stdout",
     "output_type": "stream",
     "text": [
      "Got DASH_BTC | Took: 0.01 secs\n"
     ]
    }
   ],
   "source": [
    "# Globals\n",
    "datasmith = make_data.MakeData()\n",
    "TA = talib.TALib()\n",
    "\n",
    "start = timer()\n",
    "get_all_data = False\n",
    "if get_all_data:\n",
    "    mega_set = get_all_data()\n",
    "    btc_pairs = [x for x in mega_set if 'BTC' in x]\n",
    "    btc_set = {}\n",
    "    for i in mega_set:\n",
    "        if i in btc_pairs:\n",
    "            btc_set[i] = mega_set[i]\n",
    "    highvol_set = {}\n",
    "    volumes = []\n",
    "    pairs = []\n",
    "    for i in btc_set:\n",
    "        btc_vol = btc_set[i]['baseVolume'][0] * btc_set[i]['last'][0]\n",
    "        if btc_vol > 100:\n",
    "            highvol_set[i] = btc_set[i]\n",
    "            volumes.append(btc_vol)\n",
    "            pairs.append(i)\n",
    "    print('Picking the right data took {:.2f} secs'.format(timer()-start))\n",
    "    print('Working with {} pairs.'.format(len(highvol_set)))\n",
    "else:\n",
    "    df = get_one_data()\n",
    "    print('Got {} | Took: {:.2f} secs'.format(datasmith.pair, timer()-start))"
   ]
  },
  {
   "cell_type": "code",
   "execution_count": 4,
   "metadata": {},
   "outputs": [],
   "source": [
    "# moving average\n",
    "_, df = TA.MA(df, 30)\n",
    "_, df = TA.MA(df, 30, 'baseVolume')\n",
    "# expontential moving average\n",
    "_, df = TA.EMA(df, 30)\n",
    "_, df = TA.EMA(df, 30, 'baseVolume')\n",
    "# momentum\n",
    "_, df = TA.MOM(df, 30)\n",
    "_, df = TA.MOM(df, 30, 'baseVolume')\n",
    "# rate of change\n",
    "_, df = TA.ROC(df, 30)\n",
    "_, df = TA.ROC(df, 30, 'baseVolume')"
   ]
  },
  {
   "cell_type": "code",
   "execution_count": 5,
   "metadata": {
    "scrolled": true
   },
   "outputs": [
    {
     "name": "stdout",
     "output_type": "stream",
     "text": [
      "          timestamp    high       low    last    change   baseVolume  \\\n",
      "4971  1519295722823  0.0649  0.061565  0.0625 -0.021144  2664.580869   \n",
      "4972  1519295843001  0.0649  0.061565  0.0620 -0.029732  2664.947175   \n",
      "\n",
      "      MA_last_30  MA_baseVolume_30  EMA_last_30  EMA_baseVolume_30  \\\n",
      "4971    0.062560       2676.424197     0.062504        2678.125794   \n",
      "4972    0.062543       2675.466665     0.062471        2677.275560   \n",
      "\n",
      "      Momentum_last_30  Momentum_baseVolume_30  RateOfChange_last_30  \\\n",
      "4971      3.000000e-08              -26.555091              0.000800   \n",
      "4972     -4.998500e-04              -28.725981             -0.007997   \n",
      "\n",
      "      RateOfChange_baseVolume_30  \n",
      "4971                   -0.018728  \n",
      "4972                   -0.009722  \n"
     ]
    }
   ],
   "source": [
    "print(df.tail(2))"
   ]
  },
  {
   "cell_type": "code",
   "execution_count": 15,
   "metadata": {},
   "outputs": [],
   "source": [
    "mom = df['Momentum_last_30'].mean()\n",
    "rock = df['RateOfChange_last_30'].mean()"
   ]
  },
  {
   "cell_type": "code",
   "execution_count": 23,
   "metadata": {},
   "outputs": [
    {
     "name": "stdout",
     "output_type": "stream",
     "text": [
      "Buy/Hold DASH_BTC | -0.00002019 BTC or -0.0003% per 30 mins over last 3.5 days\n"
     ]
    }
   ],
   "source": [
    "print('Buy/Hold {} | {:.8f} BTC or {:.2}% per 30 mins over last {:.1f} days'.format(datasmith.pair, mom, rock, len(df)/60/24))"
   ]
  },
  {
   "cell_type": "code",
   "execution_count": null,
   "metadata": {},
   "outputs": [],
   "source": []
  }
 ],
 "metadata": {
  "kernelspec": {
   "display_name": "Python 3",
   "language": "python",
   "name": "python3"
  },
  "language_info": {
   "codemirror_mode": {
    "name": "ipython",
    "version": 3
   },
   "file_extension": ".py",
   "mimetype": "text/x-python",
   "name": "python",
   "nbconvert_exporter": "python",
   "pygments_lexer": "ipython3",
   "version": "3.6.3"
  },
  "toc": {
   "nav_menu": {},
   "number_sections": true,
   "sideBar": true,
   "skip_h1_title": false,
   "title_cell": "Table of Contents",
   "title_sidebar": "Contents",
   "toc_cell": false,
   "toc_position": {},
   "toc_section_display": true,
   "toc_window_display": false
  },
  "varInspector": {
   "cols": {
    "lenName": 16,
    "lenType": 16,
    "lenVar": 40
   },
   "kernels_config": {
    "python": {
     "delete_cmd_postfix": "",
     "delete_cmd_prefix": "del ",
     "library": "var_list.py",
     "varRefreshCmd": "print(var_dic_list())"
    },
    "r": {
     "delete_cmd_postfix": ") ",
     "delete_cmd_prefix": "rm(",
     "library": "var_list.r",
     "varRefreshCmd": "cat(var_dic_list()) "
    }
   },
   "types_to_exclude": [
    "module",
    "function",
    "builtin_function_or_method",
    "instance",
    "_Feature"
   ],
   "window_display": false
  }
 },
 "nbformat": 4,
 "nbformat_minor": 2
}
