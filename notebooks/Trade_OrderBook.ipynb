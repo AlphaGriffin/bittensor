{
 "cells": [
  {
   "cell_type": "code",
   "execution_count": 1,
   "metadata": {},
   "outputs": [],
   "source": [
    "import os, sys, time, datetime\n",
    "import pandas as pd\n",
    "import numpy as np\n",
    "import ccxt"
   ]
  },
  {
   "cell_type": "code",
   "execution_count": 8,
   "metadata": {},
   "outputs": [],
   "source": [
    "class Options(object):\n",
    "    def __init__(self):\n",
    "        self.exchange_name = 'bittrex'\n",
    "        self.api = 'YOUR API GOES HERE'\n",
    "        self.secret = 'YOUR SECRET GOES HERE'\n",
    "def login(options):    \n",
    "    exchange = eval('ccxt.{}()'.format(options.exchange_name))\n",
    "    exchange.apiKey = options.api\n",
    "    exchange.secret = options.secret\n",
    "    return exchange"
   ]
  },
  {
   "cell_type": "code",
   "execution_count": 9,
   "metadata": {},
   "outputs": [],
   "source": [
    "exchange = login(Options())\n",
    "coin = 'ETH'\n",
    "pair = 'ETH/BTC'"
   ]
  },
  {
   "cell_type": "code",
   "execution_count": 11,
   "metadata": {},
   "outputs": [],
   "source": [
    "balance = exchange.fetchBalance()\n",
    "current_bal = balance[coin]['total']"
   ]
  },
  {
   "cell_type": "code",
   "execution_count": 88,
   "metadata": {},
   "outputs": [],
   "source": [
    "ticker = exchange.fetchTicker(pair)"
   ]
  },
  {
   "cell_type": "code",
   "execution_count": 131,
   "metadata": {},
   "outputs": [
    {
     "name": "stdout",
     "output_type": "stream",
     "text": [
      "symbol LIZA/BTC\n",
      "timestamp 1518859575000\n",
      "datetime 2018-02-17T09:26:15.000Z\n",
      "high 6.98e-06\n",
      "low 3.3e-06\n",
      "bid 3.58e-06\n",
      "ask 3.6e-06\n",
      "vwap None\n",
      "open None\n",
      "close None\n",
      "first None\n",
      "last 3.58e-06\n",
      "change None\n",
      "percentage None\n",
      "average 5.14e-06\n",
      "baseVolume 41168863.39455213\n",
      "quoteVolume 198.82263124\n",
      "info {'high': 6.98e-06, 'low': 3.3e-06, 'avg': 5.14e-06, 'vol': 198.82263124, 'vol_cur': 41168863.39455213, 'last': 3.58e-06, 'buy': 3.58e-06, 'sell': 3.6e-06, 'updated': 1518859575}\n"
     ]
    }
   ],
   "source": [
    "for i in ticker:\n",
    "    print(i, ticker[i])"
   ]
  },
  {
   "cell_type": "code",
   "execution_count": 116,
   "metadata": {},
   "outputs": [
    {
     "name": "stdout",
     "output_type": "stream",
     "text": [
      "0.00000358 | last\n",
      "0.00000698 | high\n",
      "0.00000330 | low\n",
      "0.00000514 | avg\n",
      "hit\n"
     ]
    }
   ],
   "source": [
    "tick = []\n",
    "vol = []\n",
    "tick.append([ticker['last'], 'last'])\n",
    "tick.append([ticker['high'], 'high'])\n",
    "tick.append([ticker['low'], 'low'])\n",
    "tick.append([ticker['average'], 'avg'])\n",
    "vol.append([ticker['baseVolume'], 'coinvol'])\n",
    "vol.append([ticker['quoteVolume'], 'btcvol'])\n",
    "for i in range(len(tick)):\n",
    "    print('{:.8f} | {}'.format(tick[i][0], tick[i][1]))\n",
    "if any(0.00000358 in s for s in tick):\n",
    "    print('hit')"
   ]
  },
  {
   "cell_type": "code",
   "execution_count": 68,
   "metadata": {},
   "outputs": [],
   "source": [
    "current_orders = exchange.fetchOpenOrders(pair)\n",
    "buys = []\n",
    "sells = []\n",
    "for i in range(len(current_orders)):\n",
    "    if 'buy' in current_orders[i]['side']:\n",
    "        buys.append((current_orders[i]['price'], current_orders[i]['remaining']))\n",
    "    else:\n",
    "        sells.append((current_orders[i]['price'], current_orders[i]['remaining']))"
   ]
  },
  {
   "cell_type": "code",
   "execution_count": 23,
   "metadata": {},
   "outputs": [],
   "source": [
    "orderbook = exchange.fetchOrderBook(pair)"
   ]
  },
  {
   "cell_type": "code",
   "execution_count": 133,
   "metadata": {},
   "outputs": [],
   "source": [
    "num_order = 12"
   ]
  },
  {
   "cell_type": "code",
   "execution_count": 138,
   "metadata": {},
   "outputs": [
    {
     "name": "stdout",
     "output_type": "stream",
     "text": [
      "##   2018-02-17T08:49:09.841Z | LIZA/BTC\n",
      "0.00000373 | 2921.00\n",
      "0.00000372 | 11073.89\n",
      "0.00000371 | 1647.00\n",
      "0.00000370 | 21363.80\n",
      "0.00000369 | 30889.26\n",
      "0.00000368 | 1000.00\n",
      "0.00000367 | 13822.44\n",
      "0.00000366 | 10545.84\n",
      "0.00000365 | 9882.70\n",
      "0.00000363 | 4170.95\n",
      "0.00000362 | 2416.11\n",
      "0.00000361 | 394.58\n",
      "-- Balance: 2470.7 Last: 0.00000358  ----------------\n",
      "0.00000355 | 717.92\n",
      "0.00000353 | 100.00\n",
      "0.00000352 | 2832.79\n",
      "0.00000351 | 21315.64\n",
      "0.00000350 | 46862.56\n",
      "0.00000347 | 6770.05\n",
      "0.00000346 | 27217.25\n",
      "0.00000345 | 72771.24\n",
      "0.00000342 | 10000.00\n",
      "0.00000341 | 27043.53  <--- 970.68004752\n",
      "0.00000340 | 349482.24\n",
      "0.00000339 | 4000.00\n"
     ]
    }
   ],
   "source": [
    "# top\n",
    "print('##  ', orderbook['datetime'], '| {}'.format(pair))\n",
    "# asks first\n",
    "for i in range(num_order, 0, -1):\n",
    "    ask = orderbook['asks'][i]\n",
    "    msg = '{:.8f} | {:.2f}'.format(ask[0], ask[1])\n",
    "    if any(ask[0] in s for s in sells):\n",
    "        msg += '<--- ORDER'\n",
    "        \n",
    "    if any(ask[0] in t for t in tick):\n",
    "        msg += 'HIT'\n",
    "        mark = [s for s in buys if bid[0] in s][1]\n",
    "        msg += '{}'.format(mark)\n",
    "        \n",
    "    print(msg)\n",
    "last = float([s for s in tick if 'last' is s[1]][0][0])\n",
    "\n",
    "# Center\n",
    "print('-- Balance: {:.1f} Last: {:.8f}  '.format(current_bal, last) + '--'*8)\n",
    "\n",
    "# bids \n",
    "for i in range(num_order):\n",
    "    bid = orderbook['bids'][i]\n",
    "    msg = '{:.8f} | {:.2f}'.format(bid[0], bid[1])\n",
    "    \n",
    "    # buy/sell markers\n",
    "    if any(bid[0] in s for s in buys):\n",
    "        order = [s for s in buys if bid[0] in s]\n",
    "        msg += '  <--- {}'.format(order[0][1])\n",
    "        \n",
    "    # ticker markers\n",
    "    if any(ask[0] in t for t in tick):\n",
    "        msg += 'HIT'\n",
    "        mark = [s for s in buys if bid[0] in s][1]\n",
    "        msg += '{}'.format(mark)\n",
    "        \n",
    "    print(msg)"
   ]
  },
  {
   "cell_type": "code",
   "execution_count": 27,
   "metadata": {},
   "outputs": [
    {
     "name": "stdout",
     "output_type": "stream",
     "text": [
      "2018-02-17T08:49:09.841Z\n"
     ]
    }
   ],
   "source": []
  },
  {
   "cell_type": "code",
   "execution_count": null,
   "metadata": {},
   "outputs": [],
   "source": []
  }
 ],
 "metadata": {
  "kernelspec": {
   "display_name": "Python 3",
   "language": "python",
   "name": "python3"
  },
  "language_info": {
   "codemirror_mode": {
    "name": "ipython",
    "version": 3
   },
   "file_extension": ".py",
   "mimetype": "text/x-python",
   "name": "python",
   "nbconvert_exporter": "python",
   "pygments_lexer": "ipython3",
   "version": "3.6.3"
  },
  "toc": {
   "nav_menu": {},
   "number_sections": true,
   "sideBar": true,
   "skip_h1_title": false,
   "title_cell": "Table of Contents",
   "title_sidebar": "Contents",
   "toc_cell": false,
   "toc_position": {},
   "toc_section_display": true,
   "toc_window_display": false
  },
  "varInspector": {
   "cols": {
    "lenName": 16,
    "lenType": 16,
    "lenVar": 40
   },
   "kernels_config": {
    "python": {
     "delete_cmd_postfix": "",
     "delete_cmd_prefix": "del ",
     "library": "var_list.py",
     "varRefreshCmd": "print(var_dic_list())"
    },
    "r": {
     "delete_cmd_postfix": ") ",
     "delete_cmd_prefix": "rm(",
     "library": "var_list.r",
     "varRefreshCmd": "cat(var_dic_list()) "
    }
   },
   "types_to_exclude": [
    "module",
    "function",
    "builtin_function_or_method",
    "instance",
    "_Feature"
   ],
   "window_display": false
  }
 },
 "nbformat": 4,
 "nbformat_minor": 2
}
