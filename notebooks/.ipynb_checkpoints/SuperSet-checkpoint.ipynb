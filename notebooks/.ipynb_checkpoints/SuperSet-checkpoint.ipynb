{
 "cells": [
  {
   "cell_type": "code",
   "execution_count": 14,
   "metadata": {},
   "outputs": [],
   "source": [
    "import pandas as pd\n",
    "import ccxt\n",
    "import time\n",
    "from timeit import default_timer as timer\n",
    "from matplotlib import pyplot\n",
    "from decimal import Decimal as D"
   ]
  },
  {
   "cell_type": "code",
   "execution_count": 2,
   "metadata": {},
   "outputs": [],
   "source": [
    "this_exchange = ccxt.poloniex()"
   ]
  },
  {
   "cell_type": "code",
   "execution_count": 3,
   "metadata": {},
   "outputs": [],
   "source": [
    "if False:\n",
    "    for i in POLO.__dict__:\n",
    "        if '__' not in i:\n",
    "            if 'fetch' in i:\n",
    "                print(i)"
   ]
  },
  {
   "cell_type": "code",
   "execution_count": 4,
   "metadata": {},
   "outputs": [],
   "source": [
    "ticker = this_exchange.fetchTickers()"
   ]
  },
  {
   "cell_type": "code",
   "execution_count": 5,
   "metadata": {
    "scrolled": false
   },
   "outputs": [
    {
     "name": "stdout",
     "output_type": "stream",
     "text": [
      "DASH/BTC\n",
      "Elements in Dataset: 417638\n",
      "Downloading this coin took: 21.238544837041548 secs\n",
      "DGB/BTC\n",
      "Elements in Dataset: 311939\n",
      "Downloading this coin took: 12.964520340651152 secs\n",
      "ETH/BTC\n",
      "Elements in Dataset: 260288\n",
      "Downloading this coin took: 11.461390025088036 secs\n",
      "Min length of all sets is 260288 samples\n",
      "Collected All Datasets\n"
     ]
    }
   ],
   "source": [
    "coins_to_use = ['ETH/BTC', 'DGB/BTC', 'DASH/BTC']\n",
    "datasets = []\n",
    "min_len = 10000000\n",
    "for index, pair in enumerate(ticker):\n",
    "    if pair in coins_to_use:\n",
    "        print(pair)\n",
    "        # SLEEP!! DO NOT GET BANNED!\n",
    "        time.sleep (this_exchange.rateLimit / 400)\n",
    "        start_call = timer()\n",
    "        chart = this_exchange.fetchOhlcv(pair, \n",
    "                                         timeframe = '5m', # polo only offers the 5m\n",
    "                                         since = int(1515974400)\n",
    "                                         )\n",
    "        df = pd.DataFrame(\n",
    "            chart, \n",
    "            columns=['time','open','high','low','close','vol']\n",
    "        )\n",
    "        df.pair = pair\n",
    "        this_len = len(df)\n",
    "        if this_len < min_len:\n",
    "            min_len = this_len\n",
    "        print('Elements in Dataset:', this_len)\n",
    "        print('Downloading this coin took: {} secs'.format(timer()-start_call))\n",
    "        datasets.append(df)\n",
    "print('Min length of all sets is {} samples'.format(min_len))\n",
    "print('Collected All Datasets')        "
   ]
  },
  {
   "cell_type": "code",
   "execution_count": 6,
   "metadata": {},
   "outputs": [
    {
     "name": "stdout",
     "output_type": "stream",
     "text": [
      "DASH/BTC 417638\n",
      "Start of set 1439010600000\n",
      "end of set 1517096700000\n",
      "New set len 260288\n",
      "DGB/BTC 311939\n",
      "Start of set 1439010600000\n",
      "end of set 1517096700000\n",
      "New set len 260288\n",
      "ETH/BTC 260288\n",
      "this is the lowest len df and not changing\n",
      "Start of set 1439010600000\n",
      "end of set 1517096700000\n",
      "New set len 260288\n"
     ]
    }
   ],
   "source": [
    "# the end time in all datasets is the same... so take the min_len to the end\n",
    "new_datasets = []\n",
    "for d in datasets:\n",
    "    pair = d.pair\n",
    "    this_len = len(d)\n",
    "    print(pair, this_len)\n",
    "    if this_len == min_len:\n",
    "        print('this is the lowest len df and not changing')\n",
    "        time_of_start = d['time'][0]\n",
    "        time_of_end = d['time'][len(d['time'])-1]\n",
    "        new_datasets.append(d) \n",
    "    elif this_len > min_len:\n",
    "        trim_section_start = len(d['time']) - min_len\n",
    "        time_of_start = d['time'][trim_section_start]\n",
    "        time_of_end = d['time'][len(d['time'])-1]\n",
    "        df = d[trim_section_start:]\n",
    "        df.pair = pair\n",
    "        new_datasets.append(df)    \n",
    "    print('Start of set {}'.format(time_of_start))\n",
    "    print('end of set {}'.format(time_of_end))\n",
    "    print('New set len {}'.format(len(df)))\n",
    "    "
   ]
  },
  {
   "cell_type": "code",
   "execution_count": 7,
   "metadata": {},
   "outputs": [
    {
     "name": "stdout",
     "output_type": "stream",
     "text": [
      "DASH/BTC 260288\n",
      "DGB/BTC 260288\n",
      "ETH/BTC 260288\n"
     ]
    }
   ],
   "source": [
    "for set_ in new_datasets:\n",
    "    print(set_.pair, len(set_))"
   ]
  },
  {
   "cell_type": "code",
   "execution_count": null,
   "metadata": {},
   "outputs": [],
   "source": [
    "pyplot.figure()\n",
    "i = 1\n",
    "for set_ in new_datasets:\n",
    "    pyplot.subplot(len(new_datasets), 3, i)\n",
    "    pyplot.plot(set_['close'])\n",
    "    pyplot.axis('off')\n",
    "    pyplot.title(set_.pair, y=.75, loc='left')\n",
    "    i += 1\n",
    "pyplot.show()"
   ]
  },
  {
   "cell_type": "code",
   "execution_count": null,
   "metadata": {},
   "outputs": [],
   "source": [
    "# WHAT DO I WANT FOR COLUMNS!?!?!?!?!\n",
    "# Each input will have 20 values\n",
    "# input1 = [[last][vol][last -60 elements]]\n",
    "# input2 = [[low][high][mean*]]\n",
    "# input3 = [[bollinger high][bollinger low][mean**]]\n",
    "# ###\n",
    "# input4 = [[twitter sent][twittervol]]\n",
    "# ###\n",
    "# output1 = [time, time+1, time+2] # doesnt matter what the input all the outputs will be the same and averaged over"
   ]
  },
  {
   "cell_type": "code",
   "execution_count": 8,
   "metadata": {},
   "outputs": [],
   "source": [
    "df = new_datasets[2]"
   ]
  },
  {
   "cell_type": "code",
   "execution_count": null,
   "metadata": {},
   "outputs": [],
   "source": [
    "print(df.columns)"
   ]
  },
  {
   "cell_type": "code",
   "execution_count": 9,
   "metadata": {},
   "outputs": [],
   "source": [
    "close = pd.Series(df['close'])"
   ]
  },
  {
   "cell_type": "code",
   "execution_count": null,
   "metadata": {},
   "outputs": [],
   "source": [
    "raw_values = close.values\n",
    "print(raw_values)"
   ]
  },
  {
   "cell_type": "code",
   "execution_count": 24,
   "metadata": {},
   "outputs": [],
   "source": [
    "# create a differenced series\n",
    "def difference(dataset, interval=1):\n",
    "    diff = list()\n",
    "    for i in range(interval, len(dataset)):\n",
    "        # print(i - interval)\n",
    "        value = D(dataset[i]) - D(dataset[i - interval])\n",
    "        diff.append(value)\n",
    "    return pd.Series(diff)\n",
    "\n",
    "def inverse_difference(history, yhat, interval=1):\n",
    "    return yhat + history[interval-1]\n",
    "\n",
    "def undiff(dataset, diff, interval=1):\n",
    "    the_return = list()\n",
    "    for i, e in enumerate(diff):\n",
    "        if i >= interval:\n",
    "            last_val = dataset[i-interval]\n",
    "            next_val = D(last_val) + D(diff[i])\n",
    "            # assert next_val == dataset[i]\n",
    "            the_return.append(next_val)\n",
    "    return pd.Series(the_return)"
   ]
  },
  {
   "cell_type": "code",
   "execution_count": 11,
   "metadata": {},
   "outputs": [],
   "source": [
    "diff_series = difference(close, 1)"
   ]
  },
  {
   "cell_type": "code",
   "execution_count": 25,
   "metadata": {
    "scrolled": false
   },
   "outputs": [],
   "source": [
    "fixed_series = undiff(close, diff_series, 1)"
   ]
  },
  {
   "cell_type": "code",
   "execution_count": 26,
   "metadata": {},
   "outputs": [
    {
     "name": "stdout",
     "output_type": "stream",
     "text": [
      "0    0.009010\n",
      "1    0.005491\n",
      "2    0.012809\n",
      "3    0.002301\n",
      "4    0.010100\n",
      "dtype: float64\n"
     ]
    }
   ],
   "source": [
    "print(fixed_series.head())"
   ]
  },
  {
   "cell_type": "code",
   "execution_count": 18,
   "metadata": {
    "scrolled": true
   },
   "outputs": [],
   "source": [
    "inverted = list()\n",
    "for i in range(len(diff_series)):\n",
    "    value = inverse_difference(close, diff_series[i], len(diff_series)-i)\n",
    "    inverted.append(value)\n",
    "inverted = pd.Series(inverted)"
   ]
  },
  {
   "cell_type": "code",
   "execution_count": 19,
   "metadata": {
    "scrolled": true
   },
   "outputs": [
    {
     "name": "stdout",
     "output_type": "stream",
     "text": [
      "0    0.009000\n",
      "1    0.009000\n",
      "2    0.009010\n",
      "3    0.005501\n",
      "4    0.009300\n",
      "Name: close, dtype: float64\n",
      "0   -5.000000e-08\n",
      "1    1.000000e-05\n",
      "2   -3.509000e-03\n",
      "3    3.798990e-03\n",
      "4   -3.199990e-03\n",
      "dtype: float64\n",
      "0    0.096725\n",
      "1    0.096780\n",
      "2    0.093430\n",
      "3    0.100987\n",
      "4    0.093900\n",
      "dtype: float64\n"
     ]
    }
   ],
   "source": [
    "print(close.head())\n",
    "print(diff_series.head())\n",
    "print(inverted.head())"
   ]
  },
  {
   "cell_type": "code",
   "execution_count": null,
   "metadata": {},
   "outputs": [],
   "source": []
  }
 ],
 "metadata": {
  "kernelspec": {
   "display_name": "Python 3",
   "language": "python",
   "name": "python3"
  },
  "language_info": {
   "codemirror_mode": {
    "name": "ipython",
    "version": 3
   },
   "file_extension": ".py",
   "mimetype": "text/x-python",
   "name": "python",
   "nbconvert_exporter": "python",
   "pygments_lexer": "ipython3",
   "version": "3.6.3"
  },
  "toc": {
   "nav_menu": {},
   "number_sections": true,
   "sideBar": true,
   "skip_h1_title": false,
   "title_cell": "Table of Contents",
   "title_sidebar": "Contents",
   "toc_cell": false,
   "toc_position": {},
   "toc_section_display": true,
   "toc_window_display": false
  },
  "varInspector": {
   "cols": {
    "lenName": 16,
    "lenType": 16,
    "lenVar": 40
   },
   "kernels_config": {
    "python": {
     "delete_cmd_postfix": "",
     "delete_cmd_prefix": "del ",
     "library": "var_list.py",
     "varRefreshCmd": "print(var_dic_list())"
    },
    "r": {
     "delete_cmd_postfix": ") ",
     "delete_cmd_prefix": "rm(",
     "library": "var_list.r",
     "varRefreshCmd": "cat(var_dic_list()) "
    }
   },
   "types_to_exclude": [
    "module",
    "function",
    "builtin_function_or_method",
    "instance",
    "_Feature"
   ],
   "window_display": false
  }
 },
 "nbformat": 4,
 "nbformat_minor": 2
}
