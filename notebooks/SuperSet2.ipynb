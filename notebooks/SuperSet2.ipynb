{
 "cells": [
  {
   "cell_type": "code",
   "execution_count": 7,
   "metadata": {},
   "outputs": [],
   "source": [
    "import pandas as pd\n",
    "import ccxt\n",
    "import time\n",
    "from timeit import default_timer as timer\n",
    "from matplotlib import pyplot\n",
    "from decimal import Decimal as D\n",
    "import numpy as np\n",
    "from tqdm import tqdm_notebook, tqdm\n",
    "from tqdm import tnrange as trange"
   ]
  },
  {
   "cell_type": "code",
   "execution_count": 2,
   "metadata": {},
   "outputs": [],
   "source": [
    "this_exchange = ccxt.poloniex()"
   ]
  },
  {
   "cell_type": "code",
   "execution_count": 3,
   "metadata": {},
   "outputs": [],
   "source": [
    "if False:\n",
    "    for i in POLO.__dict__:\n",
    "        if '__' not in i:\n",
    "            if 'fetch' in i:\n",
    "                print(i)"
   ]
  },
  {
   "cell_type": "code",
   "execution_count": 4,
   "metadata": {},
   "outputs": [],
   "source": [
    "ticker = this_exchange.fetchTickers()"
   ]
  },
  {
   "cell_type": "code",
   "execution_count": 5,
   "metadata": {},
   "outputs": [
    {
     "name": "stdout",
     "output_type": "stream",
     "text": [
      "BCN/BTC\n"
     ]
    }
   ],
   "source": [
    "x = list(ticker)[0]\n",
    "print(x)"
   ]
  },
  {
   "cell_type": "code",
   "execution_count": 9,
   "metadata": {
    "scrolled": false
   },
   "outputs": [
    {
     "data": {
      "application/vnd.jupyter.widget-view+json": {
       "model_id": "c5e7d796a2f24163870c49a156b31be2",
       "version_major": 2,
       "version_minor": 0
      },
      "text/html": [
       "<p>Failed to display Jupyter Widget of type <code>HBox</code>.</p>\n",
       "<p>\n",
       "  If you're reading this message in the Jupyter Notebook or JupyterLab Notebook, it may mean\n",
       "  that the widgets JavaScript is still loading. If this message persists, it\n",
       "  likely means that the widgets JavaScript library is either not installed or\n",
       "  not enabled. See the <a href=\"https://ipywidgets.readthedocs.io/en/stable/user_install.html\">Jupyter\n",
       "  Widgets Documentation</a> for setup instructions.\n",
       "</p>\n",
       "<p>\n",
       "  If you're reading this message in another frontend (for example, a static\n",
       "  rendering on GitHub or <a href=\"https://nbviewer.jupyter.org/\">NBViewer</a>),\n",
       "  it may mean that your frontend doesn't currently support widgets.\n",
       "</p>\n"
      ],
      "text/plain": [
       "HBox(children=(IntProgress(value=0, max=99), HTML(value='')))"
      ]
     },
     "metadata": {},
     "output_type": "display_data"
    },
    {
     "name": "stdout",
     "output_type": "stream",
     "text": [
      "BTS/BTC\n",
      "Elements in Dataset: 364114\n",
      "Downloading this coin took: 11.88 secs\n",
      "CLAM/BTC\n",
      "Elements in Dataset: 376195\n",
      "Downloading this coin took: 6.54 secs\n",
      "DASH/BTC\n",
      "Elements in Dataset: 418608\n",
      "Downloading this coin took: 7.78 secs\n",
      "DOGE/BTC\n",
      "Elements in Dataset: 423478\n",
      "Downloading this coin took: 8.47 secs\n",
      "MAID/BTC\n",
      "Elements in Dataset: 374885\n",
      "Downloading this coin took: 12.54 secs\n",
      "XMR/BTC\n",
      "Elements in Dataset: 389703\n",
      "Downloading this coin took: 13.45 secs\n",
      "XRP/BTC\n",
      "Elements in Dataset: 364666\n",
      "Downloading this coin took: 7.94 secs\n",
      "ETH/BTC\n",
      "Elements in Dataset: 261259\n",
      "Downloading this coin took: 6.62 secs\n",
      "FCT/BTC\n",
      "Elements in Dataset: 244616\n",
      "Downloading this coin took: 10.65 secs\n",
      "Min length of all sets is 244616 samples\n",
      "Collected All Datasets. Took 1.81 mins\n"
     ]
    }
   ],
   "source": [
    "coins_not_working = ['LTC/BTC', 'STR/BTC']\n",
    "coins_to_use = ['ETH/BTC', 'XRP/BTC', 'DASH/BTC' , 'XMR/BTC',\n",
    "                'BTS/BTC', 'DOGE/BTC', 'FCT/BTC', 'MAID/BTC', 'CLAM/BTC']\n",
    "coins_collected = []\n",
    "datasets = []\n",
    "min_len = 10000000\n",
    "start_data_gen = timer()\n",
    "amount_of_coins = len(ticker)\n",
    "# for index, pair in enumerate(ticker):\n",
    "for index in trange(amount_of_coins):\n",
    "    pair = list(ticker)[index]\n",
    "    if pair in coins_to_use:\n",
    "        if pair not in coins_collected:\n",
    "            print(pair)\n",
    "            # SLEEP!! DO NOT GET BANNED!\n",
    "            time.sleep (this_exchange.rateLimit / 400)\n",
    "            start_call = timer()\n",
    "            chart = this_exchange.fetchOhlcv(pair, \n",
    "                                             timeframe = '5m', # polo only offers the 5m\n",
    "                                             since = int(1515974400)\n",
    "                                             )\n",
    "            df = pd.DataFrame(\n",
    "                chart, \n",
    "                columns=['time','open','high','low','close','vol']\n",
    "            )\n",
    "            df.pair = pair\n",
    "            this_len = len(df)\n",
    "            if this_len < min_len:\n",
    "                min_len = this_len\n",
    "            tqdm.write('Elements in Dataset: {}'.format(this_len))\n",
    "            tqdm.write('Downloading this coin took: {:.2f} secs'.format(timer()-start_call))\n",
    "            datasets.append(df)\n",
    "            coins_collected.append(pair)\n",
    "print('Min length of all sets is {} samples'.format(min_len))\n",
    "print('Collected All Datasets. Took {:.2f} mins'.format(float(timer()-start_data_gen)/60))        "
   ]
  },
  {
   "cell_type": "code",
   "execution_count": 10,
   "metadata": {},
   "outputs": [
    {
     "name": "stdout",
     "output_type": "stream",
     "text": [
      "BTS/BTC 364114\n",
      "Start of set 1444003500000\n",
      "end of set 1517388000000\n",
      "New set len 244616\n",
      "CLAM/BTC 376195\n",
      "Start of set 1444003200000\n",
      "end of set 1517387700000\n",
      "New set len 244616\n",
      "DASH/BTC 418608\n",
      "Start of set 1444003200000\n",
      "end of set 1517387700000\n",
      "New set len 244616\n",
      "DOGE/BTC 423478\n",
      "Start of set 1444003500000\n",
      "end of set 1517388000000\n",
      "New set len 244616\n",
      "MAID/BTC 374885\n",
      "Start of set 1444003500000\n",
      "end of set 1517388000000\n",
      "New set len 244616\n",
      "XMR/BTC 389703\n",
      "Start of set 1444003500000\n",
      "end of set 1517388000000\n",
      "New set len 244616\n",
      "XRP/BTC 364666\n",
      "Start of set 1444003500000\n",
      "end of set 1517388000000\n",
      "New set len 244616\n",
      "ETH/BTC 261259\n",
      "Start of set 1444003500000\n",
      "end of set 1517388000000\n",
      "New set len 244616\n",
      "FCT/BTC 244616\n",
      "this is the lowest len df and not changing\n",
      "Start of set 1444003200000\n",
      "end of set 1517387700000\n",
      "New set len 244616\n"
     ]
    }
   ],
   "source": [
    "# the end time in all datasets is the same... so take the min_len to the end\n",
    "new_datasets = []\n",
    "for d in datasets:\n",
    "    pair = d.pair\n",
    "    this_len = len(d)\n",
    "    print(pair, this_len)\n",
    "    if this_len == min_len:\n",
    "        print('this is the lowest len df and not changing')\n",
    "        time_of_start = d['time'][0]\n",
    "        time_of_end = d['time'][len(d['time'])-1]\n",
    "        new_datasets.append(d) \n",
    "    elif this_len > min_len:\n",
    "        trim_section_start = len(d['time']) - min_len\n",
    "        time_of_start = d['time'][trim_section_start]\n",
    "        time_of_end = d['time'][len(d['time'])-1]\n",
    "        df = d[trim_section_start:]\n",
    "        df.pair = pair\n",
    "        new_datasets.append(df)    \n",
    "    print('Start of set {}'.format(time_of_start))\n",
    "    print('end of set {}'.format(time_of_end))\n",
    "    print('New set len {}'.format(len(df)))\n",
    "    "
   ]
  },
  {
   "cell_type": "code",
   "execution_count": 11,
   "metadata": {},
   "outputs": [
    {
     "name": "stdout",
     "output_type": "stream",
     "text": [
      "BTS/BTC 244616\n",
      "CLAM/BTC 244616\n",
      "DASH/BTC 244616\n",
      "DOGE/BTC 244616\n",
      "MAID/BTC 244616\n",
      "XMR/BTC 244616\n",
      "XRP/BTC 244616\n",
      "ETH/BTC 244616\n",
      "FCT/BTC 244616\n"
     ]
    }
   ],
   "source": [
    "for set_ in new_datasets:\n",
    "    print(set_.pair, len(set_))"
   ]
  },
  {
   "cell_type": "code",
   "execution_count": 12,
   "metadata": {},
   "outputs": [
    {
     "data": {
      "image/png": "[encoded data removed]",
      "text/plain": [
       "<matplotlib.figure.Figure at 0x121296d9b00>"
      ]
     },
     "metadata": {},
     "output_type": "display_data"
    }
   ],
   "source": [
    "pyplot.figure()\n",
    "i = 1\n",
    "for set_ in new_datasets:\n",
    "    pyplot.subplot(len(new_datasets), 3, i)\n",
    "    pyplot.plot(set_['close'])\n",
    "    pyplot.axis('off')\n",
    "    pyplot.title(set_.pair, y=.75, loc='left')\n",
    "    i += 1\n",
    "pyplot.show()"
   ]
  },
  {
   "cell_type": "code",
   "execution_count": null,
   "metadata": {},
   "outputs": [],
   "source": [
    "# WHAT DO I WANT FOR COLUMNS!?!?!?!?!\n",
    "# Each input will have 20 values\n",
    "# input1 = [[last][vol][last -60 elements]]\n",
    "# input2 = [[low][high][mean*]]\n",
    "# input3 = [[bollinger high][bollinger low][mean**]]\n",
    "# ###\n",
    "# input4 = [[twitter sent][twittervol]]\n",
    "# ###\n",
    "# output1 = [time, time+1, time+2] # doesnt matter what the input all the outputs will be the same and averaged over"
   ]
  },
  {
   "cell_type": "code",
   "execution_count": null,
   "metadata": {
    "scrolled": true
   },
   "outputs": [],
   "source": [
    "for set_ in new_datasets:\n",
    "    print(set_.pair)"
   ]
  },
  {
   "cell_type": "code",
   "execution_count": null,
   "metadata": {
    "scrolled": true
   },
   "outputs": [],
   "source": [
    "cols = []\n",
    "for i in range(60):\n",
    "    cols.append('close_{}'.format(i))\n",
    "    cols.append('vol_{}'.format(i))\n",
    "print(cols)"
   ]
  },
  {
   "cell_type": "code",
   "execution_count": null,
   "metadata": {},
   "outputs": [],
   "source": [
    "working_df = pd.DataFrame(columns=cols)"
   ]
  },
  {
   "cell_type": "code",
   "execution_count": null,
   "metadata": {},
   "outputs": [],
   "source": [
    "# input1 = [[last][vol][1]]\n",
    "dataset = np.zeros((2, 60, len(new_datasets), len(new_datasets[0])))\n",
    "for index1, set_ in enumerate(new_datasets):\n",
    "    set_for_all_coins = []\n",
    "    for index2 in range(len(set_)):\n",
    "        set_of_elements = []\n",
    "        if index2 <= len(set_) - 60:\n",
    "            elements = []\n",
    "            for i in range(60):\n",
    "                close = set_.loc[i + index2]['close']\n",
    "                vol = set_.loc[i + index2]['vol']\n",
    "                elements.append(close)\n",
    "                elements.append(vol)\n",
    "            set_of_elements.append(elements)\n",
    "        set_for_all_coins.append(set_of_elements)\n",
    "    dataset.append(set_for_all_coins, index1)\n",
    "            \n"
   ]
  },
  {
   "cell_type": "code",
   "execution_count": null,
   "metadata": {
    "scrolled": true
   },
   "outputs": [],
   "source": [
    "fakeset = np.zeros((2, 60, 9, len(new_datasets[0]) - 60))"
   ]
  },
  {
   "cell_type": "code",
   "execution_count": null,
   "metadata": {},
   "outputs": [],
   "source": [
    "x = new_datasets[0].loc[200000]['close']"
   ]
  },
  {
   "cell_type": "code",
   "execution_count": 17,
   "metadata": {},
   "outputs": [
    {
     "data": {
      "application/vnd.jupyter.widget-view+json": {
       "model_id": "91f6d4d1dd634f98950220e0c8094e9e",
       "version_major": 2,
       "version_minor": 0
      },
      "text/html": [
       "<p>Failed to display Jupyter Widget of type <code>HBox</code>.</p>\n",
       "<p>\n",
       "  If you're reading this message in the Jupyter Notebook or JupyterLab Notebook, it may mean\n",
       "  that the widgets JavaScript is still loading. If this message persists, it\n",
       "  likely means that the widgets JavaScript library is either not installed or\n",
       "  not enabled. See the <a href=\"https://ipywidgets.readthedocs.io/en/stable/user_install.html\">Jupyter\n",
       "  Widgets Documentation</a> for setup instructions.\n",
       "</p>\n",
       "<p>\n",
       "  If you're reading this message in another frontend (for example, a static\n",
       "  rendering on GitHub or <a href=\"https://nbviewer.jupyter.org/\">NBViewer</a>),\n",
       "  it may mean that your frontend doesn't currently support widgets.\n",
       "</p>\n"
      ],
      "text/plain": [
       "HBox(children=(IntProgress(value=0, description='OneRow', max=3333), HTML(value='')))"
      ]
     },
     "metadata": {},
     "output_type": "display_data"
    },
    {
     "name": "stdout",
     "output_type": "stream",
     "text": [
      "Completed 0 of 244556 rows of data... LOLZ..\n",
      "Wow right... this has been running for 0.00 mins.\n",
      "Completed 100 of 244556 rows of data... LOLZ..\n",
      "Wow right... this has been running for 0.19 mins.\n",
      "Completed 200 of 244556 rows of data... LOLZ..\n",
      "Wow right... this has been running for 0.38 mins.\n",
      "Completed 300 of 244556 rows of data... LOLZ..\n",
      "Wow right... this has been running for 0.57 mins.\n",
      "Completed 400 of 244556 rows of data... LOLZ..\n",
      "Wow right... this has been running for 0.76 mins.\n",
      "Completed 500 of 244556 rows of data... LOLZ..\n",
      "Wow right... this has been running for 0.95 mins.\n",
      "Completed 600 of 244556 rows of data... LOLZ..\n",
      "Wow right... this has been running for 1.14 mins.\n",
      "Completed 700 of 244556 rows of data... LOLZ..\n",
      "Wow right... this has been running for 1.33 mins.\n",
      "Completed 800 of 244556 rows of data... LOLZ..\n",
      "Wow right... this has been running for 1.52 mins.\n",
      "Completed 900 of 244556 rows of data... LOLZ..\n",
      "Wow right... this has been running for 1.71 mins.\n",
      "Completed 1000 of 244556 rows of data... LOLZ..\n",
      "Wow right... this has been running for 1.90 mins.\n",
      "Completed 1100 of 244556 rows of data... LOLZ..\n",
      "Wow right... this has been running for 2.09 mins.\n",
      "Completed 1200 of 244556 rows of data... LOLZ..\n",
      "Wow right... this has been running for 2.28 mins.\n",
      "Completed 1300 of 244556 rows of data... LOLZ..\n",
      "Wow right... this has been running for 2.47 mins.\n",
      "Completed 1400 of 244556 rows of data... LOLZ..\n",
      "Wow right... this has been running for 2.66 mins.\n",
      "Completed 1500 of 244556 rows of data... LOLZ..\n",
      "Wow right... this has been running for 2.86 mins.\n",
      "Completed 1600 of 244556 rows of data... LOLZ..\n",
      "Wow right... this has been running for 3.05 mins.\n",
      "Completed 1700 of 244556 rows of data... LOLZ..\n",
      "Wow right... this has been running for 3.23 mins.\n",
      "Completed 1800 of 244556 rows of data... LOLZ..\n",
      "Wow right... this has been running for 3.42 mins.\n",
      "Completed 1900 of 244556 rows of data... LOLZ..\n",
      "Wow right... this has been running for 3.60 mins.\n",
      "Completed 2000 of 244556 rows of data... LOLZ..\n",
      "Wow right... this has been running for 3.79 mins.\n",
      "Completed 2100 of 244556 rows of data... LOLZ..\n",
      "Wow right... this has been running for 3.97 mins.\n",
      "Completed 2200 of 244556 rows of data... LOLZ..\n",
      "Wow right... this has been running for 4.16 mins.\n",
      "Completed 2300 of 244556 rows of data... LOLZ..\n",
      "Wow right... this has been running for 4.34 mins.\n",
      "Completed 2400 of 244556 rows of data... LOLZ..\n",
      "Wow right... this has been running for 4.53 mins.\n",
      "Completed 2500 of 244556 rows of data... LOLZ..\n",
      "Wow right... this has been running for 4.72 mins.\n",
      "Completed 2600 of 244556 rows of data... LOLZ..\n",
      "Wow right... this has been running for 4.91 mins.\n",
      "Completed 2700 of 244556 rows of data... LOLZ..\n",
      "Wow right... this has been running for 5.11 mins.\n",
      "Completed 2800 of 244556 rows of data... LOLZ..\n",
      "Wow right... this has been running for 5.30 mins.\n",
      "Completed 2900 of 244556 rows of data... LOLZ..\n",
      "Wow right... this has been running for 5.50 mins.\n",
      "Completed 3000 of 244556 rows of data... LOLZ..\n",
      "Wow right... this has been running for 5.69 mins.\n",
      "Completed 3100 of 244556 rows of data... LOLZ..\n",
      "Wow right... this has been running for 5.88 mins.\n",
      "Completed 3200 of 244556 rows of data... LOLZ..\n",
      "Wow right... this has been running for 6.07 mins.\n",
      "Completed 3300 of 244556 rows of data... LOLZ..\n",
      "Wow right... this has been running for 6.26 mins.\n"
     ]
    }
   ],
   "source": [
    "start_time = timer()\n",
    "# num of max rows is the num of max elements in any dataset\n",
    "set_len = len(new_datasets[0]) - 60\n",
    "everything = []\n",
    "for index in trange(3333,\n",
    "                   ascii=True,\n",
    "                            desc=\"OneRow\",\n",
    "                            # dynamic_ncols=True,\n",
    "                            smoothing=0,\n",
    "                            leave=False,\n",
    "                            # unit_scale=True\n",
    "                   ):\n",
    "    # each row has all the coins\n",
    "    coins = []\n",
    "    \"\"\"\n",
    "    for coin_range in trange(len(new_datasets),\n",
    "                            ascii=True,\n",
    "                            desc=\"coin\",\n",
    "                            # dynamic_ncols=True,\n",
    "                            smoothing=1,\n",
    "                            leave=False,\n",
    "                            # unit_scale=True\n",
    "                            ): \"\"\"\n",
    "    for coin_range in range(len(new_datasets)):\n",
    "        coin = new_datasets[coin_range]\n",
    "        cols = coin.columns\n",
    "        coin = pd.DataFrame(coin, columns=cols)\n",
    "        # need 60 elements for each frame of the master time index\n",
    "        elements = []\n",
    "        \"\"\"\n",
    "        for element_range in trange(60,\n",
    "                                   ascii=True,\n",
    "                                    desc=\"inner\",\n",
    "                                    # dynamic_ncols=True,\n",
    "                                    smoothing=1,\n",
    "                                    leave=False,\n",
    "                                    # unit_scale=True\n",
    "                                   ): \"\"\"\n",
    "        for element_range in range(60):\n",
    "            # get the 2 things we need.\n",
    "            close = coin.loc[int(len(new_datasets[0])-int(index+element_range))-1]['close']\n",
    "            vol = coin.loc[int(len(new_datasets[0])-int(index+element_range))-1]['vol']\n",
    "            elements.append([close, vol])\n",
    "        coins.append(elements)\n",
    "        \n",
    "    if index % 1000 == 0:\n",
    "        tqdm.write('Completed {} of {} rows of data... LOLZ..'.format(index, set_len))\n",
    "        tqdm.write('Wow right... this has been running for {:.2f} mins.'.format(float(timer()-start_time)/60))\n",
    "    everything.append(coins)"
   ]
  },
  {
   "cell_type": "code",
   "execution_count": 18,
   "metadata": {},
   "outputs": [],
   "source": [
    "x = np.array(everything)"
   ]
  },
  {
   "cell_type": "code",
   "execution_count": 19,
   "metadata": {},
   "outputs": [
    {
     "name": "stdout",
     "output_type": "stream",
     "text": [
      "(3333, 9, 60, 2)\n"
     ]
    }
   ],
   "source": [
    "print(x.shape)"
   ]
  },
  {
   "cell_type": "code",
   "execution_count": 20,
   "metadata": {},
   "outputs": [],
   "source": [
    "filename = 'testset.npy'\n",
    "np.save(filename, x)"
   ]
  },
  {
   "cell_type": "code",
   "execution_count": 21,
   "metadata": {},
   "outputs": [],
   "source": [
    "y = np.load(filename)"
   ]
  },
  {
   "cell_type": "code",
   "execution_count": 23,
   "metadata": {},
   "outputs": [
    {
     "name": "stdout",
     "output_type": "stream",
     "text": [
      "(3333, 9, 60, 2) (3333, 9, 60, 2)\n"
     ]
    }
   ],
   "source": [
    "print(x.shape, y.shape)"
   ]
  },
  {
   "cell_type": "code",
   "execution_count": 24,
   "metadata": {},
   "outputs": [],
   "source": [
    "import tensorflow as tf"
   ]
  },
  {
   "cell_type": "code",
   "execution_count": null,
   "metadata": {},
   "outputs": [],
   "source": [
    "\"\"\"\n",
    "\n",
    "PHONE DIED... BACK IN 5...\n",
    "\n",
    "is that what you meant by backwards?????????????\n",
    "\n",
    ".... getting more coffeee....\n",
    "\n",
    "\"\"\"\n",
    "\n",
    "\n",
    "\n",
    "\n",
    "\n",
    "\n",
    "\n",
    "\n",
    "\n"
   ]
  },
  {
   "cell_type": "code",
   "execution_count": null,
   "metadata": {},
   "outputs": [],
   "source": [
    "df = new_datasets[2]"
   ]
  },
  {
   "cell_type": "code",
   "execution_count": null,
   "metadata": {},
   "outputs": [],
   "source": [
    "print(df.columns)"
   ]
  },
  {
   "cell_type": "code",
   "execution_count": null,
   "metadata": {},
   "outputs": [],
   "source": [
    "close = pd.Series(df['close'])"
   ]
  },
  {
   "cell_type": "code",
   "execution_count": null,
   "metadata": {},
   "outputs": [],
   "source": [
    "raw_values = close.values\n",
    "print(raw_values)"
   ]
  },
  {
   "cell_type": "code",
   "execution_count": null,
   "metadata": {},
   "outputs": [],
   "source": [
    "# create a differenced series\n",
    "def difference(dataset, interval=1):\n",
    "    diff = list()\n",
    "    for i in range(interval, len(dataset)):\n",
    "        # print(i - interval)\n",
    "        value = D(dataset[i]) - D(dataset[i - interval])\n",
    "        diff.append(value)\n",
    "    return pd.Series(diff)\n",
    "\n",
    "def inverse_difference(history, yhat, interval=1):\n",
    "    return yhat + history[interval-1]\n",
    "\n",
    "def undiff(dataset, diff, interval=1):\n",
    "    the_return = list()\n",
    "    for i, e in enumerate(diff):\n",
    "        if i >= interval:\n",
    "            last_val = dataset[i-interval]\n",
    "            next_val = D(last_val) + D(diff[i])\n",
    "            # assert next_val == dataset[i]\n",
    "            the_return.append(next_val)\n",
    "    return pd.Series(the_return)"
   ]
  },
  {
   "cell_type": "code",
   "execution_count": null,
   "metadata": {},
   "outputs": [],
   "source": [
    "diff_series = difference(close, 1)"
   ]
  },
  {
   "cell_type": "code",
   "execution_count": null,
   "metadata": {
    "scrolled": false
   },
   "outputs": [],
   "source": [
    "fixed_series = undiff(close, diff_series, 1)"
   ]
  },
  {
   "cell_type": "code",
   "execution_count": null,
   "metadata": {},
   "outputs": [],
   "source": [
    "print(fixed_series.head())"
   ]
  },
  {
   "cell_type": "code",
   "execution_count": null,
   "metadata": {
    "scrolled": true
   },
   "outputs": [],
   "source": [
    "inverted = list()\n",
    "for i in range(len(diff_series)):\n",
    "    value = inverse_difference(close, diff_series[i], len(diff_series)-i)\n",
    "    inverted.append(value)\n",
    "inverted = pd.Series(inverted)"
   ]
  },
  {
   "cell_type": "code",
   "execution_count": null,
   "metadata": {
    "scrolled": true
   },
   "outputs": [],
   "source": [
    "print(close.head())\n",
    "print(diff_series.head())\n",
    "print(inverted.head())"
   ]
  },
  {
   "cell_type": "code",
   "execution_count": null,
   "metadata": {},
   "outputs": [],
   "source": []
  }
 ],
 "metadata": {
  "kernelspec": {
   "display_name": "Python 3",
   "language": "python",
   "name": "python3"
  },
  "language_info": {
   "codemirror_mode": {
    "name": "ipython",
    "version": 3
   },
   "file_extension": ".py",
   "mimetype": "text/x-python",
   "name": "python",
   "nbconvert_exporter": "python",
   "pygments_lexer": "ipython3",
   "version": "3.6.3"
  },
  "toc": {
   "nav_menu": {},
   "number_sections": true,
   "sideBar": true,
   "skip_h1_title": false,
   "title_cell": "Table of Contents",
   "title_sidebar": "Contents",
   "toc_cell": false,
   "toc_position": {},
   "toc_section_display": true,
   "toc_window_display": false
  },
  "varInspector": {
   "cols": {
    "lenName": 16,
    "lenType": 16,
    "lenVar": 40
   },
   "kernels_config": {
    "python": {
     "delete_cmd_postfix": "",
     "delete_cmd_prefix": "del ",
     "library": "var_list.py",
     "varRefreshCmd": "print(var_dic_list())"
    },
    "r": {
     "delete_cmd_postfix": ") ",
     "delete_cmd_prefix": "rm(",
     "library": "var_list.r",
     "varRefreshCmd": "cat(var_dic_list()) "
    }
   },
   "types_to_exclude": [
    "module",
    "function",
    "builtin_function_or_method",
    "instance",
    "_Feature"
   ],
   "window_display": false
  }
 },
 "nbformat": 4,
 "nbformat_minor": 2
}
