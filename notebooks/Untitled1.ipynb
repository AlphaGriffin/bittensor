{
 "cells": [
  {
   "cell_type": "code",
   "execution_count": 1,
   "metadata": {},
   "outputs": [],
   "source": [
    "import asyncio\n",
    "from ipykernel.eventloops import register_integration\n",
    "import ipywidgets as widgets"
   ]
  },
  {
   "cell_type": "code",
   "execution_count": null,
   "metadata": {},
   "outputs": [],
   "source": [
    "import os, sys, time, datetime"
   ]
  },
  {
   "cell_type": "code",
   "execution_count": 2,
   "metadata": {},
   "outputs": [],
   "source": [
    "import ccxt.async as ccxt"
   ]
  },
  {
   "cell_type": "code",
   "execution_count": 3,
   "metadata": {},
   "outputs": [],
   "source": [
    "poloniex = ccxt.poloniex()"
   ]
  },
  {
   "cell_type": "code",
   "execution_count": null,
   "metadata": {},
   "outputs": [],
   "source": [
    "# get unix time for now - 20 days ago\n"
   ]
  },
  {
   "cell_type": "code",
   "execution_count": 9,
   "metadata": {},
   "outputs": [
    {
     "name": "stderr",
     "output_type": "stream",
     "text": [
      "c:\\users\\kinet\\appdata\\local\\programs\\python\\python36\\lib\\site-packages\\ipykernel_launcher.py:6: RuntimeWarning: coroutine 'ticker_by_exchange' was never awaited\n",
      "  \n"
     ]
    }
   ],
   "source": [
    "async def ticker_by_exchange(exchange='poloniex'):\n",
    "    this_exchange = eval('ccxt.{}()'.format(exchange))\n",
    "    x = await this_exchange.fetch_tickers()\n",
    "    return x\n",
    "sync = asyncio.get_event_loop().run_until_complete\n",
    "ticker = sync(ticker_by_exchange())"
   ]
  },
  {
   "cell_type": "code",
   "execution_count": 5,
   "metadata": {},
   "outputs": [],
   "source": [
    "if False:\n",
    "    for i in range(4):\n",
    "        sync = asyncio.get_event_loop().run_until_complete\n",
    "        # x = asyncio.get_event_loop().run_until_complete(print_poloniex_ethbtc_ticker())\n",
    "        x = sync(print_poloniex_ethbtc_ticker())\n",
    "        print(x)"
   ]
  },
  {
   "cell_type": "code",
   "execution_count": 10,
   "metadata": {},
   "outputs": [
    {
     "name": "stdout",
     "output_type": "stream",
     "text": [
      "BCN/BTC\n",
      "BELA/BTC\n",
      "BLK/BTC\n",
      "BTCD/BTC\n",
      "Bitmark/BTC\n",
      "BTS/BTC\n",
      "BURST/BTC\n",
      "CLAM/BTC\n",
      "DASH/BTC\n",
      "DGB/BTC\n",
      "DOGE/BTC\n",
      "EMC2/BTC\n",
      "FLDC/BTC\n",
      "FLO/BTC\n",
      "GAME/BTC\n",
      "GRC/BTC\n",
      "HUC/BTC\n",
      "LTC/BTC\n",
      "MAID/BTC\n",
      "OMNI/BTC\n",
      "NAV/BTC\n",
      "NEOS/BTC\n",
      "NMC/BTC\n",
      "NXT/BTC\n",
      "PINK/BTC\n",
      "POT/BTC\n",
      "PPC/BTC\n",
      "RIC/BTC\n",
      "XLM/BTC\n",
      "SYS/BTC\n",
      "VIA/BTC\n",
      "XVC/BTC\n",
      "VRC/BTC\n",
      "VTC/BTC\n",
      "XBC/BTC\n",
      "XCP/BTC\n",
      "XEM/BTC\n",
      "XMR/BTC\n",
      "XPM/BTC\n",
      "XRP/BTC\n",
      "BTC/USDT\n",
      "DASH/USDT\n",
      "LTC/USDT\n",
      "NXT/USDT\n",
      "XLM/USDT\n",
      "XMR/USDT\n",
      "XRP/USDT\n",
      "BCN/XMR\n",
      "BLK/XMR\n",
      "BTCD/XMR\n",
      "DASH/XMR\n",
      "LTC/XMR\n",
      "MAID/XMR\n",
      "NXT/XMR\n",
      "ETH/BTC\n",
      "ETH/USDT\n",
      "SC/BTC\n",
      "BCY/BTC\n",
      "EXP/BTC\n",
      "FCT/BTC\n",
      "RADS/BTC\n",
      "AMP/BTC\n",
      "DCR/BTC\n",
      "LSK/BTC\n",
      "LSK/ETH\n",
      "LBC/BTC\n",
      "STEEM/BTC\n",
      "STEEM/ETH\n",
      "SBD/BTC\n",
      "ETC/BTC\n",
      "ETC/ETH\n",
      "ETC/USDT\n",
      "REP/BTC\n",
      "REP/USDT\n",
      "REP/ETH\n",
      "ARDR/BTC\n",
      "ZEC/BTC\n",
      "ZEC/ETH\n",
      "ZEC/USDT\n",
      "ZEC/XMR\n",
      "STRAT/BTC\n",
      "NXC/BTC\n",
      "PASC/BTC\n",
      "GNT/BTC\n",
      "GNT/ETH\n",
      "GNO/BTC\n",
      "GNO/ETH\n",
      "BCH/BTC\n",
      "BCH/ETH\n",
      "BCH/USDT\n",
      "ZRX/BTC\n",
      "ZRX/ETH\n",
      "CVC/BTC\n",
      "CVC/ETH\n",
      "OMG/BTC\n",
      "OMG/ETH\n",
      "GAS/BTC\n",
      "GAS/ETH\n",
      "STORJ/BTC\n"
     ]
    }
   ],
   "source": [
    "filename = ''\n",
    "file_dir = ''\n",
    "for i in ticker:\n",
    "    print(i)"
   ]
  },
  {
   "cell_type": "code",
   "execution_count": null,
   "metadata": {},
   "outputs": [],
   "source": []
  }
 ],
 "metadata": {
  "kernelspec": {
   "display_name": "Python 3",
   "language": "python",
   "name": "python3"
  },
  "language_info": {
   "codemirror_mode": {
    "name": "ipython",
    "version": 3
   },
   "file_extension": ".py",
   "mimetype": "text/x-python",
   "name": "python",
   "nbconvert_exporter": "python",
   "pygments_lexer": "ipython3",
   "version": "3.6.3"
  },
  "toc": {
   "nav_menu": {},
   "number_sections": true,
   "sideBar": true,
   "skip_h1_title": false,
   "title_cell": "Table of Contents",
   "title_sidebar": "Contents",
   "toc_cell": false,
   "toc_position": {},
   "toc_section_display": true,
   "toc_window_display": false
  },
  "varInspector": {
   "cols": {
    "lenName": 16,
    "lenType": 16,
    "lenVar": 40
   },
   "kernels_config": {
    "python": {
     "delete_cmd_postfix": "",
     "delete_cmd_prefix": "del ",
     "library": "var_list.py",
     "varRefreshCmd": "print(var_dic_list())"
    },
    "r": {
     "delete_cmd_postfix": ") ",
     "delete_cmd_prefix": "rm(",
     "library": "var_list.r",
     "varRefreshCmd": "cat(var_dic_list()) "
    }
   },
   "types_to_exclude": [
    "module",
    "function",
    "builtin_function_or_method",
    "instance",
    "_Feature"
   ],
   "window_display": false
  }
 },
 "nbformat": 4,
 "nbformat_minor": 2
}
