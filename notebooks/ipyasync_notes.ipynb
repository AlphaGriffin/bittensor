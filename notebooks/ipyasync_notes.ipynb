{
 "cells": [
  {
   "cell_type": "code",
   "execution_count": 1,
   "metadata": {},
   "outputs": [],
   "source": [
    "import asyncio\n",
    "from ipykernel.eventloops import register_integration\n",
    "import ipywidgets as widgets"
   ]
  },
  {
   "cell_type": "code",
   "execution_count": 5,
   "metadata": {},
   "outputs": [],
   "source": [
    "import ccxt.async as ccxt"
   ]
  },
  {
   "cell_type": "code",
   "execution_count": 2,
   "metadata": {},
   "outputs": [],
   "source": [
    "@register_integration('asyncio')\n",
    "def loop_asyncio(kernel):\n",
    "    '''Start a kernel with asyncio event loop support.'''\n",
    "    loop = asyncio.get_event_loop()\n",
    "\n",
    "    def kernel_handler():\n",
    "        loop.call_soon(kernel.do_one_iteration)\n",
    "        loop.call_later(kernel._poll_interval, kernel_handler)\n",
    "\n",
    "    loop.call_soon(kernel_handler)\n",
    "    try:\n",
    "        if not loop.is_running():\n",
    "            loop.run_forever()\n",
    "    finally:\n",
    "        loop.run_until_complete(loop.shutdown_asyncgens())\n",
    "        loop.close()\n",
    "        print('Stoping Loop')"
   ]
  },
  {
   "cell_type": "code",
   "execution_count": 3,
   "metadata": {},
   "outputs": [],
   "source": [
    "%gui asyncio"
   ]
  },
  {
   "cell_type": "code",
   "execution_count": 4,
   "metadata": {},
   "outputs": [],
   "source": [
    "def wait_for_change(widget, value):\n",
    "    future = asyncio.Future()\n",
    "    def getvalue(change):\n",
    "        # make the new value available\n",
    "        future.set_result(change.new)\n",
    "        widget.unobserve(getvalue, value)\n",
    "    widget.observe(getvalue, value)\n",
    "    return future"
   ]
  },
  {
   "cell_type": "code",
   "execution_count": 8,
   "metadata": {},
   "outputs": [
    {
     "data": {
      "text/plain": [
       "<Task pending coro=<f() running at <ipython-input-8-ef2e5dddd491>:1>>"
      ]
     },
     "execution_count": 8,
     "metadata": {},
     "output_type": "execute_result"
    }
   ],
   "source": [
    "async def f():\n",
    "    times_called = 0\n",
    "    # for i in range(10):\n",
    "    while True:\n",
    "        # print('did work %s'%times_called)\n",
    "        poloniex = ccxt.poloniex()\n",
    "        ticker = await poloniex.fetch_ticker('ETH/BTC')\n",
    "        # x = await wait_for_change(slider, 'value')\n",
    "        # y = await wait_for_change(text, 'value')\n",
    "        # a = await wait_for_change(accordion, 'value')\n",
    "        # print('Slider: {}'.format(x))\n",
    "        # print('Text: {}'.format(y))\n",
    "        print(ticker, end='\\r')\n",
    "        times_called += 1\n",
    "asyncio.ensure_future(f())"
   ]
  },
  {
   "cell_type": "code",
   "execution_count": 14,
   "metadata": {
    "scrolled": true
   },
   "outputs": [
    {
     "ename": "NameError",
     "evalue": "name 'times_called' is not defined",
     "output_type": "error",
     "traceback": [
      "\u001b[1;31m--------------------------------------------------\u001b[0m",
      "\u001b[1;31mNameError\u001b[0m        Traceback (most recent call last)",
      "\u001b[1;32m<ipython-input-14-97c9624cd58d>\u001b[0m in \u001b[0;36m<module>\u001b[1;34m()\u001b[0m\n\u001b[1;32m----> 1\u001b[1;33m \u001b[0mprint\u001b[0m\u001b[1;33m(\u001b[0m\u001b[0mtimes_called\u001b[0m\u001b[1;33m)\u001b[0m\u001b[1;33m\u001b[0m\u001b[0m\n\u001b[0m",
      "\u001b[1;31mNameError\u001b[0m: name 'times_called' is not defined"
     ]
    }
   ],
   "source": [
    "print(times_called)"
   ]
  },
  {
   "cell_type": "code",
   "execution_count": 1,
   "metadata": {},
   "outputs": [],
   "source": [
    "async def ticker_by_exchange(exchange='poloniex'):\n",
    "    this_exchange = eval('ccxt.{}({})'.format(exchange))\n",
    "    x = await this_exchange.fetch_tickers()\n",
    "    return x"
   ]
  },
  {
   "cell_type": "code",
   "execution_count": null,
   "metadata": {},
   "outputs": [],
   "source": [
    "for i in range(4):\n",
    "    sync = asyncio.get_event_loop().run_until_complete\n",
    "    # x = asyncio.get_event_loop().run_until_complete(print_poloniex_ethbtc_ticker())\n",
    "    x = sync(print_poloniex_ethbtc_ticker())\n",
    "    print(x)"
   ]
  }
 ],
 "metadata": {
  "kernelspec": {
   "display_name": "Python 3",
   "language": "python",
   "name": "python3"
  },
  "language_info": {
   "codemirror_mode": {
    "name": "ipython",
    "version": 3
   },
   "file_extension": ".py",
   "mimetype": "text/x-python",
   "name": "python",
   "nbconvert_exporter": "python",
   "pygments_lexer": "ipython3",
   "version": "3.6.3"
  },
  "toc": {
   "nav_menu": {},
   "number_sections": true,
   "sideBar": true,
   "skip_h1_title": false,
   "title_cell": "Table of Contents",
   "title_sidebar": "Contents",
   "toc_cell": false,
   "toc_position": {},
   "toc_section_display": true,
   "toc_window_display": false
  },
  "varInspector": {
   "cols": {
    "lenName": 16,
    "lenType": 16,
    "lenVar": 40
   },
   "kernels_config": {
    "python": {
     "delete_cmd_postfix": "",
     "delete_cmd_prefix": "del ",
     "library": "var_list.py",
     "varRefreshCmd": "print(var_dic_list())"
    },
    "r": {
     "delete_cmd_postfix": ") ",
     "delete_cmd_prefix": "rm(",
     "library": "var_list.r",
     "varRefreshCmd": "cat(var_dic_list()) "
    }
   },
   "types_to_exclude": [
    "module",
    "function",
    "builtin_function_or_method",
    "instance",
    "_Feature"
   ],
   "window_display": false
  }
 },
 "nbformat": 4,
 "nbformat_minor": 2
}
