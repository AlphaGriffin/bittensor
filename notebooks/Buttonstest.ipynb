{
 "cells": [
  {
   "cell_type": "code",
   "execution_count": null,
   "metadata": {},
   "outputs": [],
   "source": [
    "import asyncio\n",
    "from ipykernel.eventloops import register_integration\n",
    "import ipywidgets as widgets\n",
    "from IPython.display import display\n",
    "from notebook_utils import NotebookUtils as book"
   ]
  },
  {
   "cell_type": "code",
   "execution_count": null,
   "metadata": {},
   "outputs": [],
   "source": [
    "@register_integration('asyncio')\n",
    "def loop_asyncio(kernel):\n",
    "    '''Start a kernel with asyncio event loop support.'''\n",
    "    loop = asyncio.get_event_loop()\n",
    "\n",
    "    def kernel_handler():\n",
    "        loop.call_soon(kernel.do_one_iteration)\n",
    "        loop.call_later(kernel._poll_interval, kernel_handler)\n",
    "\n",
    "    loop.call_soon(kernel_handler)\n",
    "    try:\n",
    "        if not loop.is_running():\n",
    "            loop.run_forever()\n",
    "    finally:\n",
    "        loop.run_until_complete(loop.shutdown_asyncgens())\n",
    "        loop.close()\n",
    "        print('Stoping Loop')"
   ]
  },
  {
   "cell_type": "code",
   "execution_count": null,
   "metadata": {},
   "outputs": [],
   "source": [
    "%gui asyncio"
   ]
  },
  {
   "cell_type": "code",
   "execution_count": null,
   "metadata": {},
   "outputs": [],
   "source": [
    "def wait_for_change(widget, value):\n",
    "    future = asyncio.Future()\n",
    "    def getvalue(change):\n",
    "        # make the new value available\n",
    "        future.set_result(change.new)\n",
    "        widget.unobserve(getvalue, value)\n",
    "    widget.observe(getvalue, value)\n",
    "    return future"
   ]
  },
  {
   "cell_type": "code",
   "execution_count": null,
   "metadata": {},
   "outputs": [],
   "source": [
    "slider = widgets.IntSlider()\n",
    "text = widgets.Text()\n",
    "accordion = widgets.Accordion(children=[slider, text])\n",
    "accordion.set_title(0, 'Slider')\n",
    "accordion.set_title(1, 'Text')"
   ]
  },
  {
   "cell_type": "code",
   "execution_count": null,
   "metadata": {
    "scrolled": true
   },
   "outputs": [],
   "source": [
    "async def f():\n",
    "    times_called = 0\n",
    "    # for i in range(10):\n",
    "    while True:\n",
    "        # print('did work %s'%times_called)\n",
    "        x = await wait_for_change(slider, 'value')\n",
    "        y = await wait_for_change(text, 'value')\n",
    "        a = await wait_for_change(accordion, 'value')\n",
    "        print('Slider: {}'.format(x))\n",
    "        print('Text: {}'.format(y))\n",
    "        times_called += 1\n",
    "asyncio.ensure_future(f())\n",
    "display(accordion, slider)"
   ]
  },
  {
   "cell_type": "code",
   "execution_count": null,
   "metadata": {},
   "outputs": [],
   "source": []
  },
  {
   "cell_type": "code",
   "execution_count": null,
   "metadata": {
    "scrolled": true
   },
   "outputs": [],
   "source": [
    "print(slider.value)\n",
    "print(text.value)"
   ]
  },
  {
   "cell_type": "code",
   "execution_count": null,
   "metadata": {},
   "outputs": [],
   "source": [
    "backtester = widgets.Play(\n",
    "    value = 0,\n",
    "    min = 0,\n",
    "    max = 100,\n",
    "    step = 1,\n",
    "    description = \"Backtest\",\n",
    "    disabled = False\n",
    ")\n",
    "slid = widgets.IntSlider()\n",
    "widgets.jslink((backtester, 'value'), (slid, 'value'))\n",
    "row1 = widgets.HBox([backtester, slid])\n",
    "row2 = widgets.HBox([text])\n",
    "widgets.VBox([row1, row2])"
   ]
  },
  {
   "cell_type": "code",
   "execution_count": null,
   "metadata": {},
   "outputs": [],
   "source": []
  }
 ],
 "metadata": {
  "kernelspec": {
   "display_name": "Python 3",
   "language": "python",
   "name": "python3"
  },
  "language_info": {
   "codemirror_mode": {
    "name": "ipython",
    "version": 3
   },
   "file_extension": ".py",
   "mimetype": "text/x-python",
   "name": "python",
   "nbconvert_exporter": "python",
   "pygments_lexer": "ipython3",
   "version": "3.6.3"
  },
  "toc": {
   "nav_menu": {},
   "number_sections": true,
   "sideBar": true,
   "skip_h1_title": false,
   "title_cell": "Table of Contents",
   "title_sidebar": "Contents",
   "toc_cell": false,
   "toc_position": {},
   "toc_section_display": true,
   "toc_window_display": false
  },
  "varInspector": {
   "cols": {
    "lenName": 16,
    "lenType": 16,
    "lenVar": 40
   },
   "kernels_config": {
    "python": {
     "delete_cmd_postfix": "",
     "delete_cmd_prefix": "del ",
     "library": "var_list.py",
     "varRefreshCmd": "print(var_dic_list())"
    },
    "r": {
     "delete_cmd_postfix": ") ",
     "delete_cmd_prefix": "rm(",
     "library": "var_list.r",
     "varRefreshCmd": "cat(var_dic_list()) "
    }
   },
   "types_to_exclude": [
    "module",
    "function",
    "builtin_function_or_method",
    "instance",
    "_Feature"
   ],
   "window_display": false
  }
 },
 "nbformat": 4,
 "nbformat_minor": 2
}
