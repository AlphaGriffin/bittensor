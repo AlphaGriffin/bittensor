{
 "cells": [
  {
   "cell_type": "markdown",
   "metadata": {},
   "source": [
    "# MAKING THIS WORK"
   ]
  },
  {
   "cell_type": "code",
   "execution_count": null,
   "metadata": {},
   "outputs": [],
   "source": [
    "# Common Stuffs\n",
    "import os, sys, time, datetime, collections"
   ]
  },
  {
   "cell_type": "code",
   "execution_count": null,
   "metadata": {},
   "outputs": [],
   "source": [
    "# Tensorflow Stuffs\n",
    "import tensorflow as tf\n",
    "import pandas as pd\n",
    "from collections import deque\n",
    "import numpy as np\n",
    "import random"
   ]
  },
  {
   "cell_type": "code",
   "execution_count": null,
   "metadata": {},
   "outputs": [],
   "source": [
    "# import Finance Stuffs\n",
    "import ccxt"
   ]
  },
  {
   "cell_type": "code",
   "execution_count": null,
   "metadata": {},
   "outputs": [],
   "source": [
    "from plotter import Plot\n",
    "import plotter\n",
    "plotter.output_notebook()"
   ]
  },
  {
   "cell_type": "code",
   "execution_count": null,
   "metadata": {},
   "outputs": [],
   "source": [
    "from stock_env import StockEnv"
   ]
  },
  {
   "cell_type": "code",
   "execution_count": null,
   "metadata": {},
   "outputs": [],
   "source": [
    "from DQN_trade import DQN_Trade as bot"
   ]
  },
  {
   "cell_type": "code",
   "execution_count": null,
   "metadata": {},
   "outputs": [],
   "source": [
    "# show all exchanges that will give it up.\n",
    "if True:\n",
    "    for i in ccxt.exchanges:\n",
    "        this_exchange = eval('ccxt.{}()'.format(i))\n",
    "        if this_exchange.hasFetchOHLCV:\n",
    "            print(this_exchange.id)"
   ]
  },
  {
   "cell_type": "code",
   "execution_count": null,
   "metadata": {},
   "outputs": [],
   "source": [
    "def fix_time(df):\n",
    "    sLen = len(df['time'])\n",
    "    df['time_str'] = pd.Series(''*sLen)\n",
    "    for i, e in enumerate(df['time']):\n",
    "        print(e)\n",
    "        break\n",
    "        if e == 0:\n",
    "            df['time_str'][i] = 'NaN'\n",
    "            continue\n",
    "        realtime = int(int(e)/1000)\n",
    "        print('is {} -> {}'.format(e, realtime))\n",
    "        time = datetime.datetime.fromtimestamp(realtime) #.strftime('%Y-%m-%d %H:%M:%S')\n",
    "        time_str = datetime.datetime.fromtimestamp(realtime).strftime('|%Y-%m-%d %H:%M:%S|')\n",
    "        #print(time)\n",
    "        #df['time'][i] = time\n",
    "        df['time_str'][i] = time_str\n",
    "        \n",
    "    print('Changed to datetime format!')\n",
    "    return df"
   ]
  },
  {
   "cell_type": "code",
   "execution_count": null,
   "metadata": {
    "scrolled": true
   },
   "outputs": [],
   "source": [
    "# TESTING GET CHARTS FROM CCXT\n",
    "if False:\n",
    "    pair = 'BTC/USDT'\n",
    "    for e in ccxt.exchanges:\n",
    "        if 'poloniex' in e:\n",
    "            this_exchange = eval('ccxt.{}()'.format(e))\n",
    "            if this_exchange.hasFetchOHLCV:\n",
    "                time.sleep (this_exchange.rateLimit / 1000) # time.sleep wants seconds\n",
    "                print(this_exchange.id)\n",
    "                # NEED 2 CHARTS 1 for low time, 1 for High Times... lol\n",
    "                lowtime_chart = this_exchange.fetchOhlcv(pair, \n",
    "                                                         timeframe = '5m', \n",
    "                                                         since = int(1514764800), \n",
    "                                                         #limit = undefined, \n",
    "                                                         #params = {}\n",
    "                                                         )\n",
    "                df = fix_time(pd.DataFrame(lowtime_chart, columns=['time','open','high','low','close','vol']))\n",
    "                print('Elements in Dataset:', len(df))\n",
    "                print('Collected All Datasets')"
   ]
  },
  {
   "cell_type": "code",
   "execution_count": null,
   "metadata": {},
   "outputs": [],
   "source": [
    "pair = 'BTC/USDT'\n",
    "period = '5m'\n",
    "msec = 1000\n",
    "minute = 5 * 60 * msec\n",
    "hold = 30\n",
    "\n",
    "for e in ccxt.exchanges:\n",
    "    if 'poloniex' in e:\n",
    "        config = {'rateLimit': 3000,\n",
    "                  'enableRateLimit': True,\n",
    "                  #'verbose': True,\n",
    "                 }\n",
    "        exchange = this_exchange = eval('ccxt.{}({})'.format(e, config))\n",
    "        print('Searching Exchange: {} -> {}'.format(exchange.id, pair))\n",
    "        from_datetime = '2018-01-15 03:00:00'\n",
    "        from_timestamp = exchange.parse8601(from_datetime)\n",
    "        print(from_timestamp)\n",
    "        now = exchange.milliseconds()\n",
    "        \n",
    "        df = pd.DataFrame([(0,0,0,0,0,0)], columns=['time','open','high','low','close','vol'])\n",
    "        while from_timestamp < now:\n",
    "            try:\n",
    "                time.sleep (this_exchange.rateLimit / 1000) # time.sleep wants seconds\n",
    "                # print(exchange.milliseconds(), 'Fetching candles starting from', exchange.iso8601(from_timestamp))\n",
    "                print(\"Start Time: {}\".format(exchange.iso8601(from_timestamp)))\n",
    "                \n",
    "                #########\n",
    "                ohlcvs = exchange.fetch_ohlcv(pair, period, from_timestamp)\n",
    "                new_data = pd.DataFrame(ohlcvs, columns=['time','open','high','low','close','vol'])\n",
    "                print('Caught {} pokemons'.format(len(ohlcvs)))\n",
    "                timestamp_first_row = int(new_data.loc[0]['time'])\n",
    "                timestamp_last_row = int(new_data.loc[len(ohlcvs)-1]['time'])\n",
    "                print('timestamp first row: {} is {}'.format(timestamp_first_row, exchange.iso8601(timestamp_first_row)))\n",
    "                print('timestamp last row: {} is {}'.format(timestamp_last_row, exchange.iso8601(timestamp_last_row)))\n",
    "                from_timestamp = int(int(timestamp_last_row) + minute)\n",
    "                if len(new_data) > 0:\n",
    "                    df = df.append(new_data)\n",
    "                \n",
    "            except (ccxt.ExchangeError, ccxt.AuthenticationError, ccxt.ExchangeNotAvailable, ccxt.RequestTimeout) as error:\n",
    "                print('Got an error', type(error).__name__, error.args, ', retrying in', hold, 'seconds...')\n",
    "                time.sleep(30)\n",
    "        # AFTER COLLECTION BURN THE FIRST INDEX\n",
    "        df = df[1:]\n",
    "        df = fix_time(df)\n",
    "        # ... OTHER STUFFS\n",
    "        \n",
    "        #plot it\n",
    "        if True:\n",
    "            Plot.Plot_me(df)\n",
    "            \n",
    "        # print it\n",
    "        if True:\n",
    "            print(df.loc[0])\n",
    "            print(len(df))\n",
    "            \n",
    "        # Save it\n",
    "        if True:\n",
    "            df = df.drop(['time_str'], axis=1)\n",
    "            df.to_csv('./alphagriffin.csv', index=False, header=False)\n",
    "            print('Saved!')"
   ]
  },
  {
   "cell_type": "code",
   "execution_count": null,
   "metadata": {},
   "outputs": [],
   "source": [
    "# print(df)"
   ]
  },
  {
   "cell_type": "code",
   "execution_count": null,
   "metadata": {},
   "outputs": [],
   "source": [
    "a = 2 + 2"
   ]
  },
  {
   "cell_type": "code",
   "execution_count": null,
   "metadata": {},
   "outputs": [],
   "source": [
    "print(a)"
   ]
  },
  {
   "cell_type": "code",
   "execution_count": null,
   "metadata": {},
   "outputs": [],
   "source": [
    "# save dataframe to csv file\n",
    "cols = []\n",
    "for i in range(20):\n",
    "    cols.append('close_{}'.format(i))\n",
    "    cols.append('vol_{}'.format(i))\n",
    "\n",
    "working_df  = pd.DataFrame(columns=cols)\n",
    "for index in range(len(df)):\n",
    "    # start once we have 20 samples!\n",
    "    if index <= len(df) - 20:\n",
    "        \n",
    "        # we are using 20 data samples per line\n",
    "        dataline = []\n",
    "        for i in range(20):\n",
    "            time = df.loc[i+index]['time']\n",
    "            close = df.loc[i+index]['close']\n",
    "            vol = df.loc[i+index]['vol']\n",
    "            #print('{} | {} | close: {}, vol: {}'.format(i, exchange.iso8601(time), close, vol))\n",
    "            dataline.append(float(close))\n",
    "            dataline.append(float(vol))\n",
    "        new_df = pd.DataFrame([dataline], columns=cols)\n",
    "        working_df = working_df.append(new_df)"
   ]
  },
  {
   "cell_type": "code",
   "execution_count": null,
   "metadata": {},
   "outputs": [],
   "source": [
    "if False:\n",
    "    print(working_df)"
   ]
  },
  {
   "cell_type": "code",
   "execution_count": null,
   "metadata": {},
   "outputs": [],
   "source": [
    "working_np = working_df.as_matrix()"
   ]
  },
  {
   "cell_type": "code",
   "execution_count": null,
   "metadata": {},
   "outputs": [],
   "source": [
    "if False:\n",
    "    print(working_np)"
   ]
  },
  {
   "cell_type": "code",
   "execution_count": null,
   "metadata": {},
   "outputs": [],
   "source": [
    "# angent = DQN_Trade()  # edit\n",
    "Agent = bot()"
   ]
  },
  {
   "cell_type": "code",
   "execution_count": null,
   "metadata": {},
   "outputs": [],
   "source": [
    "# AFTER DATA IS BUILD\n",
    "# data = np.loadtxt('./alphagriffin.csv', delimiter = ',', skiprows=1)\n",
    "# data = data[230:-1]  #delete the first day data\n",
    "data = working_np"
   ]
  },
  {
   "cell_type": "code",
   "execution_count": null,
   "metadata": {},
   "outputs": [],
   "source": [
    "if False:\n",
    "    print(data)"
   ]
  },
  {
   "cell_type": "code",
   "execution_count": null,
   "metadata": {},
   "outputs": [],
   "source": [
    "if True:\n",
    "    for i in range(0, 10):\n",
    "        print(\"Round: {}\".format(i))\n",
    "        iters = int(len(data)/240)\n",
    "        print(\"iters: {}/round\".format(iters))\n",
    "        for iter_step in range(0, iters):\n",
    "            print(\"Iter step {}\".format(iter_step))\n",
    "            iter_data = data[\n",
    "                iter_step*240 : iter_step*240+240\n",
    "            ]\n",
    "            # build data set and reset to 0\n",
    "            env = StockEnv(iter_data)\n",
    "            s = env.reset()\n",
    "            \n",
    "            # until break\n",
    "            while True:\n",
    "                # first S is data 0 from first dataloop\n",
    "                # s is recycled from bottom of loop\n",
    "                action = Agent.egreedy_action(s)\n",
    "                \n",
    "                s_, reward, done = env.gostep(action)\n",
    "                #print (\"Action: {} | 0 = buy, 1 = sell\".format(action))\n",
    "                #print (\"Reward: {:.4f}\".format(reward))\n",
    "                # print (\"Current Price set: {}\".format(s_))\n",
    "                Agent.precive(s,action,reward,s_,done)\n",
    "                #print (\"Prediction made...\")\n",
    "                #print(\"Total Cash on hand?: {}\".format(env.cash))\n",
    "                s= s_\n",
    "                if done:\n",
    "                    # print(\"done\")\n",
    "                    print(\"Total Cash on hand?: {}\".format(env.cash))\n",
    "                    break\n",
    "            #break\n",
    "        #break\n",
    "        Agent.save_model(step=i)"
   ]
  }
 ],
 "metadata": {
  "kernelspec": {
   "display_name": "Python 3",
   "language": "python",
   "name": "python3"
  },
  "language_info": {
   "codemirror_mode": {
    "name": "ipython",
    "version": 3
   },
   "file_extension": ".py",
   "mimetype": "text/x-python",
   "name": "python",
   "nbconvert_exporter": "python",
   "pygments_lexer": "ipython3",
   "version": "3.6.3"
  },
  "toc": {
   "nav_menu": {},
   "number_sections": true,
   "sideBar": true,
   "skip_h1_title": false,
   "title_cell": "Table of Contents",
   "title_sidebar": "Contents",
   "toc_cell": false,
   "toc_position": {},
   "toc_section_display": true,
   "toc_window_display": false
  },
  "varInspector": {
   "cols": {
    "lenName": 16,
    "lenType": 16,
    "lenVar": 40
   },
   "kernels_config": {
    "python": {
     "delete_cmd_postfix": "",
     "delete_cmd_prefix": "del ",
     "library": "var_list.py",
     "varRefreshCmd": "print(var_dic_list())"
    },
    "r": {
     "delete_cmd_postfix": ") ",
     "delete_cmd_prefix": "rm(",
     "library": "var_list.r",
     "varRefreshCmd": "cat(var_dic_list()) "
    }
   },
   "types_to_exclude": [
    "module",
    "function",
    "builtin_function_or_method",
    "instance",
    "_Feature"
   ],
   "window_display": false
  }
 },
 "nbformat": 4,
 "nbformat_minor": 2
}
