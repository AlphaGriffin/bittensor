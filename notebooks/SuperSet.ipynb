{
 "cells": [
  {
   "cell_type": "code",
   "execution_count": null,
   "metadata": {},
   "outputs": [],
   "source": [
    "import pandas as pd\n",
    "import ccxt\n",
    "import time\n",
    "from timeit import default_timer as timer\n",
    "from matplotlib import pyplot\n",
    "from decimal import Decimal as D\n",
    "import numpy as np"
   ]
  },
  {
   "cell_type": "code",
   "execution_count": null,
   "metadata": {},
   "outputs": [],
   "source": [
    "this_exchange = ccxt.poloniex()"
   ]
  },
  {
   "cell_type": "code",
   "execution_count": null,
   "metadata": {},
   "outputs": [],
   "source": [
    "if False:\n",
    "    for i in POLO.__dict__:\n",
    "        if '__' not in i:\n",
    "            if 'fetch' in i:\n",
    "                print(i)"
   ]
  },
  {
   "cell_type": "code",
   "execution_count": null,
   "metadata": {},
   "outputs": [],
   "source": [
    "ticker = this_exchange.fetchTickers()"
   ]
  },
  {
   "cell_type": "code",
   "execution_count": null,
   "metadata": {
    "scrolled": false
   },
   "outputs": [],
   "source": [
    "coins_not_working = ['LTC/BTC', 'STR/BTC']\n",
    "coins_to_use = ['ETH/BTC', 'XRP/BTC', 'DASH/BTC' , 'XMR/BTC',\n",
    "                'BTS/BTC', 'DOGE/BTC', 'FCT/BTC', 'MAID/BTC', 'CLAM/BTC']\n",
    "coins_collected = []\n",
    "datasets = []\n",
    "min_len = 10000000\n",
    "start_data_gen = timer()\n",
    "for index, pair in enumerate(ticker):\n",
    "    if pair in coins_to_use:\n",
    "        if pair not in coins_collected:\n",
    "            print(pair)\n",
    "            # SLEEP!! DO NOT GET BANNED!\n",
    "            time.sleep (this_exchange.rateLimit / 400)\n",
    "            start_call = timer()\n",
    "            chart = this_exchange.fetchOhlcv(pair, \n",
    "                                             timeframe = '5m', # polo only offers the 5m\n",
    "                                             since = int(1515974400)\n",
    "                                             )\n",
    "            df = pd.DataFrame(\n",
    "                chart, \n",
    "                columns=['time','open','high','low','close','vol']\n",
    "            )\n",
    "            df.pair = pair\n",
    "            this_len = len(df)\n",
    "            if this_len < min_len:\n",
    "                min_len = this_len\n",
    "            print('Elements in Dataset:', this_len)\n",
    "            print('Downloading this coin took: {:.2f} secs'.format(timer()-start_call))\n",
    "            datasets.append(df)\n",
    "            coins_collected.append(pair)\n",
    "print('Min length of all sets is {} samples'.format(min_len))\n",
    "print('Collected All Datasets. Took {:.2f} mins'.format(timer()-start_data_gen/60))        "
   ]
  },
  {
   "cell_type": "code",
   "execution_count": null,
   "metadata": {},
   "outputs": [],
   "source": [
    "# the end time in all datasets is the same... so take the min_len to the end\n",
    "new_datasets = []\n",
    "for d in datasets:\n",
    "    pair = d.pair\n",
    "    this_len = len(d)\n",
    "    print(pair, this_len)\n",
    "    if this_len == min_len:\n",
    "        print('this is the lowest len df and not changing')\n",
    "        time_of_start = d['time'][0]\n",
    "        time_of_end = d['time'][len(d['time'])-1]\n",
    "        new_datasets.append(d) \n",
    "    elif this_len > min_len:\n",
    "        trim_section_start = len(d['time']) - min_len\n",
    "        time_of_start = d['time'][trim_section_start]\n",
    "        time_of_end = d['time'][len(d['time'])-1]\n",
    "        df = d[trim_section_start:]\n",
    "        df.pair = pair\n",
    "        new_datasets.append(df)    \n",
    "    print('Start of set {}'.format(time_of_start))\n",
    "    print('end of set {}'.format(time_of_end))\n",
    "    print('New set len {}'.format(len(df)))\n",
    "    "
   ]
  },
  {
   "cell_type": "code",
   "execution_count": null,
   "metadata": {},
   "outputs": [],
   "source": [
    "min_size = None\n",
    "\n",
    "for set_ in new_datasets:\n",
    "    size = len(set_)\n",
    "    if min_size is None or size < min_size:\n",
    "        min_size = size\n",
    "    print(set_.pair, size)"
   ]
  },
  {
   "cell_type": "code",
   "execution_count": null,
   "metadata": {},
   "outputs": [],
   "source": [
    "pyplot.figure()\n",
    "i = 1\n",
    "for set_ in new_datasets:\n",
    "    pyplot.subplot(len(new_datasets), 3, i)\n",
    "    pyplot.plot(set_['close'])\n",
    "    pyplot.axis('off')\n",
    "    pyplot.title(set_.pair, y=.75, loc='left')\n",
    "    i += 1\n",
    "pyplot.show()"
   ]
  },
  {
   "cell_type": "code",
   "execution_count": null,
   "metadata": {},
   "outputs": [],
   "source": [
    "# WHAT DO I WANT FOR COLUMNS!?!?!?!?!\n",
    "# Each input will have 20 values\n",
    "# input1 = [[last][vol][last -60 elements]]\n",
    "# input2 = [[low][high][mean*]]\n",
    "# input3 = [[bollinger high][bollinger low][mean**]]\n",
    "# ###\n",
    "# input4 = [[twitter sent][twittervol]]\n",
    "# ###\n",
    "# output1 = [time, time+1, time+2] # doesnt matter what the input all the outputs will be the same and averaged over"
   ]
  },
  {
   "cell_type": "code",
   "execution_count": null,
   "metadata": {
    "scrolled": true
   },
   "outputs": [],
   "source": [
    "for set_ in new_datasets:\n",
    "    print(set_.pair)"
   ]
  },
  {
   "cell_type": "code",
   "execution_count": null,
   "metadata": {
    "scrolled": true
   },
   "outputs": [],
   "source": [
    "cols = []\n",
    "for i in range(60):\n",
    "    cols.append('close_{}'.format(i))\n",
    "    cols.append('vol_{}'.format(i))\n",
    "print(cols)"
   ]
  },
  {
   "cell_type": "code",
   "execution_count": null,
   "metadata": {},
   "outputs": [],
   "source": [
    "working_df = pd.DataFrame(columns=cols)"
   ]
  },
  {
   "cell_type": "code",
   "execution_count": null,
   "metadata": {},
   "outputs": [],
   "source": [
    "def pack_rows(pairs, samples, count):\n",
    "    result = [] # rows of 1080 columns each (9 pairs * 2 variables * 60 historical samples)\n",
    "    \n",
    "    names = []\n",
    "    for p in range(len(pairs)):\n",
    "        for s in range(samples):\n",
    "            names.append(\"{}_close_{}\".format(p, s))\n",
    "            names.append(\"{}_vol_{}\".format(p, s))\n",
    "    print(names)\n",
    "    result.append(names)\n",
    "        \n",
    "    for r in range(samples, min_size): # we start at index samples - 1\n",
    "        columns = []\n",
    "        for p, rows in enumerate(pairs):\n",
    "            for s in range(samples):\n",
    "                columns.append(rows.iloc[r - s]['close'])\n",
    "                columns.append(rows.iloc[r - s]['vol'])\n",
    "        result.append(columns)\n",
    "    return result"
   ]
  },
  {
   "cell_type": "code",
   "execution_count": null,
   "metadata": {},
   "outputs": [],
   "source": [
    "superset = pack_rows(new_datasets, 60, min_size)\n",
    "print(len(superset))"
   ]
  },
  {
   "cell_type": "code",
   "execution_count": null,
   "metadata": {},
   "outputs": [],
   "source": [
    "# input1 = [[last][vol][1]]\n",
    "dataset = np.zeros((60, 60, len(new_datasets)))\n",
    "for index1, set_ in enumerate(new_datasets):\n",
    "    for index2 in range(len(set_)):\n",
    "        if index2 <= len(set_) - 60:\n",
    "            dataline = []\n",
    "            for i in range(60):\n",
    "                close = set_.loc[i + index2]['close']\n",
    "                vol = set_.loc[i + index2]['vol']\n",
    "            dataset[:,index2] = [close, vol, index1]              \n"
   ]
  },
  {
   "cell_type": "code",
   "execution_count": null,
   "metadata": {},
   "outputs": [],
   "source": [
    "df = new_datasets[2]"
   ]
  },
  {
   "cell_type": "code",
   "execution_count": null,
   "metadata": {},
   "outputs": [],
   "source": [
    "print(df.columns)"
   ]
  },
  {
   "cell_type": "code",
   "execution_count": null,
   "metadata": {},
   "outputs": [],
   "source": [
    "close = pd.Series(df['close'])"
   ]
  },
  {
   "cell_type": "code",
   "execution_count": null,
   "metadata": {},
   "outputs": [],
   "source": [
    "raw_values = close.values\n",
    "print(raw_values)"
   ]
  },
  {
   "cell_type": "code",
   "execution_count": null,
   "metadata": {},
   "outputs": [],
   "source": [
    "# create a differenced series\n",
    "def difference(dataset, interval=1):\n",
    "    diff = list()\n",
    "    for i in range(interval, len(dataset)):\n",
    "        # print(i - interval)\n",
    "        value = D(dataset[i]) - D(dataset[i - interval])\n",
    "        diff.append(value)\n",
    "    return pd.Series(diff)\n",
    "\n",
    "def inverse_difference(history, yhat, interval=1):\n",
    "    return yhat + history[interval-1]\n",
    "\n",
    "def undiff(dataset, diff, interval=1):\n",
    "    the_return = list()\n",
    "    for i, e in enumerate(diff):\n",
    "        if i >= interval:\n",
    "            last_val = dataset[i-interval]\n",
    "            next_val = D(last_val) + D(diff[i])\n",
    "            # assert next_val == dataset[i]\n",
    "            the_return.append(next_val)\n",
    "    return pd.Series(the_return)"
   ]
  },
  {
   "cell_type": "code",
   "execution_count": null,
   "metadata": {},
   "outputs": [],
   "source": [
    "diff_series = difference(close, 1)"
   ]
  },
  {
   "cell_type": "code",
   "execution_count": null,
   "metadata": {
    "scrolled": false
   },
   "outputs": [],
   "source": [
    "fixed_series = undiff(close, diff_series, 1)"
   ]
  },
  {
   "cell_type": "code",
   "execution_count": null,
   "metadata": {},
   "outputs": [],
   "source": [
    "print(fixed_series.head())"
   ]
  },
  {
   "cell_type": "code",
   "execution_count": null,
   "metadata": {
    "scrolled": true
   },
   "outputs": [],
   "source": [
    "inverted = list()\n",
    "for i in range(len(diff_series)):\n",
    "    value = inverse_difference(close, diff_series[i], len(diff_series)-i)\n",
    "    inverted.append(value)\n",
    "inverted = pd.Series(inverted)"
   ]
  },
  {
   "cell_type": "code",
   "execution_count": null,
   "metadata": {
    "scrolled": true
   },
   "outputs": [],
   "source": [
    "print(close.head())\n",
    "print(diff_series.head())\n",
    "print(inverted.head())"
   ]
  },
  {
   "cell_type": "code",
   "execution_count": null,
   "metadata": {},
   "outputs": [],
   "source": []
  }
 ],
 "metadata": {
  "kernelspec": {
   "display_name": "Python 3",
   "language": "python",
   "name": "python3"
  },
  "language_info": {
   "codemirror_mode": {
    "name": "ipython",
    "version": 3
   },
   "file_extension": ".py",
   "mimetype": "text/x-python",
   "name": "python",
   "nbconvert_exporter": "python",
   "pygments_lexer": "ipython3",
   "version": "3.6.3"
  },
  "toc": {
   "nav_menu": {},
   "number_sections": true,
   "sideBar": true,
   "skip_h1_title": false,
   "title_cell": "Table of Contents",
   "title_sidebar": "Contents",
   "toc_cell": false,
   "toc_position": {},
   "toc_section_display": true,
   "toc_window_display": false
  },
  "varInspector": {
   "cols": {
    "lenName": 16,
    "lenType": 16,
    "lenVar": 40
   },
   "kernels_config": {
    "python": {
     "delete_cmd_postfix": "",
     "delete_cmd_prefix": "del ",
     "library": "var_list.py",
     "varRefreshCmd": "print(var_dic_list())"
    },
    "r": {
     "delete_cmd_postfix": ") ",
     "delete_cmd_prefix": "rm(",
     "library": "var_list.r",
     "varRefreshCmd": "cat(var_dic_list()) "
    }
   },
   "types_to_exclude": [
    "module",
    "function",
    "builtin_function_or_method",
    "instance",
    "_Feature"
   ],
   "window_display": false
  }
 },
 "nbformat": 4,
 "nbformat_minor": 2
}
