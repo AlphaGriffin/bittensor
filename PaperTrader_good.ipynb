{
 "cells": [
  {
   "cell_type": "code",
   "execution_count": 1,
   "metadata": {},
   "outputs": [],
   "source": [
    "# TODO:: Need to backfill inputdata with last good number"
   ]
  },
  {
   "cell_type": "code",
   "execution_count": 2,
   "metadata": {},
   "outputs": [
    {
     "name": "stdout",
     "output_type": "stream",
     "text": [
      "Populating the interactive namespace from numpy and matplotlib\n"
     ]
    }
   ],
   "source": [
    "%matplotlib inline\n",
    "%pylab inline\n",
    "import os, time, datetime\n",
    "if False:\n",
    "    from timeit import default_timer as timer\n",
    "    from tqdm import tnrange, tqdm_notebook\n",
    "\n",
    "    import ag.bittensor.utils.options as options\n",
    "    import ag.bittensor.game.stats as stats\n",
    "    import ag.bittensor.ai.make_data as make_data\n",
    "\n",
    "    # strategies\n",
    "    from ag.bittensor.strategy.macd import *\n",
    "\n",
    "    import pandas as pd\n",
    "    import numpy as np\n",
    "\n",
    "    import matplotlib.pyplot as plt\n",
    "    import matplotlib.dates as mdates\n",
    "    from matplotlib.finance import candlestick_ohlc\n",
    "    from matplotlib.finance import volume_overlay\n",
    "    from matplotlib.dates import (MONDAY, DateFormatter, MonthLocator,\n",
    "                                  WeekdayLocator, date2num)\n",
    "    import matplotlib.cbook as cbook\n",
    "    import matplotlib.image as image\n",
    "    pylab.rcParams['figure.figsize'] = (21, 21)\n",
    "\n",
    "    import ag.bittensor.utils.grapher as g"
   ]
  },
  {
   "cell_type": "code",
   "execution_count": 3,
   "metadata": {},
   "outputs": [],
   "source": [
    "import ag.bittensor.utils.options as options\n",
    "from paper import Signals, Engine\n",
    "\n",
    "import pandas as pd\n",
    "import numpy as np"
   ]
  },
  {
   "cell_type": "code",
   "execution_count": 4,
   "metadata": {},
   "outputs": [
    {
     "name": "stdout",
     "output_type": "stream",
     "text": [
      "|~|                                           Starting FauxTrader                                            |~|\n"
     ]
    }
   ],
   "source": [
    "config = options.Options('config/access_codes.yaml')\n",
    "game = Engine(config)\n",
    "signals = Signals()"
   ]
  },
  {
   "cell_type": "code",
   "execution_count": 5,
   "metadata": {},
   "outputs": [],
   "source": [
    "#!!  GAME OPTIONS  !!#\n",
    "# moving averages\n",
    "game.slow_period = 42\n",
    "game.fast_period = 21\n",
    "# momentum ... int works... does a timeref???\n",
    "game.mom_period = 10\n",
    "# time frame for candles... int works so does timeref... ie. 5T... T for mins\n",
    "game.time_frame = '1H'\n",
    "# Sorting the volume feels right.... High, Low, Banded, None\n",
    "game.volume_sort = 'High' \n",
    "# if volume sort then use band high/low\n",
    "game.vol_band_high = 1333\n",
    "game.vol_band_low = 13"
   ]
  },
  {
   "cell_type": "code",
   "execution_count": 10,
   "metadata": {
    "scrolled": true
   },
   "outputs": [
    {
     "name": "stderr",
     "output_type": "stream",
     "text": [
      "  0%|                                                                                   | 0/270 [00:00<?, ?it/s]\n"
     ]
    },
    {
     "ename": "ValueError",
     "evalue": "too many values to unpack (expected 2)",
     "output_type": "error",
     "traceback": [
      "\u001b[1;31m---------------------------------------------------------------------------\u001b[0m",
      "\u001b[1;31mValueError\u001b[0m                                Traceback (most recent call last)",
      "\u001b[1;32m<ipython-input-10-b625f2694406>\u001b[0m in \u001b[0;36m<module>\u001b[1;34m()\u001b[0m\n\u001b[1;32m----> 1\u001b[1;33m \u001b[0mgame\u001b[0m\u001b[1;33m.\u001b[0m\u001b[0mmain\u001b[0m\u001b[1;33m(\u001b[0m\u001b[1;33m[\u001b[0m\u001b[1;34m'mom'\u001b[0m\u001b[1;33m]\u001b[0m\u001b[1;33m)\u001b[0m\u001b[1;33m\u001b[0m\u001b[0m\n\u001b[0m",
      "\u001b[1;32m~\\OneDrive\\git\\bittensor\\paper.py\u001b[0m in \u001b[0;36mmain\u001b[1;34m(self, signal)\u001b[0m\n\u001b[0;32m    180\u001b[0m                             \u001b[0mself\u001b[0m\u001b[1;33m.\u001b[0m\u001b[0mdatasmith\u001b[0m\u001b[1;33m,\u001b[0m\u001b[1;33m\u001b[0m\u001b[0m\n\u001b[0;32m    181\u001b[0m                             \u001b[0mmom\u001b[0m\u001b[1;33m=\u001b[0m\u001b[0mself\u001b[0m\u001b[1;33m.\u001b[0m\u001b[0mmom_period\u001b[0m\u001b[1;33m,\u001b[0m\u001b[1;33m\u001b[0m\u001b[0m\n\u001b[1;32m--> 182\u001b[1;33m                             \u001b[0mperiod\u001b[0m \u001b[1;33m=\u001b[0m \u001b[0mself\u001b[0m\u001b[1;33m.\u001b[0m\u001b[0mtime_frame\u001b[0m\u001b[1;33m\u001b[0m\u001b[0m\n\u001b[0m\u001b[0;32m    183\u001b[0m                         )\n\u001b[0;32m    184\u001b[0m \u001b[1;33m\u001b[0m\u001b[0m\n",
      "\u001b[1;32m~\\OneDrive\\git\\bittensor\\paper.py\u001b[0m in \u001b[0;36mmomentum_signals\u001b[1;34m(Smith, mom, period)\u001b[0m\n\u001b[0;32m     82\u001b[0m         \u001b[0mSmith\u001b[0m\u001b[1;33m.\u001b[0m\u001b[0mcandles\u001b[0m \u001b[1;33m=\u001b[0m \u001b[0mperiod\u001b[0m\u001b[1;33m\u001b[0m\u001b[0m\n\u001b[0;32m     83\u001b[0m         \u001b[0mcandles\u001b[0m \u001b[1;33m=\u001b[0m \u001b[0mSmith\u001b[0m\u001b[1;33m.\u001b[0m\u001b[0mcandles\u001b[0m\u001b[1;33m\u001b[0m\u001b[0m\n\u001b[1;32m---> 84\u001b[1;33m         \u001b[0m_\u001b[0m\u001b[1;33m,\u001b[0m \u001b[0mx\u001b[0m \u001b[1;33m=\u001b[0m \u001b[0mTA\u001b[0m\u001b[1;33m.\u001b[0m\u001b[0mMOM\u001b[0m\u001b[1;33m(\u001b[0m\u001b[0mcandles\u001b[0m\u001b[1;33m,\u001b[0m \u001b[0mmom\u001b[0m\u001b[1;33m,\u001b[0m \u001b[1;34m'Close'\u001b[0m\u001b[1;33m)\u001b[0m\u001b[1;33m\u001b[0m\u001b[0m\n\u001b[0m\u001b[0;32m     85\u001b[0m         \u001b[0mx\u001b[0m\u001b[1;33m[\u001b[0m\u001b[1;34m'Momentum_regime'\u001b[0m\u001b[1;33m]\u001b[0m \u001b[1;33m=\u001b[0m \u001b[0mnp\u001b[0m\u001b[1;33m.\u001b[0m\u001b[0mwhere\u001b[0m\u001b[1;33m(\u001b[0m\u001b[0mx\u001b[0m\u001b[1;33m[\u001b[0m\u001b[1;34m'Momentum_Close_{}'\u001b[0m\u001b[1;33m.\u001b[0m\u001b[0mformat\u001b[0m\u001b[1;33m(\u001b[0m\u001b[0mmom\u001b[0m\u001b[1;33m)\u001b[0m\u001b[1;33m]\u001b[0m \u001b[1;33m>\u001b[0m \u001b[0mx\u001b[0m\u001b[1;33m[\u001b[0m\u001b[1;34m'Close'\u001b[0m\u001b[1;33m]\u001b[0m\u001b[1;33m*\u001b[0m\u001b[1;36m0.01\u001b[0m\u001b[1;33m,\u001b[0m \u001b[1;36m1\u001b[0m\u001b[1;33m,\u001b[0m \u001b[1;36m0\u001b[0m\u001b[1;33m)\u001b[0m\u001b[1;33m\u001b[0m\u001b[0m\n\u001b[0;32m     86\u001b[0m         \u001b[0mx\u001b[0m\u001b[1;33m[\u001b[0m\u001b[1;34m'Momentum_regime'\u001b[0m\u001b[1;33m]\u001b[0m \u001b[1;33m=\u001b[0m \u001b[0mnp\u001b[0m\u001b[1;33m.\u001b[0m\u001b[0mwhere\u001b[0m\u001b[1;33m(\u001b[0m\u001b[0mx\u001b[0m\u001b[1;33m[\u001b[0m\u001b[1;34m'Momentum_Close_{}'\u001b[0m\u001b[1;33m.\u001b[0m\u001b[0mformat\u001b[0m\u001b[1;33m(\u001b[0m\u001b[0mmom\u001b[0m\u001b[1;33m)\u001b[0m\u001b[1;33m]\u001b[0m \u001b[1;33m<\u001b[0m \u001b[1;33m-\u001b[0m\u001b[0mx\u001b[0m\u001b[1;33m[\u001b[0m\u001b[1;34m'Close'\u001b[0m\u001b[1;33m]\u001b[0m\u001b[1;33m*\u001b[0m\u001b[1;36m0.01\u001b[0m\u001b[1;33m,\u001b[0m \u001b[1;33m-\u001b[0m\u001b[1;36m1\u001b[0m\u001b[1;33m,\u001b[0m \u001b[0mx\u001b[0m\u001b[1;33m[\u001b[0m\u001b[1;34m'Momentum_regime'\u001b[0m\u001b[1;33m]\u001b[0m\u001b[1;33m)\u001b[0m\u001b[1;33m\u001b[0m\u001b[0m\n",
      "\u001b[1;31mValueError\u001b[0m: too many values to unpack (expected 2)"
     ]
    }
   ],
   "source": [
    "game.main(['mom'])"
   ]
  },
  {
   "cell_type": "code",
   "execution_count": 8,
   "metadata": {},
   "outputs": [],
   "source": [
    "# "
   ]
  },
  {
   "cell_type": "code",
   "execution_count": null,
   "metadata": {},
   "outputs": [],
   "source": [
    "#MOM = pd.Series(\n",
    "#            x['Close'].diff(5),\n",
    "#            name=\"Momentum_test\"\n",
    "\n",
    "#        ).rolling(5).mean()"
   ]
  },
  {
   "cell_type": "code",
   "execution_count": null,
   "metadata": {},
   "outputs": [],
   "source": [
    "x = game.candles\n",
    "show_candles = 150\n",
    "x['Momentum_regime'] = np.where(x['Momentum_Close_10'] > x['Close']*0.01, 1, 0)\n",
    "x['Momentum_regime'] = np.where(x['Momentum_Close_10'] < -x['Close']*0.01, -1, x['Momentum_regime'])\n",
    "x['Momentum_signal'] = x['Momentum_regime'] - x['Momentum_regime'].shift(1)\n",
    "x['Close'].pct_change(12).cumsum()[-show_candles:].plot(grid=True)  # .axhline(y = x['Close'].mean(), color = \"black\", lw = 2)\n",
    "# x['Close'].pct_change(42)[-show_candles:].plot(grid=True)  # .axhline(y = x['Close'].pct_change(12).mean(), color = \"black\", lw = 2)\n",
    "\n",
    "#x['Close'].pct_change(12).cumsum().diff(7).apply(lambda x:np.pi*x**2)[-show_candles:].plot(grid=True)  # .axhline(y = x['Close'].pct_change(12).diff(7).apply(lambda x:np.pi*x**2).mean(), color = \"black\", lw = 2)\n",
    "x['Close'].pct_change(26).cumsum().diff(7).apply(lambda x:np.pi*x**2)[-show_candles:].plot(grid=True).axhline(y = x['Close'].pct_change(12).diff(7).apply(lambda x:np.pi*x**2).mean(), color = \"black\", lw = 2)\n",
    "\n",
    "# x['Momentum_Close_10'].pct_change(12).plot(grid=True).axhline(y = x['Momentum_Close_10'].pct_change(12).mean(), color = \"black\", lw = 2)"
   ]
  },
  {
   "cell_type": "code",
   "execution_count": null,
   "metadata": {},
   "outputs": [],
   "source": [
    "x['Close'].pct_change(26).cumsum().diff(7).apply(lambda x:np.pi*x**2)[-show_candles:].plot(grid=True).axhline(y = x['Close'].pct_change(12).diff(7).apply(lambda x:np.pi*x**2).mean(), color = \"black\", lw = 2)"
   ]
  },
  {
   "cell_type": "code",
   "execution_count": null,
   "metadata": {},
   "outputs": [],
   "source": [
    "price = x['Close'].iloc[-1]"
   ]
  },
  {
   "cell_type": "code",
   "execution_count": null,
   "metadata": {},
   "outputs": [],
   "source": [
    "print(np.cos(price))"
   ]
  },
  {
   "cell_type": "code",
   "execution_count": null,
   "metadata": {},
   "outputs": [],
   "source": [
    "x = [x for x in range(14)]"
   ]
  },
  {
   "cell_type": "code",
   "execution_count": null,
   "metadata": {},
   "outputs": [],
   "source": [
    "df = "
   ]
  }
 ],
 "metadata": {
  "kernelspec": {
   "display_name": "Python 3",
   "language": "python",
   "name": "python3"
  },
  "language_info": {
   "codemirror_mode": {
    "name": "ipython",
    "version": 3
   },
   "file_extension": ".py",
   "mimetype": "text/x-python",
   "name": "python",
   "nbconvert_exporter": "python",
   "pygments_lexer": "ipython3",
   "version": "3.6.3"
  },
  "toc": {
   "nav_menu": {},
   "number_sections": true,
   "sideBar": true,
   "skip_h1_title": false,
   "title_cell": "Table of Contents",
   "title_sidebar": "Contents",
   "toc_cell": false,
   "toc_position": {},
   "toc_section_display": true,
   "toc_window_display": false
  },
  "varInspector": {
   "cols": {
    "lenName": 16,
    "lenType": 16,
    "lenVar": 40
   },
   "kernels_config": {
    "python": {
     "delete_cmd_postfix": "",
     "delete_cmd_prefix": "del ",
     "library": "var_list.py",
     "varRefreshCmd": "print(var_dic_list())"
    },
    "r": {
     "delete_cmd_postfix": ") ",
     "delete_cmd_prefix": "rm(",
     "library": "var_list.r",
     "varRefreshCmd": "cat(var_dic_list()) "
    }
   },
   "types_to_exclude": [
    "module",
    "function",
    "builtin_function_or_method",
    "instance",
    "_Feature"
   ],
   "window_display": false
  }
 },
 "nbformat": 4,
 "nbformat_minor": 2
}
